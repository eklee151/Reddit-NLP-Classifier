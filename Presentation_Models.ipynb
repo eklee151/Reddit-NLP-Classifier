{
 "cells": [
  {
   "cell_type": "code",
   "execution_count": 10,
   "metadata": {},
   "outputs": [],
   "source": [
    "# Standards\n",
    "import pandas as pd\n",
    "import numpy as np\n",
    "import matplotlib.pyplot as plt\n",
    "import seaborn as sns\n",
    "\n",
    "# Preprocessing\n",
    "from sklearn.feature_extraction.text import CountVectorizer, TfidfVectorizer\n",
    "from nltk.stem import WordNetLemmatizer\n",
    "\n",
    "# Modeling\n",
    "from sklearn.linear_model import LogisticRegression\n",
    "from sklearn.naive_bayes import MultinomialNB\n",
    "from sklearn.metrics import plot_confusion_matrix\n",
    "from sklearn.model_selection import train_test_split"
   ]
  },
  {
   "cell_type": "markdown",
   "metadata": {},
   "source": [
    "**Please Note: EDA & Data Collection took place in Basic Modeling Notebook**"
   ]
  },
  {
   "cell_type": "code",
   "execution_count": 2,
   "metadata": {},
   "outputs": [
    {
     "data": {
      "text/html": [
       "<div>\n",
       "<style scoped>\n",
       "    .dataframe tbody tr th:only-of-type {\n",
       "        vertical-align: middle;\n",
       "    }\n",
       "\n",
       "    .dataframe tbody tr th {\n",
       "        vertical-align: top;\n",
       "    }\n",
       "\n",
       "    .dataframe thead th {\n",
       "        text-align: right;\n",
       "    }\n",
       "</style>\n",
       "<table border=\"1\" class=\"dataframe\">\n",
       "  <thead>\n",
       "    <tr style=\"text-align: right;\">\n",
       "      <th></th>\n",
       "      <th>title</th>\n",
       "      <th>created_utc</th>\n",
       "      <th>selftext</th>\n",
       "      <th>subreddit</th>\n",
       "      <th>author</th>\n",
       "      <th>media_only</th>\n",
       "      <th>permalink</th>\n",
       "    </tr>\n",
       "  </thead>\n",
       "  <tbody>\n",
       "    <tr>\n",
       "      <th>0</th>\n",
       "      <td>Being rude and selfish does not help career pr...</td>\n",
       "      <td>1598916128</td>\n",
       "      <td></td>\n",
       "      <td>science</td>\n",
       "      <td>HigherEdAvenger</td>\n",
       "      <td>False</td>\n",
       "      <td>/r/science/comments/ik91e0/being_rude_and_self...</td>\n",
       "    </tr>\n",
       "    <tr>\n",
       "      <th>1</th>\n",
       "      <td>How NASA and Chandrayaan discovered water on t...</td>\n",
       "      <td>1598911189</td>\n",
       "      <td></td>\n",
       "      <td>science</td>\n",
       "      <td>7rillionaire</td>\n",
       "      <td>False</td>\n",
       "      <td>/r/science/comments/ik7lte/how_nasa_and_chandr...</td>\n",
       "    </tr>\n",
       "    <tr>\n",
       "      <th>2</th>\n",
       "      <td>Microbiome Analysis: Which Microbiome test is ...</td>\n",
       "      <td>1598911170</td>\n",
       "      <td></td>\n",
       "      <td>science</td>\n",
       "      <td>Baron_ess</td>\n",
       "      <td>False</td>\n",
       "      <td>/r/science/comments/ik7lls/microbiome_analysis...</td>\n",
       "    </tr>\n",
       "    <tr>\n",
       "      <th>3</th>\n",
       "      <td>Study suggests religious belief does not confl...</td>\n",
       "      <td>1598910315</td>\n",
       "      <td></td>\n",
       "      <td>science</td>\n",
       "      <td>CremationLily</td>\n",
       "      <td>False</td>\n",
       "      <td>/r/science/comments/ik7cfe/study_suggests_reli...</td>\n",
       "    </tr>\n",
       "    <tr>\n",
       "      <th>4</th>\n",
       "      <td>Space telescope using the Earth atmosphere as ...</td>\n",
       "      <td>1598910274</td>\n",
       "      <td></td>\n",
       "      <td>science</td>\n",
       "      <td>KindlySecret8</td>\n",
       "      <td>False</td>\n",
       "      <td>/r/science/comments/ik7byl/space_telescope_usi...</td>\n",
       "    </tr>\n",
       "  </tbody>\n",
       "</table>\n",
       "</div>"
      ],
      "text/plain": [
       "                                               title  created_utc selftext  \\\n",
       "0  Being rude and selfish does not help career pr...   1598916128            \n",
       "1  How NASA and Chandrayaan discovered water on t...   1598911189            \n",
       "2  Microbiome Analysis: Which Microbiome test is ...   1598911170            \n",
       "3  Study suggests religious belief does not confl...   1598910315            \n",
       "4  Space telescope using the Earth atmosphere as ...   1598910274            \n",
       "\n",
       "  subreddit           author  media_only  \\\n",
       "0   science  HigherEdAvenger       False   \n",
       "1   science     7rillionaire       False   \n",
       "2   science        Baron_ess       False   \n",
       "3   science    CremationLily       False   \n",
       "4   science    KindlySecret8       False   \n",
       "\n",
       "                                           permalink  \n",
       "0  /r/science/comments/ik91e0/being_rude_and_self...  \n",
       "1  /r/science/comments/ik7lte/how_nasa_and_chandr...  \n",
       "2  /r/science/comments/ik7lls/microbiome_analysis...  \n",
       "3  /r/science/comments/ik7cfe/study_suggests_reli...  \n",
       "4  /r/science/comments/ik7byl/space_telescope_usi...  "
      ]
     },
     "execution_count": 2,
     "metadata": {},
     "output_type": "execute_result"
    }
   ],
   "source": [
    "# import data for subreddits\n",
    "all_posts = pd.read_csv('./data/all.csv', index_col=[0], keep_default_na=False)\n",
    "all_posts.head()"
   ]
  },
  {
   "cell_type": "code",
   "execution_count": 49,
   "metadata": {},
   "outputs": [
    {
     "name": "stdout",
     "output_type": "stream",
     "text": [
      "<class 'pandas.core.frame.DataFrame'>\n",
      "Int64Index: 10000 entries, 0 to 99\n",
      "Data columns (total 7 columns):\n",
      " #   Column       Non-Null Count  Dtype \n",
      "---  ------       --------------  ----- \n",
      " 0   title        10000 non-null  object\n",
      " 1   created_utc  10000 non-null  int64 \n",
      " 2   selftext     10000 non-null  object\n",
      " 3   subreddit    10000 non-null  object\n",
      " 4   author       10000 non-null  object\n",
      " 5   media_only   10000 non-null  bool  \n",
      " 6   permalink    10000 non-null  object\n",
      "dtypes: bool(1), int64(1), object(5)\n",
      "memory usage: 556.6+ KB\n"
     ]
    }
   ],
   "source": [
    "all_posts.info()"
   ]
  },
  {
   "cell_type": "code",
   "execution_count": 50,
   "metadata": {},
   "outputs": [
    {
     "data": {
      "text/plain": [
       "title          0\n",
       "created_utc    0\n",
       "selftext       0\n",
       "subreddit      0\n",
       "author         0\n",
       "media_only     0\n",
       "permalink      0\n",
       "dtype: int64"
      ]
     },
     "execution_count": 50,
     "metadata": {},
     "output_type": "execute_result"
    }
   ],
   "source": [
    "all_posts.isna().sum()"
   ]
  },
  {
   "cell_type": "code",
   "execution_count": 210,
   "metadata": {},
   "outputs": [
    {
     "data": {
      "text/html": [
       "<div>\n",
       "<style scoped>\n",
       "    .dataframe tbody tr th:only-of-type {\n",
       "        vertical-align: middle;\n",
       "    }\n",
       "\n",
       "    .dataframe tbody tr th {\n",
       "        vertical-align: top;\n",
       "    }\n",
       "\n",
       "    .dataframe thead th {\n",
       "        text-align: right;\n",
       "    }\n",
       "</style>\n",
       "<table border=\"1\" class=\"dataframe\">\n",
       "  <thead>\n",
       "    <tr style=\"text-align: right;\">\n",
       "      <th></th>\n",
       "      <th>title</th>\n",
       "      <th>created_utc</th>\n",
       "      <th>selftext</th>\n",
       "      <th>subreddit</th>\n",
       "      <th>author</th>\n",
       "      <th>media_only</th>\n",
       "      <th>permalink</th>\n",
       "    </tr>\n",
       "  </thead>\n",
       "  <tbody>\n",
       "    <tr>\n",
       "      <th>0</th>\n",
       "      <td>Mozilla research: Browsing histories are uniqu...</td>\n",
       "      <td>1598916394</td>\n",
       "      <td></td>\n",
       "      <td>technology</td>\n",
       "      <td>janjinx</td>\n",
       "      <td>False</td>\n",
       "      <td>/r/technology/comments/ik94cu/mozilla_research...</td>\n",
       "    </tr>\n",
       "    <tr>\n",
       "      <th>0</th>\n",
       "      <td>Being rude and selfish does not help career pr...</td>\n",
       "      <td>1598916128</td>\n",
       "      <td></td>\n",
       "      <td>science</td>\n",
       "      <td>HigherEdAvenger</td>\n",
       "      <td>False</td>\n",
       "      <td>/r/science/comments/ik91e0/being_rude_and_self...</td>\n",
       "    </tr>\n",
       "  </tbody>\n",
       "</table>\n",
       "</div>"
      ],
      "text/plain": [
       "                                               title  created_utc selftext  \\\n",
       "0  Mozilla research: Browsing histories are uniqu...   1598916394            \n",
       "0  Being rude and selfish does not help career pr...   1598916128            \n",
       "\n",
       "    subreddit           author  media_only  \\\n",
       "0  technology          janjinx       False   \n",
       "0     science  HigherEdAvenger       False   \n",
       "\n",
       "                                           permalink  \n",
       "0  /r/technology/comments/ik94cu/mozilla_research...  \n",
       "0  /r/science/comments/ik91e0/being_rude_and_self...  "
      ]
     },
     "execution_count": 210,
     "metadata": {},
     "output_type": "execute_result"
    }
   ],
   "source": [
    "# wanted to check the latest my data was collected\n",
    "all_posts.nlargest(n = 2, columns=['created_utc'])"
   ]
  },
  {
   "cell_type": "code",
   "execution_count": 209,
   "metadata": {},
   "outputs": [
    {
     "data": {
      "text/html": [
       "<div>\n",
       "<style scoped>\n",
       "    .dataframe tbody tr th:only-of-type {\n",
       "        vertical-align: middle;\n",
       "    }\n",
       "\n",
       "    .dataframe tbody tr th {\n",
       "        vertical-align: top;\n",
       "    }\n",
       "\n",
       "    .dataframe thead th {\n",
       "        text-align: right;\n",
       "    }\n",
       "</style>\n",
       "<table border=\"1\" class=\"dataframe\">\n",
       "  <thead>\n",
       "    <tr style=\"text-align: right;\">\n",
       "      <th></th>\n",
       "      <th>title</th>\n",
       "      <th>created_utc</th>\n",
       "      <th>selftext</th>\n",
       "      <th>subreddit</th>\n",
       "      <th>author</th>\n",
       "      <th>media_only</th>\n",
       "      <th>permalink</th>\n",
       "    </tr>\n",
       "  </thead>\n",
       "  <tbody>\n",
       "    <tr>\n",
       "      <th>99</th>\n",
       "      <td>A Combination of Ivermectin and Doxycycline Po...</td>\n",
       "      <td>1594317775</td>\n",
       "      <td></td>\n",
       "      <td>science</td>\n",
       "      <td>TrumpLyftAlles</td>\n",
       "      <td>False</td>\n",
       "      <td>/r/science/comments/ho7x00/a_combination_of_iv...</td>\n",
       "    </tr>\n",
       "    <tr>\n",
       "      <th>98</th>\n",
       "      <td>Growth failure in preterm infants tied to alte...</td>\n",
       "      <td>1594317786</td>\n",
       "      <td></td>\n",
       "      <td>science</td>\n",
       "      <td>InfinityB_mc</td>\n",
       "      <td>False</td>\n",
       "      <td>/r/science/comments/ho7x3i/growth_failure_in_p...</td>\n",
       "    </tr>\n",
       "  </tbody>\n",
       "</table>\n",
       "</div>"
      ],
      "text/plain": [
       "                                                title  created_utc selftext  \\\n",
       "99  A Combination of Ivermectin and Doxycycline Po...   1594317775            \n",
       "98  Growth failure in preterm infants tied to alte...   1594317786            \n",
       "\n",
       "   subreddit          author  media_only  \\\n",
       "99   science  TrumpLyftAlles       False   \n",
       "98   science    InfinityB_mc       False   \n",
       "\n",
       "                                            permalink  \n",
       "99  /r/science/comments/ho7x00/a_combination_of_iv...  \n",
       "98  /r/science/comments/ho7x3i/growth_failure_in_p...  "
      ]
     },
     "execution_count": 209,
     "metadata": {},
     "output_type": "execute_result"
    }
   ],
   "source": [
    "# wanted to check the earliest my data was collected\n",
    "all_posts.nsmallest(n = 2, columns=['created_utc'])"
   ]
  },
  {
   "cell_type": "code",
   "execution_count": 3,
   "metadata": {},
   "outputs": [],
   "source": [
    "X = all_posts['title']\n",
    "y = all_posts['subreddit']"
   ]
  },
  {
   "cell_type": "code",
   "execution_count": 4,
   "metadata": {},
   "outputs": [
    {
     "data": {
      "text/plain": [
       "(10000,)"
      ]
     },
     "execution_count": 4,
     "metadata": {},
     "output_type": "execute_result"
    }
   ],
   "source": [
    "X.shape"
   ]
  },
  {
   "cell_type": "code",
   "execution_count": 5,
   "metadata": {},
   "outputs": [
    {
     "data": {
      "text/plain": [
       "(10000,)"
      ]
     },
     "execution_count": 5,
     "metadata": {},
     "output_type": "execute_result"
    }
   ],
   "source": [
    "y.shape"
   ]
  },
  {
   "cell_type": "code",
   "execution_count": 6,
   "metadata": {},
   "outputs": [
    {
     "data": {
      "text/plain": [
       "science       0.5\n",
       "technology    0.5\n",
       "Name: subreddit, dtype: float64"
      ]
     },
     "execution_count": 6,
     "metadata": {},
     "output_type": "execute_result"
    }
   ],
   "source": [
    "# Baseline accuracy; don't have to stratify \n",
    "y.value_counts(normalize=True)"
   ]
  },
  {
   "cell_type": "code",
   "execution_count": 7,
   "metadata": {},
   "outputs": [
    {
     "data": {
      "text/plain": [
       "array([1, 1, 1, ..., 0, 0, 0])"
      ]
     },
     "execution_count": 7,
     "metadata": {},
     "output_type": "execute_result"
    }
   ],
   "source": [
    "y = np.where(y == 'science', 1, 0)\n",
    "y"
   ]
  },
  {
   "cell_type": "code",
   "execution_count": 11,
   "metadata": {},
   "outputs": [],
   "source": [
    "X_train, X_test, y_train, y_test = train_test_split(X, y, random_state=151)"
   ]
  },
  {
   "cell_type": "code",
   "execution_count": 12,
   "metadata": {},
   "outputs": [],
   "source": [
    "# instantiate the Lemmatizer\n",
    "lem = WordNetLemmatizer()\n",
    "X_train_lem = [lem.lemmatize(i) for i in X_train]\n",
    "X_test_lem = [lem.lemmatize(i) for i in X_test]"
   ]
  },
  {
   "cell_type": "code",
   "execution_count": 13,
   "metadata": {},
   "outputs": [],
   "source": [
    "# Instantiate a CountVectorizer.\n",
    "cvec = CountVectorizer(stop_words='english', ngram_range=[1, 4])"
   ]
  },
  {
   "cell_type": "code",
   "execution_count": 14,
   "metadata": {},
   "outputs": [],
   "source": [
    "# Fit and transform the vectorizer on the training data\n",
    "X_train_cvec = cvec.fit_transform(X_train, y_train)"
   ]
  },
  {
   "cell_type": "code",
   "execution_count": 15,
   "metadata": {},
   "outputs": [],
   "source": [
    "# transform testing data\n",
    "X_test_cvec = cvec.transform(X_test)"
   ]
  },
  {
   "cell_type": "code",
   "execution_count": 16,
   "metadata": {
    "collapsed": true,
    "jupyter": {
     "outputs_hidden": true
    }
   },
   "outputs": [
    {
     "ename": "MemoryError",
     "evalue": "Unable to allocate 10.1 GiB for an array with shape (7500, 180170) and data type int64",
     "output_type": "error",
     "traceback": [
      "\u001b[1;31m---------------------------------------------------------------------------\u001b[0m",
      "\u001b[1;31mMemoryError\u001b[0m                               Traceback (most recent call last)",
      "\u001b[1;32m<ipython-input-16-c021afb5f27c>\u001b[0m in \u001b[0;36m<module>\u001b[1;34m\u001b[0m\n\u001b[0;32m      1\u001b[0m \u001b[1;31m# Convert X_train into a DataFrame\u001b[0m\u001b[1;33m\u001b[0m\u001b[1;33m\u001b[0m\u001b[1;33m\u001b[0m\u001b[0m\n\u001b[1;32m----> 2\u001b[1;33m X_train_df = pd.DataFrame(X_train_cvec.toarray(),\n\u001b[0m\u001b[0;32m      3\u001b[0m                           columns=cvec.get_feature_names())\n",
      "\u001b[1;32m~\\anaconda3\\lib\\site-packages\\scipy\\sparse\\compressed.py\u001b[0m in \u001b[0;36mtoarray\u001b[1;34m(self, order, out)\u001b[0m\n\u001b[0;32m   1023\u001b[0m         \u001b[1;32mif\u001b[0m \u001b[0mout\u001b[0m \u001b[1;32mis\u001b[0m \u001b[1;32mNone\u001b[0m \u001b[1;32mand\u001b[0m \u001b[0morder\u001b[0m \u001b[1;32mis\u001b[0m \u001b[1;32mNone\u001b[0m\u001b[1;33m:\u001b[0m\u001b[1;33m\u001b[0m\u001b[1;33m\u001b[0m\u001b[0m\n\u001b[0;32m   1024\u001b[0m             \u001b[0morder\u001b[0m \u001b[1;33m=\u001b[0m \u001b[0mself\u001b[0m\u001b[1;33m.\u001b[0m\u001b[0m_swap\u001b[0m\u001b[1;33m(\u001b[0m\u001b[1;34m'cf'\u001b[0m\u001b[1;33m)\u001b[0m\u001b[1;33m[\u001b[0m\u001b[1;36m0\u001b[0m\u001b[1;33m]\u001b[0m\u001b[1;33m\u001b[0m\u001b[1;33m\u001b[0m\u001b[0m\n\u001b[1;32m-> 1025\u001b[1;33m         \u001b[0mout\u001b[0m \u001b[1;33m=\u001b[0m \u001b[0mself\u001b[0m\u001b[1;33m.\u001b[0m\u001b[0m_process_toarray_args\u001b[0m\u001b[1;33m(\u001b[0m\u001b[0morder\u001b[0m\u001b[1;33m,\u001b[0m \u001b[0mout\u001b[0m\u001b[1;33m)\u001b[0m\u001b[1;33m\u001b[0m\u001b[1;33m\u001b[0m\u001b[0m\n\u001b[0m\u001b[0;32m   1026\u001b[0m         \u001b[1;32mif\u001b[0m \u001b[1;32mnot\u001b[0m \u001b[1;33m(\u001b[0m\u001b[0mout\u001b[0m\u001b[1;33m.\u001b[0m\u001b[0mflags\u001b[0m\u001b[1;33m.\u001b[0m\u001b[0mc_contiguous\u001b[0m \u001b[1;32mor\u001b[0m \u001b[0mout\u001b[0m\u001b[1;33m.\u001b[0m\u001b[0mflags\u001b[0m\u001b[1;33m.\u001b[0m\u001b[0mf_contiguous\u001b[0m\u001b[1;33m)\u001b[0m\u001b[1;33m:\u001b[0m\u001b[1;33m\u001b[0m\u001b[1;33m\u001b[0m\u001b[0m\n\u001b[0;32m   1027\u001b[0m             \u001b[1;32mraise\u001b[0m \u001b[0mValueError\u001b[0m\u001b[1;33m(\u001b[0m\u001b[1;34m'Output array must be C or F contiguous'\u001b[0m\u001b[1;33m)\u001b[0m\u001b[1;33m\u001b[0m\u001b[1;33m\u001b[0m\u001b[0m\n",
      "\u001b[1;32m~\\anaconda3\\lib\\site-packages\\scipy\\sparse\\base.py\u001b[0m in \u001b[0;36m_process_toarray_args\u001b[1;34m(self, order, out)\u001b[0m\n\u001b[0;32m   1183\u001b[0m             \u001b[1;32mreturn\u001b[0m \u001b[0mout\u001b[0m\u001b[1;33m\u001b[0m\u001b[1;33m\u001b[0m\u001b[0m\n\u001b[0;32m   1184\u001b[0m         \u001b[1;32melse\u001b[0m\u001b[1;33m:\u001b[0m\u001b[1;33m\u001b[0m\u001b[1;33m\u001b[0m\u001b[0m\n\u001b[1;32m-> 1185\u001b[1;33m             \u001b[1;32mreturn\u001b[0m \u001b[0mnp\u001b[0m\u001b[1;33m.\u001b[0m\u001b[0mzeros\u001b[0m\u001b[1;33m(\u001b[0m\u001b[0mself\u001b[0m\u001b[1;33m.\u001b[0m\u001b[0mshape\u001b[0m\u001b[1;33m,\u001b[0m \u001b[0mdtype\u001b[0m\u001b[1;33m=\u001b[0m\u001b[0mself\u001b[0m\u001b[1;33m.\u001b[0m\u001b[0mdtype\u001b[0m\u001b[1;33m,\u001b[0m \u001b[0morder\u001b[0m\u001b[1;33m=\u001b[0m\u001b[0morder\u001b[0m\u001b[1;33m)\u001b[0m\u001b[1;33m\u001b[0m\u001b[1;33m\u001b[0m\u001b[0m\n\u001b[0m\u001b[0;32m   1186\u001b[0m \u001b[1;33m\u001b[0m\u001b[0m\n\u001b[0;32m   1187\u001b[0m \u001b[1;33m\u001b[0m\u001b[0m\n",
      "\u001b[1;31mMemoryError\u001b[0m: Unable to allocate 10.1 GiB for an array with shape (7500, 180170) and data type int64"
     ]
    }
   ],
   "source": [
    "# Convert X_train into a DataFrame\n",
    "X_train_df = pd.DataFrame(X_train_cvec.toarray(),\n",
    "                          columns=cvec.get_feature_names())"
   ]
  },
  {
   "cell_type": "code",
   "execution_count": 86,
   "metadata": {},
   "outputs": [],
   "source": [
    "# got code from lesson 5.05-NLP-II\n",
    "\n",
    "# get count of top-occurring words\n",
    "\n",
    "# empty dictionary\n",
    "top_words = {}\n",
    "\n",
    "# loop through columns\n",
    "for i in X_train_df.columns:\n",
    "    \n",
    "    # save sum of each column in dictionary\n",
    "    top_words[i] =  X_train_df[i].sum()\n",
    "    \n",
    "# top_words to dataframe sorted by highest occurance\n",
    "most_freq = pd.DataFrame(sorted(top_words.items(), key = lambda x: x[1], reverse = True))\n",
    "\n",
    "# View most frequent words dataframe\n",
    "most_freq_df = pd.DataFrame(most_freq)"
   ]
  },
  {
   "cell_type": "code",
   "execution_count": 86,
   "metadata": {},
   "outputs": [
    {
     "data": {
      "text/html": [
       "<div>\n",
       "<style scoped>\n",
       "    .dataframe tbody tr th:only-of-type {\n",
       "        vertical-align: middle;\n",
       "    }\n",
       "\n",
       "    .dataframe tbody tr th {\n",
       "        vertical-align: top;\n",
       "    }\n",
       "\n",
       "    .dataframe thead th {\n",
       "        text-align: right;\n",
       "    }\n",
       "</style>\n",
       "<table border=\"1\" class=\"dataframe\">\n",
       "  <thead>\n",
       "    <tr style=\"text-align: right;\">\n",
       "      <th></th>\n",
       "      <th>0</th>\n",
       "      <th>1</th>\n",
       "    </tr>\n",
       "  </thead>\n",
       "  <tbody>\n",
       "    <tr>\n",
       "      <th>0</th>\n",
       "      <td>new</td>\n",
       "      <td>839</td>\n",
       "    </tr>\n",
       "    <tr>\n",
       "      <th>1</th>\n",
       "      <td>study</td>\n",
       "      <td>619</td>\n",
       "    </tr>\n",
       "    <tr>\n",
       "      <th>2</th>\n",
       "      <td>covid</td>\n",
       "      <td>520</td>\n",
       "    </tr>\n",
       "    <tr>\n",
       "      <th>3</th>\n",
       "      <td>19</td>\n",
       "      <td>498</td>\n",
       "    </tr>\n",
       "    <tr>\n",
       "      <th>4</th>\n",
       "      <td>covid 19</td>\n",
       "      <td>491</td>\n",
       "    </tr>\n",
       "    <tr>\n",
       "      <th>5</th>\n",
       "      <td>scientists</td>\n",
       "      <td>274</td>\n",
       "    </tr>\n",
       "    <tr>\n",
       "      <th>6</th>\n",
       "      <td>people</td>\n",
       "      <td>245</td>\n",
       "    </tr>\n",
       "    <tr>\n",
       "      <th>7</th>\n",
       "      <td>researchers</td>\n",
       "      <td>243</td>\n",
       "    </tr>\n",
       "    <tr>\n",
       "      <th>8</th>\n",
       "      <td>new study</td>\n",
       "      <td>229</td>\n",
       "    </tr>\n",
       "    <tr>\n",
       "      <th>9</th>\n",
       "      <td>research</td>\n",
       "      <td>210</td>\n",
       "    </tr>\n",
       "  </tbody>\n",
       "</table>\n",
       "</div>"
      ],
      "text/plain": [
       "             0    1\n",
       "0          new  839\n",
       "1        study  619\n",
       "2        covid  520\n",
       "3           19  498\n",
       "4     covid 19  491\n",
       "5   scientists  274\n",
       "6       people  245\n",
       "7  researchers  243\n",
       "8    new study  229\n",
       "9     research  210"
      ]
     },
     "execution_count": 86,
     "metadata": {},
     "output_type": "execute_result"
    }
   ],
   "source": [
    "most_freq_df.head(10)"
   ]
  },
  {
   "cell_type": "code",
   "execution_count": 63,
   "metadata": {},
   "outputs": [
    {
     "data": {
      "image/png": "[encoded data removed]",
      "text/plain": [
       "<Figure size 432x288 with 1 Axes>"
      ]
     },
     "metadata": {
      "needs_background": "light"
     },
     "output_type": "display_data"
    }
   ],
   "source": [
    "# got code from lesson 5.05-NLP-II\n",
    "# visualize top 10 words\n",
    "most_freq_df.nlargest(10, 1).plot(kind = 'bar')\n",
    "plt.xticks([i for i in range(10)], [col for col in most_freq_df.nlargest(10, 1)[0]]);"
   ]
  },
  {
   "cell_type": "markdown",
   "metadata": {},
   "source": [
    "### First Contender: TfidfVectorizer + Naive Bayes"
   ]
  },
  {
   "cell_type": "code",
   "execution_count": 17,
   "metadata": {},
   "outputs": [],
   "source": [
    "tvec =TfidfVectorizer(stop_words='english')"
   ]
  },
  {
   "cell_type": "code",
   "execution_count": 18,
   "metadata": {},
   "outputs": [],
   "source": [
    "X_train_tvec = tvec.fit_transform(X_train)"
   ]
  },
  {
   "cell_type": "code",
   "execution_count": 19,
   "metadata": {},
   "outputs": [],
   "source": [
    "X_test_tvec = tvec.transform(X_test)"
   ]
  },
  {
   "cell_type": "code",
   "execution_count": 20,
   "metadata": {},
   "outputs": [],
   "source": [
    "df = pd.DataFrame(X_train_tvec.toarray(),\n",
    "                  columns=tvec.get_feature_names())"
   ]
  },
  {
   "cell_type": "code",
   "execution_count": 68,
   "metadata": {},
   "outputs": [],
   "source": [
    "# got code from lesson 5.05-NLP-II\n",
    "\n",
    "# get count of top-occurring words\n",
    "\n",
    "# empty dictionary\n",
    "top_words2 = {}\n",
    "\n",
    "# loop through columns\n",
    "for i in df.columns:\n",
    "    # save sum of each column in dictionary\n",
    "    top_words2[i] =  df[i].sum()\n",
    "    \n",
    "# top_words to dataframe sorted by highest occurance\n",
    "most_freq1 = pd.DataFrame(sorted(top_words2.items(), key = lambda x: x[1], reverse = True))\n",
    "\n",
    "# View most frequent words dataframe\n",
    "most_freq_df1 = pd.DataFrame(most_freq1)"
   ]
  },
  {
   "cell_type": "code",
   "execution_count": 95,
   "metadata": {},
   "outputs": [
    {
     "data": {
      "text/html": [
       "<div>\n",
       "<style scoped>\n",
       "    .dataframe tbody tr th:only-of-type {\n",
       "        vertical-align: middle;\n",
       "    }\n",
       "\n",
       "    .dataframe tbody tr th {\n",
       "        vertical-align: top;\n",
       "    }\n",
       "\n",
       "    .dataframe thead th {\n",
       "        text-align: right;\n",
       "    }\n",
       "</style>\n",
       "<table border=\"1\" class=\"dataframe\">\n",
       "  <thead>\n",
       "    <tr style=\"text-align: right;\">\n",
       "      <th></th>\n",
       "      <th>0</th>\n",
       "      <th>1</th>\n",
       "    </tr>\n",
       "  </thead>\n",
       "  <tbody>\n",
       "    <tr>\n",
       "      <th>0</th>\n",
       "      <td>new</td>\n",
       "      <td>104.578218</td>\n",
       "    </tr>\n",
       "    <tr>\n",
       "      <th>1</th>\n",
       "      <td>covid</td>\n",
       "      <td>78.752342</td>\n",
       "    </tr>\n",
       "    <tr>\n",
       "      <th>2</th>\n",
       "      <td>study</td>\n",
       "      <td>76.764898</td>\n",
       "    </tr>\n",
       "    <tr>\n",
       "      <th>3</th>\n",
       "      <td>19</td>\n",
       "      <td>75.226187</td>\n",
       "    </tr>\n",
       "    <tr>\n",
       "      <th>4</th>\n",
       "      <td>apple</td>\n",
       "      <td>49.853385</td>\n",
       "    </tr>\n",
       "    <tr>\n",
       "      <th>5</th>\n",
       "      <td>scientists</td>\n",
       "      <td>47.421230</td>\n",
       "    </tr>\n",
       "    <tr>\n",
       "      <th>6</th>\n",
       "      <td>facebook</td>\n",
       "      <td>45.947849</td>\n",
       "    </tr>\n",
       "    <tr>\n",
       "      <th>7</th>\n",
       "      <td>help</td>\n",
       "      <td>44.623066</td>\n",
       "    </tr>\n",
       "    <tr>\n",
       "      <th>8</th>\n",
       "      <td>market</td>\n",
       "      <td>43.565004</td>\n",
       "    </tr>\n",
       "    <tr>\n",
       "      <th>9</th>\n",
       "      <td>google</td>\n",
       "      <td>41.038596</td>\n",
       "    </tr>\n",
       "    <tr>\n",
       "      <th>10</th>\n",
       "      <td>technology</td>\n",
       "      <td>39.923459</td>\n",
       "    </tr>\n",
       "    <tr>\n",
       "      <th>11</th>\n",
       "      <td>2020</td>\n",
       "      <td>39.534541</td>\n",
       "    </tr>\n",
       "    <tr>\n",
       "      <th>12</th>\n",
       "      <td>people</td>\n",
       "      <td>38.921066</td>\n",
       "    </tr>\n",
       "    <tr>\n",
       "      <th>13</th>\n",
       "      <td>app</td>\n",
       "      <td>36.800231</td>\n",
       "    </tr>\n",
       "    <tr>\n",
       "      <th>14</th>\n",
       "      <td>researchers</td>\n",
       "      <td>36.582504</td>\n",
       "    </tr>\n",
       "    <tr>\n",
       "      <th>15</th>\n",
       "      <td>world</td>\n",
       "      <td>35.678103</td>\n",
       "    </tr>\n",
       "    <tr>\n",
       "      <th>16</th>\n",
       "      <td>data</td>\n",
       "      <td>34.903727</td>\n",
       "    </tr>\n",
       "    <tr>\n",
       "      <th>17</th>\n",
       "      <td>research</td>\n",
       "      <td>34.792476</td>\n",
       "    </tr>\n",
       "    <tr>\n",
       "      <th>18</th>\n",
       "      <td>free</td>\n",
       "      <td>34.695215</td>\n",
       "    </tr>\n",
       "    <tr>\n",
       "      <th>19</th>\n",
       "      <td>news</td>\n",
       "      <td>34.252851</td>\n",
       "    </tr>\n",
       "  </tbody>\n",
       "</table>\n",
       "</div>"
      ],
      "text/plain": [
       "              0           1\n",
       "0           new  104.578218\n",
       "1         covid   78.752342\n",
       "2         study   76.764898\n",
       "3            19   75.226187\n",
       "4         apple   49.853385\n",
       "5    scientists   47.421230\n",
       "6      facebook   45.947849\n",
       "7          help   44.623066\n",
       "8        market   43.565004\n",
       "9        google   41.038596\n",
       "10   technology   39.923459\n",
       "11         2020   39.534541\n",
       "12       people   38.921066\n",
       "13          app   36.800231\n",
       "14  researchers   36.582504\n",
       "15        world   35.678103\n",
       "16         data   34.903727\n",
       "17     research   34.792476\n",
       "18         free   34.695215\n",
       "19         news   34.252851"
      ]
     },
     "execution_count": 95,
     "metadata": {},
     "output_type": "execute_result"
    }
   ],
   "source": [
    "most_freq_df1.head(20)"
   ]
  },
  {
   "cell_type": "code",
   "execution_count": 120,
   "metadata": {},
   "outputs": [
    {
     "data": {
      "image/png": "[encoded data removed]",
      "text/plain": [
       "<Figure size 432x288 with 1 Axes>"
      ]
     },
     "metadata": {
      "needs_background": "light"
     },
     "output_type": "display_data"
    },
    {
     "data": {
      "text/plain": [
       "<Figure size 3600x3600 with 0 Axes>"
      ]
     },
     "metadata": {},
     "output_type": "display_data"
    }
   ],
   "source": [
    "# got code from lesson 5.05-NLP-II\n",
    "# visualize top 10 words\n",
    "\n",
    "#plt.figure(figsize=(50, 50));\n",
    "most_freq_df1.nlargest(20, 1).plot(kind = 'bar', color = 'darkorange');\n",
    "plt.xticks([i for i in range(20)], [col for col in most_freq_df1.nlargest(20, 1)[0]]);\n",
    "plt.title('TF-IDF Score with No Lemmetizing');\n",
    "plt.ylabel('TF-IDF Score');\n",
    "plt.figure(figsize=(50, 50));"
   ]
  },
  {
   "cell_type": "code",
   "execution_count": 21,
   "metadata": {},
   "outputs": [],
   "source": [
    "nbayes_tvec = MultinomialNB()"
   ]
  },
  {
   "cell_type": "code",
   "execution_count": 22,
   "metadata": {},
   "outputs": [
    {
     "data": {
      "text/plain": [
       "MultinomialNB()"
      ]
     },
     "execution_count": 22,
     "metadata": {},
     "output_type": "execute_result"
    }
   ],
   "source": [
    "nbayes_tvec.fit(X_train_tvec, y_train)"
   ]
  },
  {
   "cell_type": "code",
   "execution_count": 23,
   "metadata": {},
   "outputs": [
    {
     "data": {
      "text/plain": [
       "0.9581333333333333"
      ]
     },
     "execution_count": 23,
     "metadata": {},
     "output_type": "execute_result"
    }
   ],
   "source": [
    "nbayes_tvec.score(X_train_tvec, y_train)"
   ]
  },
  {
   "cell_type": "code",
   "execution_count": 24,
   "metadata": {},
   "outputs": [
    {
     "data": {
      "text/plain": [
       "0.8936"
      ]
     },
     "execution_count": 24,
     "metadata": {},
     "output_type": "execute_result"
    }
   ],
   "source": [
    "nbayes_tvec.score(X_test_tvec, y_test)"
   ]
  },
  {
   "cell_type": "code",
   "execution_count": 25,
   "metadata": {},
   "outputs": [
    {
     "data": {
      "image/png": "[encoded data removed]",
      "text/plain": [
       "<Figure size 432x288 with 2 Axes>"
      ]
     },
     "metadata": {
      "needs_background": "light"
     },
     "output_type": "display_data"
    }
   ],
   "source": [
    "plot_confusion_matrix(nbayes_tvec, X_test_tvec, y_test, cmap='Oranges', values_format='d', display_labels=['Technology', 'Science']);\n",
    "plt.title('Naive Bayes Confusion Matrix');"
   ]
  },
  {
   "cell_type": "markdown",
   "metadata": {},
   "source": [
    "### Second Contender: Lemmetizer + Tfidf Vectorizer + Logistic Regression"
   ]
  },
  {
   "cell_type": "code",
   "execution_count": 26,
   "metadata": {},
   "outputs": [],
   "source": [
    "log_r_tvec = LogisticRegression()"
   ]
  },
  {
   "cell_type": "code",
   "execution_count": 27,
   "metadata": {},
   "outputs": [],
   "source": [
    "tvec2 = TfidfVectorizer(max_df=0.9, max_features=None, min_df=2, ngram_range=(1, 3), stop_words='english')"
   ]
  },
  {
   "cell_type": "code",
   "execution_count": 28,
   "metadata": {},
   "outputs": [],
   "source": [
    "X_train_tvec_lem = tvec2.fit_transform(X_train_lem, y_train)\n",
    "X_test_tvec_lem = tvec2.transform(X_test_lem)"
   ]
  },
  {
   "cell_type": "code",
   "execution_count": 29,
   "metadata": {},
   "outputs": [],
   "source": [
    "df2 = pd.DataFrame(X_train_tvec_lem.toarray(),\n",
    "                  columns=tvec2.get_feature_names())"
   ]
  },
  {
   "cell_type": "code",
   "execution_count": 79,
   "metadata": {},
   "outputs": [],
   "source": [
    "# got code from lesson 5.05-NLP-II\n",
    "\n",
    "# get count of top-occurring words\n",
    "\n",
    "# empty dictionary\n",
    "top_words3 = {}\n",
    "\n",
    "# loop through columns\n",
    "for i in df2.columns:\n",
    "    # save sum of each column in dictionary\n",
    "    top_words3[i] =  df2[i].sum()\n",
    "    \n",
    "# top_words to dataframe sorted by highest occurance\n",
    "most_freq2 = pd.DataFrame(sorted(top_words3.items(), key = lambda x: x[1], reverse = True))\n",
    "\n",
    "# View most frequent words dataframe\n",
    "most_freq_df2 = pd.DataFrame(most_freq2)"
   ]
  },
  {
   "cell_type": "code",
   "execution_count": 126,
   "metadata": {},
   "outputs": [
    {
     "data": {
      "text/html": [
       "<div>\n",
       "<style scoped>\n",
       "    .dataframe tbody tr th:only-of-type {\n",
       "        vertical-align: middle;\n",
       "    }\n",
       "\n",
       "    .dataframe tbody tr th {\n",
       "        vertical-align: top;\n",
       "    }\n",
       "\n",
       "    .dataframe thead th {\n",
       "        text-align: right;\n",
       "    }\n",
       "</style>\n",
       "<table border=\"1\" class=\"dataframe\">\n",
       "  <thead>\n",
       "    <tr style=\"text-align: right;\">\n",
       "      <th></th>\n",
       "      <th>0</th>\n",
       "      <th>1</th>\n",
       "    </tr>\n",
       "  </thead>\n",
       "  <tbody>\n",
       "    <tr>\n",
       "      <th>0</th>\n",
       "      <td>new</td>\n",
       "      <td>88.502039</td>\n",
       "    </tr>\n",
       "    <tr>\n",
       "      <th>1</th>\n",
       "      <td>covid</td>\n",
       "      <td>64.724618</td>\n",
       "    </tr>\n",
       "    <tr>\n",
       "      <th>2</th>\n",
       "      <td>study</td>\n",
       "      <td>64.703525</td>\n",
       "    </tr>\n",
       "    <tr>\n",
       "      <th>3</th>\n",
       "      <td>19</td>\n",
       "      <td>61.295692</td>\n",
       "    </tr>\n",
       "    <tr>\n",
       "      <th>4</th>\n",
       "      <td>covid 19</td>\n",
       "      <td>60.752184</td>\n",
       "    </tr>\n",
       "    <tr>\n",
       "      <th>5</th>\n",
       "      <td>help</td>\n",
       "      <td>43.053859</td>\n",
       "    </tr>\n",
       "    <tr>\n",
       "      <th>6</th>\n",
       "      <td>apple</td>\n",
       "      <td>42.702752</td>\n",
       "    </tr>\n",
       "    <tr>\n",
       "      <th>7</th>\n",
       "      <td>facebook</td>\n",
       "      <td>40.545362</td>\n",
       "    </tr>\n",
       "    <tr>\n",
       "      <th>8</th>\n",
       "      <td>scientists</td>\n",
       "      <td>40.480933</td>\n",
       "    </tr>\n",
       "    <tr>\n",
       "      <th>9</th>\n",
       "      <td>technology</td>\n",
       "      <td>38.919906</td>\n",
       "    </tr>\n",
       "    <tr>\n",
       "      <th>10</th>\n",
       "      <td>google</td>\n",
       "      <td>37.105830</td>\n",
       "    </tr>\n",
       "    <tr>\n",
       "      <th>11</th>\n",
       "      <td>people</td>\n",
       "      <td>36.405364</td>\n",
       "    </tr>\n",
       "    <tr>\n",
       "      <th>12</th>\n",
       "      <td>2020</td>\n",
       "      <td>36.234591</td>\n",
       "    </tr>\n",
       "    <tr>\n",
       "      <th>13</th>\n",
       "      <td>market</td>\n",
       "      <td>36.199695</td>\n",
       "    </tr>\n",
       "    <tr>\n",
       "      <th>14</th>\n",
       "      <td>world</td>\n",
       "      <td>33.048686</td>\n",
       "    </tr>\n",
       "    <tr>\n",
       "      <th>15</th>\n",
       "      <td>time</td>\n",
       "      <td>32.523875</td>\n",
       "    </tr>\n",
       "    <tr>\n",
       "      <th>16</th>\n",
       "      <td>free</td>\n",
       "      <td>32.412405</td>\n",
       "    </tr>\n",
       "    <tr>\n",
       "      <th>17</th>\n",
       "      <td>use</td>\n",
       "      <td>31.555377</td>\n",
       "    </tr>\n",
       "    <tr>\n",
       "      <th>18</th>\n",
       "      <td>app</td>\n",
       "      <td>31.512719</td>\n",
       "    </tr>\n",
       "    <tr>\n",
       "      <th>19</th>\n",
       "      <td>researchers</td>\n",
       "      <td>31.216112</td>\n",
       "    </tr>\n",
       "  </tbody>\n",
       "</table>\n",
       "</div>"
      ],
      "text/plain": [
       "              0          1\n",
       "0           new  88.502039\n",
       "1         covid  64.724618\n",
       "2         study  64.703525\n",
       "3            19  61.295692\n",
       "4      covid 19  60.752184\n",
       "5          help  43.053859\n",
       "6         apple  42.702752\n",
       "7      facebook  40.545362\n",
       "8    scientists  40.480933\n",
       "9    technology  38.919906\n",
       "10       google  37.105830\n",
       "11       people  36.405364\n",
       "12         2020  36.234591\n",
       "13       market  36.199695\n",
       "14        world  33.048686\n",
       "15         time  32.523875\n",
       "16         free  32.412405\n",
       "17          use  31.555377\n",
       "18          app  31.512719\n",
       "19  researchers  31.216112"
      ]
     },
     "execution_count": 126,
     "metadata": {},
     "output_type": "execute_result"
    }
   ],
   "source": [
    "most_freq_df2.head(20)"
   ]
  },
  {
   "cell_type": "code",
   "execution_count": 127,
   "metadata": {},
   "outputs": [
    {
     "data": {
      "image/png": "[encoded data removed]",
      "text/plain": [
       "<Figure size 432x288 with 1 Axes>"
      ]
     },
     "metadata": {
      "needs_background": "light"
     },
     "output_type": "display_data"
    },
    {
     "data": {
      "text/plain": [
       "<Figure size 3600x3600 with 0 Axes>"
      ]
     },
     "metadata": {},
     "output_type": "display_data"
    }
   ],
   "source": [
    "# got code from lesson 5.05-NLP-II\n",
    "# visualize top 10 words\n",
    "most_freq_df2.nlargest(20, 1).plot(kind = 'bar', color = 'darkmagenta')\n",
    "plt.xticks([i for i in range(20)], [col for col in most_freq_df2.nlargest(20, 1)[0]]);\n",
    "plt.title('TF-IDF Score with Lemmetizing');\n",
    "plt.ylabel('TF-IDF Score');\n",
    "plt.figure(figsize=(50, 50));"
   ]
  },
  {
   "cell_type": "code",
   "execution_count": 30,
   "metadata": {},
   "outputs": [
    {
     "data": {
      "text/plain": [
       "LogisticRegression()"
      ]
     },
     "execution_count": 30,
     "metadata": {},
     "output_type": "execute_result"
    }
   ],
   "source": [
    "log_r_tvec.fit(X_train_tvec_lem, y_train)"
   ]
  },
  {
   "cell_type": "code",
   "execution_count": 31,
   "metadata": {},
   "outputs": [
    {
     "data": {
      "text/plain": [
       "0.8936"
      ]
     },
     "execution_count": 31,
     "metadata": {},
     "output_type": "execute_result"
    }
   ],
   "source": [
    "log_r_tvec.score(X_test_tvec_lem, y_test)"
   ]
  },
  {
   "cell_type": "code",
   "execution_count": 32,
   "metadata": {},
   "outputs": [
    {
     "data": {
      "text/plain": [
       "0.9586666666666667"
      ]
     },
     "execution_count": 32,
     "metadata": {},
     "output_type": "execute_result"
    }
   ],
   "source": [
    "log_r_tvec.score(X_train_tvec_lem, y_train)"
   ]
  },
  {
   "cell_type": "code",
   "execution_count": 33,
   "metadata": {},
   "outputs": [
    {
     "data": {
      "text/plain": [
       "Text(0.5, 1.0, 'Logistic Regression Confusion Matrix')"
      ]
     },
     "execution_count": 33,
     "metadata": {},
     "output_type": "execute_result"
    },
    {
     "data": {
      "image/png": "[encoded data removed]",
      "text/plain": [
       "<Figure size 432x288 with 2 Axes>"
      ]
     },
     "metadata": {
      "needs_background": "light"
     },
     "output_type": "display_data"
    }
   ],
   "source": [
    "plot_confusion_matrix(log_r_tvec, X_test_tvec_lem, y_test, cmap='Purples', values_format='d', display_labels=['Technology', 'Science']);\n",
    "plt.title('Logistic Regression Confusion Matrix')"
   ]
  },
  {
   "cell_type": "code",
   "execution_count": 34,
   "metadata": {},
   "outputs": [],
   "source": [
    "log_coef_tvec_df = pd.DataFrame(data = log_r_tvec.coef_, columns=tvec2.get_feature_names()).T"
   ]
  },
  {
   "cell_type": "code",
   "execution_count": 35,
   "metadata": {},
   "outputs": [
    {
     "data": {
      "image/png": "[encoded data removed]",
      "text/plain": [
       "<Figure size 432x288 with 1 Axes>"
      ]
     },
     "metadata": {
      "needs_background": "light"
     },
     "output_type": "display_data"
    },
    {
     "data": {
      "text/plain": [
       "<Figure size 3600x3600 with 0 Axes>"
      ]
     },
     "metadata": {},
     "output_type": "display_data"
    }
   ],
   "source": [
    "# higher coefficients mean that a post is more likely to be from the science subreddit\n",
    "log_coef_tvec_df.nlargest(20, 0).plot(kind='bar', color = 'darkturquoise')\n",
    "plt.title('Top 20 Words For Predicting Science');\n",
    "plt.ylabel('Magnitude');\n",
    "plt.figure(figsize=(50, 50));"
   ]
  },
  {
   "cell_type": "markdown",
   "metadata": {},
   "source": [
    "**Interesting that 'shirt' is a word that predicts a post falling into the science subreddit. Will explore more below.**"
   ]
  },
  {
   "cell_type": "code",
   "execution_count": 36,
   "metadata": {},
   "outputs": [
    {
     "data": {
      "image/png": "[encoded data removed]",
      "text/plain": [
       "<Figure size 432x288 with 1 Axes>"
      ]
     },
     "metadata": {
      "needs_background": "light"
     },
     "output_type": "display_data"
    },
    {
     "data": {
      "text/plain": [
       "<Figure size 3600x3600 with 0 Axes>"
      ]
     },
     "metadata": {},
     "output_type": "display_data"
    }
   ],
   "source": [
    "# lower coefficients mean that a post is more likely to be from the technology subreddit\n",
    "log_coef_tvec_df.nsmallest(20, 0).plot(kind='bar', color = 'mediumseagreen')\n",
    "plt.title('Top 20 Words for Predicting Technology');\n",
    "plt.ylabel('Magnitude');\n",
    "plt.figure(figsize=(50, 50));"
   ]
  },
  {
   "cell_type": "markdown",
   "metadata": {},
   "source": [
    "**Interesting that 'free' is a word that predicts a post falling into the technology subreddit. Will explore more below.**"
   ]
  },
  {
   "cell_type": "code",
   "execution_count": 37,
   "metadata": {},
   "outputs": [],
   "source": [
    "science_posts = pd.read_csv('./data/science.csv', index_col=[0], keep_default_na=False)"
   ]
  },
  {
   "cell_type": "code",
   "execution_count": 40,
   "metadata": {},
   "outputs": [
    {
     "name": "stdout",
     "output_type": "stream",
     "text": [
      "Count of the word shirt in science posts: 175\n"
     ]
    }
   ],
   "source": [
    "# count of how many times shirt appears in science titles\n",
    "shirt_count = 0\n",
    "for i in science_posts['title']:\n",
    "    for e in i.split(' '):\n",
    "        if e == 'shirt':\n",
    "            shirt_count += 1\n",
    "print(f'Count of the word shirt in science posts: {shirt_count}')"
   ]
  },
  {
   "cell_type": "code",
   "execution_count": 50,
   "metadata": {
    "collapsed": true,
    "jupyter": {
     "outputs_hidden": true
    }
   },
   "outputs": [
    {
     "data": {
      "text/plain": [
       "['“My dear Mr Manly Warringah Just A Girl In Love With Her Eagles Vintage Retro shirt . Duchemin!” he uncomfortably protested. #ManlyWarringahJustAGirlInLoveWithHerEaglesVintageRetroshirt',\n",
       " 'They have a 5-minute recap for a high scoring game but did a 10-minute recap for the Browns winning 5-0 Never Mind The Witch Beware Of The Bull Terrier Halloween Moon shirt . so why is it between Dobbs and Rudolph on who gets cut….?',\n",
       " 'Whether you’re a Important Weight Lifting Swoley Spirit Vintage Retro shirt .country girl at heart or simply love a good graphic tee, slip into from Grayson Threads for a simple touch of country style. #ImportantWeightLiftingSwoleySpiritVintageRetroshirt',\n",
       " 'With the custom apparel I May Live In France But My Story Began In Sweden shirt . industry constantly growing and evolving, it may feel harder and harder to distinguish your brand. #IMayLiveInFranceButMyStoryBeganInSwedenshirt',\n",
       " 'Cartoons That’s basically Motocross I Just Want To Go Riding And Ignore All My Adult Problems Vintage Retro shirt . all I have to say to sum up many of the newest Threadless classic cattoon t-shirts. They all seem taken out of a childhood Saturday morning in front of the Tv.',\n",
       " 'I first met him in Move Over Girls Let This Old Lady Show You To Be A School Bus Driver Vintage shirt . 1968 in Rome,” Collins said post-event, this morning, over email. #MoveOverGirlsLetThisOldLadyShowYouToBeASchoolBusDriverVintageshirt',\n",
       " 'Don’t worry, you’re not the first person to ask Pretty Bear Rollin With My Home shirt . This is an incredibly common question in the screen printing world. At KingTee, the short answer is “no”. We have a minimum of 24 pieces on every order of up to 2 colors .Great question.',\n",
       " 'Don’t worry, you’re not the first person to ask Pretty Bear Rollin With My Home shirt . This is an incredibly common question in the screen printing world. At KingTee, the short answer is “no”. We have a minimum of 24 pieces on every order of up to 2 colors .Great question.',\n",
       " 'It was a great game but Native American Red Hand shirt . Somebody needs to tell the to stop mentioning no hitters in progress it’s bad luck to talk about a no no and I’m sick of it. They can say the sweaters team is hitless, but not that the pitcher has a no hitter.',\n",
       " 'No one understands NonHo La Mia Moto Ma Ho Il Mio Motociclista shirt . the power of camp quite like Lady Gaga. Though the Oscar winner switches her style at the drop of a pink-brimmed hat, many of her greatest moments on the red carpet have involved deliberately tongue-in-cheek fashion.',\n",
       " 'New concert series October Girl Due To Personal Reasons Ill Be Keeping My Distance From Stupid People Sun Flower shirt . and theatrical production. which she’s performing at the Shed in New York City’s Hudson Yards for the next month, is touted as her most ambitious yet.',\n",
       " 'Oh god I didnt expect Some Girls Go Kayaking And Drink Too Much ItS Me IM Some Girls Vintage Retro shirt .bbc will cover the stupid news. you guys are discussing serious matters. this news is not an impacted one. just a publicity stunt. please bbc don’t ever cover this kind of news.',\n",
       " 'I believe that by standing Schnauzer Get In Loser We Are Getting Chicky Nuggies Vintage shirt . by your beliefs you will be respected. I speak up when I am mistreated and I express without anger why I sense this is not a good way forward.',\n",
       " 'Cotton Bureau is a good opportunity Stethoscope Move Over Girls Let This Old Lady Show You How To Be A Nurse Vintage Retro shirt . for talented designers that lean more towards the minimalist style to get their work out there and earn some well-deserved cash.',\n",
       " 'Celebrating more than The Office Boss Like Michael Prank Like Jim Work Like Dwight Love Like Pam shirt .100 years of authentic American heritage, the Hanes 1901 collection is classic, comfortable and seasonless. #TheOfficeBossLikeMichaelPrankLikeJimWorkLikeDwightLoveLikePamshirt',\n",
       " 'Was founded with the Some Girls Go Biking And Drink Too Much ItS Me IM Some Girls shirt . Mission to fashionably promote global citizenry. #SomeGirlsGoBikingAndDrinkTooMuchItSMeIMSomeGirlsshirt',\n",
       " 'Kim Kardashian West has The Drum Connects Our Heart To The Heart Beat Of Mother Earth shirt . a lot of fashion signatures but bodycon dressing is perhaps her most famous go-to. #TheDrumConnectsOurHeartToTheHeartBeatOfMotherEarthshirt',\n",
       " 'Was founded with the Some Girls Go Biking And Drink Too Much ItS Me IM Some Girls shirt . Mission to fashionably promote global citizenry. #SomeGirlsGoBikingAndDrinkTooMuchItSMeIMSomeGirlsshirt',\n",
       " 'Kim Kardashian West has The Drum Connects Our Heart To The Heart Beat Of Mother Earth shirt . a lot of fashion signatures but bodycon dressing is perhaps her most famous go-to. #TheDrumConnectsOurHeartToTheHeartBeatOfMotherEarthshirt',\n",
       " \"Friends don't lie — we're your friend Swing Glasses Bitch shirt . and we're not lying when we say that cvctees. Crafted from a soft, cotton-blend material, this three-quarter-sleeve T-shirt will keep you nice and comfortable from day to night and season to season.\",\n",
       " 'There are few Horse Power Is Like Sex Way To Much Is Just About Enough shirt . More important staples in any man’s wardrobe than the fitted white. Every man should own at least one, and their versatility means you can wear with almost any outfit.',\n",
       " 'It may be objected that the Girl Tattooed Bookworm Inked And Educated DonT Stereotype shirt . author has not himself assayed the antimonial ores,tshirtclassic nor repeated the chymical processes. #GirlTattooedBookwormInkedAndEducatedDonTStereotypeshirt',\n",
       " 'The process for making it has Frank Reynolds When IM Dead Just Throw Me In The Trash Vintage shirt .been carefully concealed, tshirtclassic while its being an antimonial preparation, hath, with industry and ostentation, been universally published.',\n",
       " 'He grinned broadly cocking an Hippie Snoopy Car Peace And Love shirt .appreciative ear to the racket.“No, #HippieSnoopyCarPeaceAndLoveshirt',\n",
       " 'There was no reason why Thomas Good Trouble Necessary Trouble Vintage Retro shirt . an old and trusted servant, should not have had a key to that particular door, although the servants’ entry was in the west wing. But I had not known of this key, and it opened up a new field of conjecture.',\n",
       " \"Amp up your everyday Oh You Hate Me Join The Club Weekly Meetings Fuck You St And Kiss My Ass BLVD shirt .casual style with a simple long-sleeve tee that's been given a (literal) twist for a look you'll love. #Ohyouhatemejointheclubweeklymeetingsfuckyoustandkissmyassblvdshirt\",\n",
       " 'Creepy Joe Im comin for your ar14s shirt Im Finish Ive Been Social Distancing My Whole Life shirt . Putin feeding you Shawn Wilson it is no wonder intellectual people can not converse with Mm followers. #ImFinishIveBeenSocialDistancingMyWholeLifeshirt',\n",
       " 'Creepy Joe Im comin for your ar14s shirt Im Finish Ive Been Social Distancing My Whole Life shirt . Putin feeding you Shawn Wilson it is no wonder intellectual people can not converse with Mm followers. #ImFinishIveBeenSocialDistancingMyWholeLifeshirt',\n",
       " 'Many popular print online shops Skeleton IM Silently Judging Your Beer shirt . have aligned with some type of T-shirt sales. The bad news is that they are available, as always, for a very limited time. #SkeletonImsilentlyjudgingyourbeershirt',\n",
       " 'If there’s ever a time to start On Friday We Wear Red Remember Everyone Deployed shirt . reconnecting with nature, it’s spring. It’s the perfect time to find joy in nature’s gift again. It could be because everything is new, refined and full of endless possibilities.',\n",
       " 'I actually love Tiger Yoga Eff You See Kay Why Oh You Vintage shirt . how bland and unpoetic foreign language song lyrics always sound when translated directly to English. #TigerYogaEffYouSeeKayWhyOhYouVintageshirt',\n",
       " 'Solehab designs include intriguing Showtime Showtime Baseball Halloween shirt . Prints such as Cassette, Tape 8, Gramophone, Gradient, Spaceship and Swirl, available in red, blue, white, yellow, and grey colours both for men and women. #ShowtimeShowtimeBaseballHalloweenshirt',\n",
       " 'Cotton Bureau is a good opportunity Best buds golf league vintage retro shirt . for talented designers that lean more towards the minimalist style to get their work out there and earn some well-deserved cash. #Bestbudsgolfleaguevintageretroshirt',\n",
       " 'As the show continues Black cat ive decided im not old im 25 plus shipping and handling vintage retro shirt . #Blackcativedecidedimnotoldim25plusshippingandhandlingvintageretroshirt',\n",
       " 'I guess everyone has the habit of around a hotel room and wondering if something got left behind… Bus gonna ride till i cant no more vintage retro shirt . so there I was at the Marriott in Cairo, just finished opening wardrobe doors and bedside table drawers. One last place to look….under the bed.',\n",
       " 'The best news of this fall Cat buckle up buttercup you just flipped my witch switch sunset shirt . #Catbuckleupbuttercupyoujustflippedmywitchswitchsunsetshirt',\n",
       " 'The first to be featured in the series Certaines filles jouent a la poupee les vraies filles jouent au basketball flowers shirt . is Maria Surducan. Given That I’ve been raising a little dragon, I have also become acquainted with the wonderful publishing house Usborne.',\n",
       " 'The ultimate sale on ready-to-print Cat i know what im doing vintage retro shirt . graphics at a star price is on! Tshirt Factory is getting an early start on the Black Friday frenzy. #Catiknowwhatimdoingvintageretroshirt',\n",
       " 'The athleisure trend is still Eagles tree music in the moment shirt . going strong with no signs of stopping. Meanwhile, sneaker silhouettes have morphed from sleek and streamlined to hulking and oversized. #Eaglestreemusicinthemomentshirt',\n",
       " 'Well, apparently the end 1596466465Iâ€™m smiling under the mask and hugging you in my heart educatorlife shirt . of summer is not as bad as expected. Usually, the beginning of autumn is filled with discount offers which makes this end of the sunny season more bearable.',\n",
       " 'This gives in winter a single hole Heart Crazy Plant Lady shirt .for an entrance, three-eighths of an inch in diameter.tshirtclassic #HeartCrazyPlantLadyshirt',\n",
       " 'Skully and friends Dog I raise tiny dinosaurs shirt . #DogIraisetinydinosaursshirt',\n",
       " 'Every major custom apparel company started somewhere Mars 2020 perseverance rover launch day commemorative shirt . And we know success can take time. Wherever you’re at, your personal customer service representative will work with you to print your first batch of shirts.',\n",
       " 'Send some love out Black trans lives matter shirt . into the world with This women\\'s t-shirt comes in gray for a look that\\'s easy to style, and the front is finished with the word \"Amour\" in pretty black script. #Blacktranslivesmattershirt',\n",
       " 'We’re back with the latest Rip John Lewis good trouble necessary trouble shirt . most popular news from the graphic design industry, with a focus on t-shirt promotions. #RipJohnLewisgoodtroublenecessarytroubleshirt',\n",
       " 'I maintain, such a man will always Peace love Halloween diamond shirt . be observing and valuing and formulating plans of attack—subconsciously, perhaps, but still and for all that making use of the faculties he trained in other days. #PeaceloveHalloweendiamondshirt',\n",
       " 'Somewhere down-stairs a clock No Im not pregnant yes I am eating for two me and my inner bitch and she likes tacos shirt . with a chime sang away the hours eleven-thirty, forty-five, twelve. And then the lights went out to stay.',\n",
       " 'As children all Defund the media shirt . Over the world are tucked in to await the presents that Santa Claus will bring in the morning, we wanted to share that Christmas story from Oscar Brown, the late singer, playwright, poet and activist. #Defundthemediashirt',\n",
       " 'International Women’s day Buffalo blue jays baseball shirt . is a time to praise the super humans that women prove to be over and over again. They prevail over hardships that men would otherwise be overwhelmed by. #Buffalobluejaysbaseballshirt',\n",
       " 'Whether you flow Empowered women empower women shirt . with merlot or rose all day, from FREEZE is right up your wine cabinet — er — alley. With a simple design and soft cotton blend, this gray raglan tee is perfect for a casual day of errands or a cozy wine night in with the girls.',\n",
       " 'They knew that I was I lived through 8 years of Obama youll live through 8 years of Trump shirt . buying the presents, and they might not always get what they asked Santa for. But them knowing that still didn’t stop them from having fun.',\n",
       " 'In an exclusive interview Republican Democrat Trump shirt . after his keynote, Pinault explained that fashion’s long. held values of competition and exclusivity simply aren’t conducive to serious change. #RepublicanDemocratTrumpshirt',\n",
       " 'The heat of the new season Nantucket colorful shirt . of Game of Thrones has piped down and I understand that the premiere episode was quite underwhelming for a big part of eager fans. #Nantucketcolorfulshirt',\n",
       " 'Don’t think this week will end Trump or were fucked 2020 shirt . without a special gift from the Tshirt Factory team. There are plenty of free resources out there but these ones are special because there is a very limited time window in which you can access them.',\n",
       " 'There has been no I may live in ENGLAND but my story began in AUSTRIA shirt . shortage of wildly glamorous fashion on the red carpet at the 2019 Cannes Film Festival this past week. #ImayliveinENGLANDbutmystorybeganinAUSTRIAshirt',\n",
       " 'Here in Ireland, people are organizing protests where they show up, do their shop, and then leave all the unnecessary packaging mostly plastic at the shop for them to clean up I may live in NEW YORK but my story began in POLAND shirt . #ImayliveinNEWYORKbutmystorybeganinPOLANDshirt',\n",
       " 'I’m a big supporter I may live in ITALY but my story began in AUSTRIA shirt . and fan of Mr. Musk, but this behavior is horrible and more befitting of a low class, Twitter happy, narcissistic, bully. #ImayliveinITALYbutmystorybeganinAUSTRIAshirt',\n",
       " 'Welcome to the future I may live in GERMANY but my story began in NETHERLANDS shirt . We may not have flying cars yet, but the rest of our world is like a scene straight out of Blade Runner.The latest tech in the virtual reality field has come to include t-shirts.',\n",
       " 'Threadless is taking care of us Buckle Up Buttercup You Just Flipped My Witch Switch Dachshund Halloween shirt . in all kind of ways. The print on demand star is rolling out the spring sale, with a 50% off on all tanks, bags, hats and beach towels.I',\n",
       " 'Though it’s impossible to isolate Covid grocery worker because superhero isnt an official job title shirt . #Covidgroceryworkerbecausesuperheroisntanofficialjobtitleshirt',\n",
       " 'I never knew the presidents Behind Every Trucker Who Believes In Himself Is A Trucker Dad Who Believed In Him First shirt . of the USA get a portrait to be displayed for the public in Smithsonian’s National Portrait Gallery, after the end of their terms.',\n",
       " \"Friends don't lie — we're your friend Fishing bite me moon shirt . and we're not lying when we say that cvctees. Crafted from a soft, cotton-blend material, this three-quarter-sleeve T-shirt will keep you nice and comfortable from day to night and season to season.\",\n",
       " 'Thanks to everyone who Agriculturist 100 percent organic shirt . Participated in tonight’s live sale anyone that bought items from tonight’s sale, please leave your I will invoice you tomorrow. #Agriculturist100percentorganicshirt',\n",
       " 'When Mr Arable returned Wanna touch my dog vintage retro shirt .to the house half an hour later,Tshirtclassic he carried a carton under his arm. Fern was upstairs changing her sneakers. #Wannatouchmydogvintageretroshirt',\n",
       " 'Back in early March Thick and delicious shirt . Michèle Lamy posted an adorable meta selfie with her husband. designer Rick Owens, both beaming in icy Tallinn, Estonia. Were they taking a chilly vacation in the Baltic region? Not quite. #Thickanddeliciousshirt',\n",
       " '(For a moment, I thought to get back to watching the movie but don’t know what happened and I was just sitting there, staring at the world map and journey details on screen Alter einmal mit profis arbeiten classic shirt . After take-off, the air hostess came with their first round of drinks.',\n",
       " 'Channel summer vibes Do more yoga give less fuck vintage retro shirt . no matter what season it might be with cvctees. This short-sleeve tee features an allover pink popsicle print on a classic striped fabric for a touch of cute and sweet style. #Domoreyogagivelessfuckvintageretroshirt',\n",
       " 'During your stay you will visit Bigfoot I leveled up to papa shirt . Santa’s very own village, where you can wander around the various gift shops or stop for a warming drink. #BigfootIleveleduptopapashirt',\n",
       " 'He was told it was me Dolphin let the beat drop shirt . so he asked my employee to .They came to the back, knocked on my office door, and let me know I was being requested by someone. I yelled through the closed door that I was busy at the moment and unable to come out.',\n",
       " 'Wow, very articulate Archery color assuming Im was like most girls was your first mistake shirt . Why do so many people care what other people are doing in the own private space. Jesus, said be kind to one another and for someone without sin cast the first stone.',\n",
       " 'Art has served as Halloween im with the bigfoot shirt . an outlet for indigenous women to carry on their traditional crafts and stories for centuries. #Halloweenimwiththebigfootshirt',\n",
       " 'She is a handsome girl of thirteen In A World Where You Can Be Anything Be Kind shirt . beginning to develop early, a swarthy, olive brunette, with beautiful dark eyes, which are not at all childish. #InAWorldWhereYouCanBeAnythingBeKindshirt',\n",
       " 'Last night I Make Stuff Up Typewriter shirt . dreams and determination ignited the West Village. The sun began to slip as fashion’s elite descended upon The Center, a haven for LGBT youth located steps away from the New York AIDS memorial, for a benefit dinner. I',\n",
       " 'Each year, the Brooklyn-based HAPPY CHEMICAL REACTION WEED shirt . label Mexican Summer makes the trek down to West Texas in collaboration with Ballroom Marfa. #HAPPYCHEMICALREACTIONWEEDshirt',\n",
       " 'The whole movement Best Friend For Life Love Horse shirt . has made box-fresh sneakers seem like a tired idea—the thing. instead, is to wear a grungy pair that look like they’ve been worn and loved to the point of falling apart. Sanitary? Perhaps not. #BestFriendForLifeLoveHorseshirt',\n",
       " 'Short reindeer sleigh Bigfoot Walking Dachshund Sasquatch Doxie Dog shirt . Ride through the snow and an exhilarating ride on a sled pulled by a team of huskies. So you can feel just like Santa Claus and his elves. Warm up in the cosy koto tepee with and enjoy an enthralling Lappish story.',\n",
       " 'At KingTee Bigfoot 2020 Make America Believe Again shirt . we are a one-stop-shop for merchandising – from design to printing to order fulfillment. Since we are experts at every level of the custom apparel experience, we make life easier for clients with our full-stack merchandising skills.',\n",
       " 'Looks like you If We Get In Trouble Its My Sisters Fault Because I Listened To Her shirt . unknowingly strafed into his line of fire. There’s a lot of delays 75% damage is just a few headshots from that range.Can’t really blame the NC he strafed into for that one.',\n",
       " 'With yells of triumph the Indians came Flamingos Pontoon Queen Classy Sassy And A Bit Smart Assy shirt .flocking down from their caves and danced a frenzied dance of victory round the dead bodies, in mad joy that two more of the most dangerous of all their enemies had been slain.',\n",
       " 'Making that first proved Davis Bertans Latvian Laser shirt . To be a great experience and the design started attracting attention. They received a lot of interest from people wanting to know where they could get one.The #DavisBertansLatvianLasershirt',\n",
       " 'With a dress code that Skeleton I Hope They Serve Tacos In Hell Vintage shirt . read “Camp,” this year’s Met Gala pushed celebrities to explore their most outrageous fashion. fantasies, and the majority of partygoers truly got into the theme.',\n",
       " 'Finding himself dressed with twenty Parrot Anatomy shirt . minutes to spare,tshirtclassic he had the curiosity to try the door. It wasn’t locked. He went down the stairs deliberately, expecting at every step to encounter Morphew or Pagan or else discover some servant spying on him.',\n",
       " 'If you really like Japanese Ame Uma Mulher E Vrias Guitarras shirt . animations and comics you’ve come to the right place. RawMeat is a well-known brand that promotes horror t-shirts designs inspired by the Japanese culture. #AmeUmaMulherEVriasGuitarrasshirt',\n",
       " 'While it is fashionable among fashion editors to bash Slimane Cakes curves and cuss words thats what im made of shirt . I thought this look was terrific, even as it grew repetitive. #Cakescurvesandcusswordsthatswhatimmadeofshirt',\n",
       " 'Neatoshop is rarely running LOVE American Bully shirt . big sales but when there’s one, it makes up for everything. Like this one just before Halloween. They always have the best pop culture designs, created by some of the most skillful independent artists. #LOVEAmericanBullyshirt',\n",
       " 'Well, apparently the end i like bourbon and my smoker and maybe 3 people shirt . of summer is not as bad as expected. Usually, the beginning of autumn is filled with discount offers which makes this end of the sunny season more bearable. Such are the news coming from the Tshirt Factory site.',\n",
       " 'There are Hotspurs, doubtless native blood runs through my veins shirt . enough of them at the South; and Jehus, too many, at the North.And there are cunning politicians to stand between the two sections, and play upon the prejudices of both, and into each other’s hands, for selfish ends.',\n",
       " 'Have you seen it Meet dick smack talkin the talk divk a packers fan shirt . This tshirts with cats collection is truly worth barking about. Black kittens, Main Coon, Bengali..you name it. The point is that cats are forever. #Meetdicksmacktalkinthetalkdivkapackersfanshirt',\n",
       " 'Dress up your bump Pig Im Not Eat Im Just So Freakin Sexy It Overflows shirt . #PigImNotEatImJustSoFreakinSexyItOverflowsshirt',\n",
       " 'Kering, the parent company Sim eu sou a louca dos gatos paw dogs shirt . that owns Gucci, Saint Laurent, Balenciaga, Alexander McQueen and more, has announced a new company policy that all models hired must be over the age of 18, effective 2020. #Simeusoualoucadosgatospawdogsshirt',\n",
       " 'Emirez is one of the most prolific Bear camping I like my racks big and my meat rubbed shirt . illustrators selling his designs on Tshirt-Factory.com. He’s joining the bundle club for a limited time. #BearcampingIlikemyracksbigandmymeatrubbedshirt',\n",
       " 'He would be in time—perhaps Wonder Woman Some Aunts Wear Pink Real Aunts Wear Ink Vintage shirt .If so with none to spare. #WonderWomanSomeAuntsWearPinkRealAuntsWearInkVintageshirt',\n",
       " \"Your DC Comics Universe Astros and Rockets and Texans loyal to Houston shirt .fan will cvctees. This toddler boys' short-sleeve T-shirt set includes three solid-colored T-shirts, with shirts that have the Batman, Superman and Flash logo on the front.\",\n",
       " 'There are some differences Yes Im A Stubborn Daughter But Not Yours I Am The Property Of A Freaking shirt . but for the most part it’s sticking close enough to Venom Lethal Protector. Spider Man didn’t even show up until the end to help Venom fight the other symbiotes.',\n",
       " 'Posting videos of herself I May Not Live In Norway But Norway Will Always Live In Me shirt . on social media, Lizzo is seen arriving and checking into the Virgin. Atlantic Upper Class area in full-on bougie fashion, her pink plumage drawing some double-takes as she heads to her flight.',\n",
       " 'The collective is living 2020 trust science not morons antitrump shirt . proof of music’s role as a powerful medium for expressing your identity. #2020trustsciencenotmoronsantitrumpshirt',\n",
       " 'The banking legislation Im So Tired Of Being My Wifes Arm Candy shirt .of #ImSoTiredOfBeingMyWifesArmCandyshirt',\n",
       " 'But Trump has yet Bubble hockey legend shirt . to chime in on another piece of news from North Korea: that it has executed its special envoy to the United States on spying charges, part of a reported purge of the country’s top nuclear negotiators. #Bubblehockeylegendshirt',\n",
       " 'Show some state pride with Just A Montana Girl Flip Flops Paw Dog Wine and Camping shirt . This stylish graphic tee is a little bit like Georgians themselves — straightforward, humble and always comfortable in any situation. #JustAMontanaGirlFlipFlopsPawDogWineandCampingshirt',\n",
       " \"Add whimsical comfort I Wear This Shirt Periodically Sarcastic Science shirt .to his clothing collection with cvctees. This toddler boys' T-shirt is made from 100% cotton fabric, helping him stay soft and comfy throughout his day. #IWearThisShirtPeriodicallySarcasticScienceshirt\",\n",
       " \"Dreaming of balmy nights Cherokee Blood Runs Through My Veins shirt . and swaying palms? If you're missing Miami, pick up this 3/4-Sleeve Miami-Triangle-Badge Raglan Graphic T-Shirt from Awake. #CherokeeBloodRunsThroughMyVeinsshirt\",\n",
       " 'Some wedding dresses Elephant Ill Get Over It I Just Need To Be Dramatic First shirt . out there are still very much costume. Eventually. she circled back to Beccaria, sending a text that said: “I would love for you to help me do my entire wedding.”',\n",
       " 'The thing is forms a First We Steal Your Heart Then We Steal Your Bed And Sofa My Dogue shirt . Spiderman like suit for Eddie because it had previously been attached to Peter. But if there’s no Peter, why did it still take the form of the black Spiderman suit.',\n",
       " 'It rained the first Never Underestimate An Old Lady Who Loves Reading And Was Born In February shirt . three days I was in Puerto Vallarta, and the forecast predicted there’d be a crazy storm coming at the end of the week. The crew thought we should forget about the shoot, get out while we could.',\n",
       " 'Thank you for Blue Planet the I Dont Sugar Coat Shit Im Not Willy Wonka shirt . series made me reevaluate my efforts to reduce my non recyclable waste, see where I’ve fallen short, and commit myself to doing more. I’ve given up plastic straws at home and use reusable straws.',\n",
       " 'He developed asthma in his sixties I Am A Pearl Jam Girl Vintage shirt . His breathing became labored. One day he was walking along the Charles River, and a cold burst of wind left him choking for air. He was rushed to the hospital and injected with Adrenalin.A',\n",
       " 'so it is aimed at bright 15-year-olds Alexa Mute My German Wife shirt . Mona Lisa sucking candy shirt. But I had already been reading the ad adult paper version for a year or two at that age. #AlexaMuteMyGermanWifeshirt',\n",
       " 'It’s a low-key move for I run on wine golden retriever hair and cuss words shirt . such a major night. but it shouldn’t come as any big surprise if you keep up with Ocean’s Instagram. #Irunonwinegoldenretrieverhairandcusswordsshirt',\n",
       " 'Look effortlessly chic Person woman man camera TV words cognitive test shirt .on casual days cvctees. Cut in a regular fit with a simple V-neckline and a timeless pattern of white horizontal stripes, this green short-sleeve T-shirt makes a great go-to that easily pairs with a variety of bottoms.',\n",
       " \"A junior shirt fits smaller and tighter than a women’s shirt Synovus I Can'T Stay At Home Covid 19 2020 Superman T-Shirt . Ask your customer service specialist about this when ordering to make sure you get the best explanation of what style to order.\",\n",
       " \"A junior shirt fits smaller and tighter than a women’s shirt Synovus I Can'T Stay At Home Covid 19 2020 Superman T-Shirt . Ask your customer service specialist about this when ordering to make sure you get the best explanation of what style to order.\",\n",
       " 'Tales of Vesperia is getting a remaster Sloth drink coffee i hate morning people and mornings and people vintage retro shirt .very soon, I am unfamiliar with Risen, I have never seen the Two Worlds series defended, or brought up, to begin with. I will add them though, thank you. I',\n",
       " 'Locating the venue within Kipo And The Age Of Wonderbeasts shirt . Central Park was made easy thanks to a troupe of performers who welcomed the crowd during their one night off from the stage. #KipoAndTheAgeOfWonderbeastsshirt',\n",
       " 'It might with some plausibility be objected Scuba diving never underestimate an old woman who loves underwater hockey sunset shirt . #Scubadivingneverunderestimateanoldwomanwholovesunderwaterhockeysunsetshirt',\n",
       " 'Celebrating more than Remember Happiness Is Way Of Travel Not A Destination Bus shirt . 100 years of authentic American heritage.The 1901 collection is a nod to the longstanding comfort and quality that Hanes is known for. #RememberHappinessIsWayOfTravelNotADestinationBusshirt',\n",
       " 'Intuition gave one gleam of hope SHE GOT MAD HUSTLE AND A DOPE SOUL LIPS WEED shirt . #SHEGOTMADHUSTLEANDADOPESOULLIPSWEEDshirt',\n",
       " 'There’s been an outpouring Dont mess with Philadelphia Vintage retro shirt . of super hero or comic book film adaptations coming from Hollywood. More or less successful. In terms of box office, the majority of them have been right on the money, but true fans may disagree.Guardians',\n",
       " 'There are some differences Druncle Like A Normal Uncle Only Drunker Happy International Beer Day shirt . but for the most part it’s sticking close enough to Venom Lethal Protector. Spider Man didn’t even show up until the end to help Venom fight the other symbiotes.',\n",
       " \"You don't have to dress up head-to-toe to appreciate a good black T-shirt Enthlt apotheker gebrauchshinweise energieinhalt shirt . #Enthltapothekergebrauchshinweiseenergieinhaltshirt\",\n",
       " 'Has anyone made this People Say I Act Like Im Crazy shirt . With toasted candy chopped pecans in the layer gram cracker crust And tad more whipped cream with bourbon folded in. Just love pumpkin pie made this way. Don’t know if cream cheese would be to rich done my way. Secret.',\n",
       " 'We may not be able Skeleton Let Me Pour You A Tall Glass Of Get The Fuck Over It shirt . to show you \"A Whole New World,\" but we can certainly show you \"a new fantastic point of view\" with. #SkeletonLetMePourYouATallGlassOfGetTheFuckOverItshirt',\n",
       " 'Tshirt Factory knows how much One Two Freddys Coming For You Vintage shirt . you fancy the big end of season sales. #OneTwoFreddysComingForYouVintageshirt',\n",
       " 'Oh! there are a hundred different ways Principal Ill Be There For You From 6ft Away shirt . all good, for an undesirable alien to sneak into this country—by rail from Canada or Mexico, or through any port but New York—running next to no risk of being spotted and held up except by accident.',\n",
       " 'If one plastic bag could kill Rebel Flag Beach Towel Grim Reaper Assuming Im Just An Old Man Was Your First Mistake shirt . a beautiful turtle in the sea, there is one person who used that bag and threw it away.',\n",
       " 'It’s the hottest time Scharfes Outfit Comic Chilli Scharfe Chili Langarmshirt shirt . of year but fall will be here before we know it. As the year continues and temperatures drop outside, your market is looking for pieces to wear in all kinds of weather.',\n",
       " 'Consider this for a moment Skull Tattoo Floral Radiologic Technologist shirt . #SkullTattooFloralRadiologicTechnologistshirt',\n",
       " 'Show some love for your Rotten To The Core Bad Apple shirt . city\\'s craft beer and cocktail scene with cvctees. Featuring graphic text that says \"Drink Local\" with a frothy brew for the \"i,\" this short-sleeve graphic tee will make a fun addition to your wardrobe while supporting local.',\n",
       " 'Cleveland Ohio – Your Stay in Shape shirt . Hometown T is a new line of focused on allowing people to show off their pride for that special place they call their hometown. Brent White, owner of Your Hometown T, has designs for over 125 US cities and is adding new cities every day.',\n",
       " 'We’re back with the latest Trump Yoga Eff You See Kay Why Oh You shirt . most popular news from the graphic design industry, with a focus on t-shirt promotions. #TrumpYogaEffYouSeeKayWhyOhYoushirt',\n",
       " 'Ummm, wellI got large in the champion and Never give up Crewneck shirt in the Stone Island… I feel like the stone island may be a tad smaller, so in that case, they would be TTS… but for me, I always measure a tee that fits me good and use the size chart to get a perfect match! That is my',\n",
       " 'I think I’ve seen numerous Vintage Golden Girls Picture It Quarantine 2020 shirt . apparel brand trying to offer sustainable, long-lasting, waterproof t-shirts that will save you time, money and the headache of washing/drying/ironing them. But I can’t name any one of them.',\n",
       " 'Calling all Little Monsters Stay Away From Stupid People shirt . a number of Lady Gaga archival pieces have landed at the Park MGM hotel in Vegas as part of a brand-new Haus of Gaga Fashion Exhibition. #StayAwayFromStupidPeopleshirt',\n",
       " 'Reader in your town many like Weekend Forecast 100 Chance Of Cornhole And Beer Vintage shirt .these are brooding alone over unaccountable vistas of the future of their city, that have come to them in battle or by the fireside or in the storm.',\n",
       " 'Reader in your town many like Weekend Forecast 100 Chance Of Cornhole And Beer Vintage shirt .these are brooding alone over unaccountable vistas of the future of their city, that have come to them in battle or by the fireside or in the storm.',\n",
       " 'Wheeling headlights raked aisles I may live in Prince Edward Island but my story began in Ontario shirt . #ImayliveinPrinceEdwardIslandbutmystorybeganinOntarioshirt',\n",
       " 'Back in early March Lips leopard august 3rd girl hated by many love by plenty heart on her sleeve fire in her soul a mo shirt . Michèle Lamy posted an adorable meta selfie with her husband. designer Rick Owens, both beaming in icy Tallinn, Estonia.',\n",
       " 'Fanny, rejoicing in her escape Ive Been Called a Lot Of Names In My Lifetime But Grandpa is My Favorite shirt . #IveBeenCalledaLotOfNamesInMyLifetimeButGrandpaisMyFavoriteshirt',\n",
       " 'Last September I may live in utah but my story began in new york shirt . transgender models occupied a record 91 runway spots across New York, London, and Paris Fashion Weeks, The Fashion Spot noted in its seasonal diversity report. #Imayliveinutahbutmystorybeganinnewyorkshirt',\n",
       " 'The dress over pants trend If You Cant Handle The Heat Get Out Of The Lab Chemistry shirt . is far from dead, but fully alive and well on the runways and street. #IfYouCantHandleTheHeatGetOutOfTheLabChemistryshirt',\n",
       " 'In my favorite book, Persepolis I may live in new mexico but my story began in arizona shirt . it’s written: “In life you’ll meet a lot of jerks. If they hurt you, tell yourself that it’s because they’re stupid. That will help keep you from reacting to their cruelty.',\n",
       " 'The stateroom had been designed If The Next Trend Could Be Thinking That Would Be Great Science Vintage Retro shirt .and fitted to accomodate three people without crowding tshirtclassic. Nevertheless it had every appearance of dedication to the uses of a single tenant.',\n",
       " 'Creative Market didn’t have a big Black Move Over Girls Let This Old Lady Show You How To Be A Correctional Officer Vintage Retro shirt . Friday or Cyber Monday sale. But that should never be a reason for complaining.',\n",
       " 'There are some differences Its not really drinking wine alone if the cat is home vintage retro shirt . but for the most part it’s sticking close enough to Venom Lethal Protector. Spider Man didn’t even show up until the end to help Venom fight the other symbiotes.',\n",
       " \"Showcase your love Some Girls Love Beards And Tattoos Its Me Im Some Girls shirt .for your favorite animated family with. This long-sleeve Simpsons tee features an image of TV's most famous cartoon family, along with the iconic logo printed on the sleeve.\",\n",
       " 'You never forget your Lawn mower grass waits for no man vintage retro shirt . first time in Lagos. As Paloma Elsesser will tell you, the Nigerian megatropolis seems to pulsate with vibrant energy at pretty much every hour of the day and night.',\n",
       " \"Designers have made Save A Beard Shave A Beaver Vintage Retro shirt . their fair share of recommendations for sporting a head-turning ponytail in recent seasons, but with the French Open picking up speed, we can't help but think that the top players may be an equally formidable resource.\",\n",
       " 'My three friends had all lost their hats THATS WHAT I DO I DRINK COFFEE I HATE PEOPLE AND I KNOW THINGS CAT VINTAGE RETRO shirt . and had now bound handkerchiefs round their heads,their clothes hung in ribbons about them, and their unshaven grimy faces were hardly to be recognized.',\n",
       " 'When I think about year Thats What I Do I Drink I Grill And I Know Things Pitbull Beer Vintage Retro shirt . 2020 it seems. so far into the future, one with flying cars and rogue androids. Well, believe or not, it’s 2 years from now and I haven’t seen any flying cars yet.',\n",
       " 'You’ll have free time during Astronaut i take social distancing to a whole new level shirt . Your and there’s plenty of snow everywhere it’s the perfect chance to have a go at tobogganing in the snowy wilderness, throw snowballs and build snowmen.',\n",
       " 'The collective is living Hair stylist because badass miracle worker isnt an official job title roses shirt . proof of music’s role as a powerful medium for expressing your identity. #Hairstylistbecausebadassmiracleworkerisntanofficialjobtitlerosesshirt',\n",
       " 'A harmonious blend Bigfoot I Dont Care About Masks I Hate People shirt . of sweet detail and sassy style, shows your lively fashion sense, even when you’re looking for casual comfort. #BigfootIDontCareAboutMasksIHatePeopleshirt',\n",
       " 'Wales Bonner invited Laraaji Cactus Juice Drink Its The Quenchiest shirt . to set the stage in New York. playing his signature zither dressed in an orange Wales Bonner shirt atop the tie-dyed cloth that cloaked the shrine (which became decorated with pink and white flowers as people filed in).',\n",
       " 'Wales Bonner invited Laraaji Cactus Juice Drink Its The Quenchiest shirt . to set the stage in New York. playing his signature zither dressed in an orange Wales Bonner shirt atop the tie-dyed cloth that cloaked the shrine (which became decorated with pink and white flowers as people filed in).',\n",
       " 'The disturbance below by this Dont Stop Being Meowvalous shirt . time had attained the proportions of a small riot. tshirtclassic There were scuffling feet on the stairs. Nearer at hand Folly was screaming. #DontStopBeingMeowvalousshirt',\n",
       " 'Represent your favorite Cat Dont Be A Kittisaurus Vintage shirt . #CatDontBeAKittisaurusVintageshirt',\n",
       " 'I could just imagine Cute Elephant Im Sorry Did I Roll My Eyes Out Loud shirt . how risky and treacherous the rescuers are doing. This act of heroism is indeed worthy of emulation or maybe a nobel prize from the Thai Government or any institutions.We',\n",
       " 'My three friends had all lost their hats Get Off My Lawn Vintage shirt . and had now bound handkerchiefs round their heads,their clothes hung in ribbons about them, and their unshaven grimy faces were hardly to be recognized. #GetOffMyLawnVintageshirt',\n",
       " 'Andy Bullock but that’s why I Just Really Like Elephants shirt . #IJustReallyLikeElephantsshirt',\n",
       " 'When it comes to t-shirt Id tell you to go to hell but I dont want to see you again shirt . serigraph printing we have an expanded palette. Yet, the most popular one is screen printing Today, we`ll focus on the best five serigraph printing approaches for personalized t-shirts.There',\n",
       " 'The Farmer Took a Jesus Saves Im Just A CNA Lending My Hand Vintage shirt . Wife is proud to be able to give you some of these viral tees from a different company and proud to make some of our own. #JesusSavesImJustACNALendingMyHandVintageshirt',\n",
       " 'Wheres My Money My Lick The Salt Swallow The Tequila shirt .Horse Is Either Wearing It Eating It Or Sleeping In It shirt. BrRob but the Pink Floyd 55th anniversary 1965 2020 thank you for the memories Shirt still have to INVESTIGATE it and find it to be TRUE before they can arrest you.',\n",
       " 'Whether you’re a I Run Better Than The Government Vintage shirt .country girl at heart or simply love a good graphic tee, slip into from Grayson Threads for a simple touch of country style. #IRunBetterThanTheGovernmentVintageshirt',\n",
       " \"This super soft striped No Need To Call The Police shirt .short-sleeve maternity tee has just the right amount of side shirring to accommodate a growing bump. So comfy you'll want to wear it every day. #NoNeedToCallThePoliceshirt\",\n",
       " 'Back at the head of the stairs Its all about the pain the ink is just a souvenir 2020 shirt . he felt warranted in assuming that his daring with the telephone had not betrayed him. #Itsallaboutthepaintheinkisjustasouvenir2020shirt',\n",
       " 'He meant I would be Back the blue american flag independence day shirt .the laughingstock of the world If I am president. He is really oblivious to the reason this country has become more of a joke than it was. #Backtheblueamericanflagindependencedayshirt',\n",
       " \"This toddler boys' short-sleeve T-shirt Be the change you wish to see in the world mahatma gandhi shirt . set includes three solid-colored T-shirts, with shirts that have the cvctees. #Bethechangeyouwishtoseeintheworldmahatmagandhishirt\",\n",
       " 'Whether you make political shirts or not Raise your hand if youre tired of everything shirt . The news is a good source of inspiration when it comes to making marketable t-shirts. Whatever is trending in your market has a big chance of making a good impression when printed on a tee.',\n",
       " 'I’m sorry to interrupt but what 08 years of chicago fire 2012 2020 8 seasons 180 episodes thank you for the memories signatures shirt . this man has said is indeed true. I have not committed any crime. I do not even know what you are accusing me for.',\n",
       " 'I love to revisit some Cat paw jesus loves you and im trying shirt . of the oldest t-shirt brands that we featured on the blog. It’s not always good news, because many of them are now gone. But I will try to bring forward the good, the brands that are still going strong.Random',\n",
       " 'I’m not championing any holidays Cat rain in a world where you can be anything be kind shirt . I don’t even celebrate Christmas, I’m Jewish! I don’t like New Years either. #Catraininaworldwhereyoucanbeanythingbekindshirt',\n",
       " 'George and Amal Clooney Cat thats what I do I read books I drink wine and I know things shirt . have been on a style roll lately. Last month. #CatthatswhatIdoIreadbooksIdrinkwineandIknowthingsshirt',\n",
       " 'Investigators I may live Iowa but my story began in minnesota shirt .analyze literally minuscule details in abuse images to try and rescue kids. And the English subtitles were bad. #ImayliveIowabutmystorybeganinminnesotashirt',\n",
       " 'You see, an attraction like this isn’t about the hot, young biddy; it’s about the *who is hot* Jeep jesus take the wheel shirt . Her clear desire and intent were intoxicating and inescapable. She came onto me like a hungry shark and I didn’t resist her advances in the least.',\n",
       " 'From casual weekends I may live south dakota but my story began in minnesota shirt .to dinner with friends, brings the simple versatility you need to your wardrobe. #Imaylivesouthdakotabutmystorybeganinminnesotashirt',\n",
       " 'media artist Rose Cat glasses fluff you you fluffin fluff vintage shirt . Simpson, a Santa Clara Pueblo, opens the show. #Catglassesfluffyouyoufluffinfluffvintageshirt']"
      ]
     },
     "execution_count": 50,
     "metadata": {},
     "output_type": "execute_result"
    }
   ],
   "source": [
    "shirt_posts = []\n",
    "for i in science_posts['title']:\n",
    "    for e in i.split(' '):\n",
    "        if e == 'shirt':\n",
    "            shirt_posts.append(i)\n",
    "shirt_posts"
   ]
  },
  {
   "cell_type": "markdown",
   "metadata": {},
   "source": [
    "**Looks like the shirt posts in the science subreddit are mainly spam/advertisements**"
   ]
  },
  {
   "cell_type": "code",
   "execution_count": 52,
   "metadata": {},
   "outputs": [],
   "source": [
    "tech_posts = pd.read_csv('./data/tech.csv', index_col=[0], keep_default_na=False)"
   ]
  },
  {
   "cell_type": "code",
   "execution_count": 55,
   "metadata": {},
   "outputs": [
    {
     "name": "stdout",
     "output_type": "stream",
     "text": [
      "Count of the word shirt in science posts: 0\n"
     ]
    }
   ],
   "source": [
    "shirt_count = 0\n",
    "for i in tech_posts['title']:\n",
    "    for e in i.split(' '):\n",
    "        if e == 'shirt':\n",
    "            shirt_count += 1\n",
    "print(f'Count of the word shirt in science posts: {shirt_count}')"
   ]
  },
  {
   "cell_type": "markdown",
   "metadata": {},
   "source": [
    "**Looks like the shirt spam/advertisements don't appear in the tech subreddit**"
   ]
  },
  {
   "cell_type": "code",
   "execution_count": 54,
   "metadata": {},
   "outputs": [
    {
     "name": "stdout",
     "output_type": "stream",
     "text": [
      "Count of the word free in tech posts: 33\n"
     ]
    }
   ],
   "source": [
    "free_count = 0\n",
    "for i in tech_posts['title']:\n",
    "    for e in i.split(' '):\n",
    "        if e == 'free':\n",
    "            free_count += 1\n",
    "print(f'Count of the word free in tech posts: {free_count}')"
   ]
  },
  {
   "cell_type": "code",
   "execution_count": 56,
   "metadata": {
    "collapsed": true,
    "jupyter": {
     "outputs_hidden": true
    }
   },
   "outputs": [
    {
     "data": {
      "text/plain": [
       "['Reliance JioFiber Unlimited Broadband plans announced: Starting from Rs 399 (5.44 USD) a month with speeds up to 300 Mbps and 30-day free trial',\n",
       " 'Reliance JioFiber Unlimited Broadband plans announced: Starting from Rs 399 (5.44 $ USD) a month with speeds up to 150 Mbps and 30-day free trial',\n",
       " \"Apple forced Facebook to delete a cautionary note stating that Apple takes a 30% cut of all revenue of from Facebook's free charity app aimed at helping Small Businesses through the Pandemic.\",\n",
       " 'T-Mobile is offering a free iPhone 11 Pro to new and existing subscribers',\n",
       " 'Yooo free 5 usd on wish',\n",
       " 'Yooo free 5 usd on wish',\n",
       " 'Yooo free 5 usd on wish',\n",
       " 'Man vs Machine. How will technology change the future jobs of frontline workers? Join us for an engaging online talk show with our host and expert guests. Just 3 weeks to go: Sep. 14th, 11am-12pm CEST More information and free registration:',\n",
       " 'free electricity',\n",
       " 'It’s Not Too Late to Save the Internet - The Trump administration has done enormous damage to the free and open internet worldwide. Here’s what would need to happen to reboot it.',\n",
       " 'Apple apologizes to WordPress, no longer requires free app to add purchases',\n",
       " 'Zoom is down, we’re finally free',\n",
       " 'Youtube red free (ads free) Background play music',\n",
       " 'Apple apologizes to WordPress, won’t force the free app to add purchases after all',\n",
       " \"WordPress developer said Apple wouldn't allow updates to the free app until it added in-app purchases — letting Apple collect a 30% cut\",\n",
       " 'WordPress claims Apple wants 30% of App Store profits even though its free',\n",
       " 'FastComet Web Hosting Review Offer Coupons 2020 Fastcomet web hosting review, fastcomet review, fastcomet wordpress hosting, fastcomet shared hosting, fastcomet cloud vps hosting, Fastcomet free domain, Fastcomet offers coupons. We',\n",
       " 'WordPress claims Apple cut off updates to its completely free app because it wants 30 percent',\n",
       " 'How To Upload Picture On Unsplash -unsplash free photos image pictures share platform stoke free all-and HD picture free all in own picture upload you can enjoy to download free hd image-and use commercial any way -every free picture for use your channel and more-and use your own website_Thanks',\n",
       " 'How To Upload Picture On Unsplash -unsplash free photos image pictures share platform stoke free all-and HD picture free all in own picture upload you can enjoy to download free hd image-and use commercial any way -every free picture for use your channel and more-and use your own website_Thanks',\n",
       " 'How To Upload Picture On Unsplash -unsplash free photos image pictures share platform stoke free all-and HD picture free all in own picture upload you can enjoy to download free hd image-and use commercial any way -every free picture for use your channel and more-and use your own website_Thanks',\n",
       " 'How To Upload Picture On Unsplash -unsplash free photos image pictures share platform stoke free all-and HD picture free all in own picture upload you can enjoy to download free hd image-and use commercial any way -every free picture for use your channel and more-and use your own website_Thanks',\n",
       " 'How To Upload Picture On Unsplash -unsplash free photos image pictures share platform stoke free all-and HD picture free all in own picture upload you can enjoy to download free hd image-and use commercial any way -every free picture for use your channel and more-and use your own website_Thanks',\n",
       " 'Top 10 Fast And free Youtube Downloaders For Windows, Mac And Android',\n",
       " 'Facebook linked to free speech crackdown in India after lobbyist files charges',\n",
       " 'how to make free gas generator from water diy experiment new fuel cell e...',\n",
       " 'Google warns Australians could lose free search services, due to government plans to make them pay for news content',\n",
       " 'How to use Google’s free transcription tools',\n",
       " 'Reliance Jio provides 5 months of free data, calls',\n",
       " 'how to chack website value for free /sonu bamnavat',\n",
       " \"We've created an innovative way to promote products and services of brands who are willing to go online. Our sales conversion ratio is 10× more of Facebook and Google ads we currently in Beta are allowing 100 brands for free 💯🔥\",\n",
       " 'Always read the fine print? GM Super Cruise only free for three years - It turns out the advanced hands-free driving system requires a subscription.',\n",
       " 'Found new tech that offers free secure web based video conferencing - Magnifi']"
      ]
     },
     "execution_count": 56,
     "metadata": {},
     "output_type": "execute_result"
    }
   ],
   "source": [
    "free_posts = []\n",
    "for i in tech_posts['title']:\n",
    "    for e in i.split(' '):\n",
    "        if e == 'free':\n",
    "            free_posts.append(i)\n",
    "free_posts"
   ]
  },
  {
   "cell_type": "markdown",
   "metadata": {},
   "source": [
    "**Looks like free posts are a mix of spam, event announcements and actual posts**"
   ]
  },
  {
   "cell_type": "code",
   "execution_count": null,
   "metadata": {},
   "outputs": [],
   "source": []
  }
 ],
 "metadata": {
  "kernelspec": {
   "display_name": "Python 3",
   "language": "python",
   "name": "python3"
  },
  "language_info": {
   "codemirror_mode": {
    "name": "ipython",
    "version": 3
   },
   "file_extension": ".py",
   "mimetype": "text/x-python",
   "name": "python",
   "nbconvert_exporter": "python",
   "pygments_lexer": "ipython3",
   "version": "3.8.3"
  }
 },
 "nbformat": 4,
 "nbformat_minor": 4
}
