{
 "cells": [
  {
   "cell_type": "code",
   "execution_count": 1,
   "metadata": {},
   "outputs": [],
   "source": [
    "# Standards\n",
    "import pandas as pd\n",
    "import numpy as np\n",
    "import matplotlib.pyplot as plt\n",
    "import seaborn as sns\n",
    "\n",
    "# API\n",
    "import requests\n",
    "\n",
    "# Automating\n",
    "import time\n",
    "import datetime\n",
    "import warnings\n",
    "import sys\n",
    "\n",
    "# Preprocessing\n",
    "from sklearn.feature_extraction.text import CountVectorizer, TfidfVectorizer\n",
    "\n",
    "# Modeling\n",
    "from sklearn.model_selection import train_test_split, GridSearchCV\n",
    "from sklearn.pipeline import Pipeline\n",
    "from sklearn.linear_model import LogisticRegression\n",
    "from sklearn.naive_bayes import MultinomialNB\n",
    "from sklearn.metrics import confusion_matrix, plot_confusion_matrix"
   ]
  },
  {
   "cell_type": "markdown",
   "metadata": {},
   "source": [
    "# Collect Data"
   ]
  },
  {
   "cell_type": "code",
   "execution_count": 6,
   "metadata": {},
   "outputs": [],
   "source": [
    "def get_posts(subreddit, n_iter, epoch_right_now): # subreddit name and number of times function should run\n",
    "    # store base url variable\n",
    "    base_url = 'https://api.pushshift.io/reddit/search/submission/?subreddit='\n",
    "\n",
    "    # instantiate empty list    \n",
    "    df_list = []\n",
    "    \n",
    "    # save current epoch, used to iterate in reverse through time\n",
    "    current_time = epoch_right_now\n",
    "    \n",
    "    # set up for loop\n",
    "    for post in range(n_iter):\n",
    "        \n",
    "        # instantiate get request\n",
    "        res = requests.get(\n",
    "            \n",
    "            # requests.get takes base_url and params\n",
    "            base_url,\n",
    "            \n",
    "            # parameters for get request\n",
    "            params = {\n",
    "                \n",
    "                # specify subreddit\n",
    "                'subreddit' : subreddit,\n",
    "                \n",
    "                # specify number of posts to pull\n",
    "                'size' : 100,\n",
    "                \n",
    "                # ???\n",
    "                'lang' : True,\n",
    "                \n",
    "                # pull everything from current time backward\n",
    "                'before' : current_time }\n",
    "        )\n",
    "        \n",
    "        # take data from most recent request, store as df\n",
    "        df = pd.DataFrame(res.json()['data'])\n",
    "        \n",
    "        # pull specific columns from dataframe for analysis\n",
    "        df = df.loc[:, ['title',\n",
    "                        'created_utc', \n",
    "                        'selftext',\n",
    "                        'subreddit',\n",
    "                        'author',\n",
    "                        'media_only',\n",
    "                        'permalink']]\n",
    "        \n",
    "        # append to empty dataframe list\n",
    "        df_list.append(df)\n",
    "        \n",
    "        # add wait time\n",
    "        time.sleep(30)\n",
    "        \n",
    "        # set current time counter back to last epoch in recently grabbed df\n",
    "        current_time = df['created_utc'].min()\n",
    "\n",
    "    # return one dataframe for all requests\n",
    "    return pd.concat(df_list, axis=0)\n",
    "\n",
    "# Adapated from Tim Book's Lesson Example & Sara Soueidan's Breakfast Hour Example"
   ]
  },
  {
   "cell_type": "code",
   "execution_count": 7,
   "metadata": {},
   "outputs": [],
   "source": [
    "science_posts_df = get_posts(subreddit=['science'], n_iter=50, epoch_right_now=1598918400)"
   ]
  },
  {
   "cell_type": "code",
   "execution_count": 8,
   "metadata": {
    "collapsed": true,
    "jupyter": {
     "outputs_hidden": true
    }
   },
   "outputs": [
    {
     "data": {
      "text/plain": [
       "                                                                                                                                                                                                                                                                                                                                                                                                                                                                                                                                                                                                                                                                                                                                                                                                                                                                                                                                                                                                                                                                                                                                                                                                                                                                                                                                                                                                                                                                                                                                                                                                                                                                                                                                                                                                                                                                                                                                                                                                                                                                                                                                                                                                                                                                                                                                                                                                                                                                                                                                                                                                                                                                                                                                                                                                                                                                                                                                                                                                                                                                                                                                                                                                                                                                                                                                                                                                                                                                                                                                                                                                                                                                                                                                                                                                                                                                                                                                                                                                                                                                                                                                                                                                                                                                                                                                                                                                                                                                                                                                                                                                                                                                                                                                                                                                                                                                                                                                                                                                                                                                                                                                                                                                                                                                                                                                                                                                                                                                                                                                                                                                                                                                                                                                                                                                                                                                                                                                                                                                                                                                                                                                                                                                                                                                                                                                                                                                                                                                                                                                                                                                                                                                                                                                                                                                                                                                                                                                                                                                                                                                                                                                                                                                                                                                                                                                                                                                                                                                                                                                                                                                                                                                                                                                                                                                                                                                                                                                                                                                                                                                                                                                                                                                                                                                                                                                                                                                                                                                                                                                                                                                                                                                                                                                                                                                                               4732\n",
       "[deleted]                                                                                                                                                                                                                                                                                                                                                                                                                                                                                                                                                                                                                                                                                                                                                                                                                                                                                                                                                                                                                                                                                                                                                                                                                                                                                                                                                                                                                                                                                                                                                                                                                                                                                                                                                                                                                                                                                                                                                                                                                                                                                                                                                                                                                                                                                                                                                                                                                                                                                                                                                                                                                                                                                                                                                                                                                                                                                                                                                                                                                                                                                                                                                                                                                                                                                                                                                                                                                                                                                                                                                                                                                                                                                                                                                                                                                                                                                                                                                                                                                                                                                                                                                                                                                                                                                                                                                                                                                                                                                                                                                                                                                                                                                                                                                                                                                                                                                                                                                                                                                                                                                                                                                                                                                                                                                                                                                                                                                                                                                                                                                                                                                                                                                                                                                                                                                                                                                                                                                                                                                                                                                                                                                                                                                                                                                                                                                                                                                                                                                                                                                                                                                                                                                                                                                                                                                                                                                                                                                                                                                                                                                                                                                                                                                                                                                                                                                                                                                                                                                                                                                                                                                                                                                                                                                                                                                                                                                                                                                                                                                                                                                                                                                                                                                                                                                                                                                                                                                                                                                                                                                                                                                                                                                                                                                                                                                       259\n",
       "[removed]                                                                                                                                                                                                                                                                                                                                                                                                                                                                                                                                                                                                                                                                                                                                                                                                                                                                                                                                                                                                                                                                                                                                                                                                                                                                                                                                                                                                                                                                                                                                                                                                                                                                                                                                                                                                                                                                                                                                                                                                                                                                                                                                                                                                                                                                                                                                                                                                                                                                                                                                                                                                                                                                                                                                                                                                                                                                                                                                                                                                                                                                                                                                                                                                                                                                                                                                                                                                                                                                                                                                                                                                                                                                                                                                                                                                                                                                                                                                                                                                                                                                                                                                                                                                                                                                                                                                                                                                                                                                                                                                                                                                                                                                                                                                                                                                                                                                                                                                                                                                                                                                                                                                                                                                                                                                                                                                                                                                                                                                                                                                                                                                                                                                                                                                                                                                                                                                                                                                                                                                                                                                                                                                                                                                                                                                                                                                                                                                                                                                                                                                                                                                                                                                                                                                                                                                                                                                                                                                                                                                                                                                                                                                                                                                                                                                                                                                                                                                                                                                                                                                                                                                                                                                                                                                                                                                                                                                                                                                                                                                                                                                                                                                                                                                                                                                                                                                                                                                                                                                                                                                                                                                                                                                                                                                                                                                                         3\n",
       "Black people in the United States face increased likelihood of adverse health outcomes compared to white people. For example, rates of heart disease, stroke, and infant mortality [are higher for Black people](https://www.cdc.gov/minorityhealth/CHDIReport.html) \\-- Black babies are over [twice as likely to survive](https://www.theguardian.com/world/2020/aug/17/black-babies-survival-black-doctors-study) when treated by Black doctors. Health outcome [models and algorithms even predict](https://science.sciencemag.org/content/366/6464/447) that Black people are sicker than white people with similar health risk. Medical research and practice have long devalued the humanity of Black people in the United States, too: Black men were misled, mistreated, and abused by studies like the [Tuskegee syphilis study](https://www.cdc.gov/tuskegee/timeline.htm); Black women have [much higher likelihood](https://www.heart.org/en/news/2019/02/20/why-are-black-women-at-such-high-risk-of-dying-from-pregnancy-complications) of dying from pregnancy complications, their symptoms often being dismissed by doctors; and Black people in the United States receive [worse healthcare than white people](https://www.americanbar.org/groups/crsj/publications/human_rights_magazine_home/the-state-of-healthcare-in-the-united-states/racial-disparities-in-health-care/) while also having less access to high-quality care. Today, our panelists will discuss these issues and more.\\n\\nAs mentioned in a [previous announcement post](https://www.reddit.com/r/BlackPeopleTwitter/comments/h0afge/rscience_affirms_that_black_lives_matter_heres/), the moderators of [/r/science](https://www.reddit.com/r/science) have worked in collaboration with the moderators of [/r/blackpeopletwitter](https://www.reddit.com/r/blackpeopletwitter) and [/r/blackladies](https://www.reddit.com/r/blackladies) to create this series of discussion panels focused on race in America. These panels will be led by subject area specialists including scientists, researchers, and policy professionals so that we can engage with multiple expert perspectives on those important topics. A list of the panels, guests, and dates can be found [here](https://www.reddit.com/r/science/comments/hu52pr/rscience_announces_a_series_of_discussion_panels/). \\n\\nOur guests will be answering throughout the day under the account u/health_inequities. With us today are:\\n\\n**Consuelo H. Wilkins:** Consuelo H. Wilkins, MD, MSCI, a trained geriatrician, is Vice President for Health Equity at Vanderbilt University Medical Center; Professor of Medicine and Associate Dean for Health Equity at Vanderbilt University School of Medicine; and Executive Director of the Meharry-Vanderbilt Alliance. Dr. Wilkins is a nationally recognized thought leader in health equity and in addressing the elimination of systemic inequities that impact the health and well-being of racial/ethnic minorities. As a community engagement research scientist, Dr. Wilkins has pioneered new approaches to engaging vulnerable, socioeconomically disadvantaged, and minority populations. She is Principal Investigator (PI) of three NIH-funded centers focused on translational science; precision medicine; and disparities, and PI of a Robert Wood Johnson Foundation award on engendering trust in health care among African American men.\\n\\n**Derek M. Griffith:** Dr. Derek M. Griffith is Professor of Medicine, Health and Society, and he is the Founder and Director of the Center for Research on Men’s Health at Vanderbilt University. Trained in psychology and public health, Dr. Griffith has collaborated with colleagues in Canada, Ireland, New Zealand and the United States to address institutional racism in public health departments and systems, and to pursue health equity, particularly by race and gender. Dr. Griffith has published more than 120 peer-reviewed manuscripts and he is a contributor to and editor of two recent books – *Men’s Health Equity: A Handbook*, and *Racism: Science and Tools for the Public Health Professional*.\\n\\n**Georges Benjamin:** Georges C. Benjamin, MD, MACP, FACEP (E), FNAPA is the executive director of the American Public Health Association and a former Secretary for Health for the state of Maryland. A graduate of the Illinois Institute of Technology and the University Of Illinois College Of Medicine, he is an elected member of the National Academy of Medicine.\\n\\n**Stephen B. Thomas:** I am a 'troublemaker' ... I make Good Trouble! I am Professor of Health Policy and Management and Director of the Maryland Center for Health Equity in the School of Public Health at the University of Maryland in College Park. I translate the science of medicine and public health into culturally tailored community-based interventions. Building bridges, building TRUST is our way to build Healthy Communities.\\n\\n**Thomas A. LaVeist:** Thomas LaVeist is dean of the Tulane University, School of Public Health and Tropical Medicine. He has written over 150 scientific articles, numerous mass media outlets, authored six books, and is executive producer of “The Skin You’re In,” documentary series about racial inequalities in health. An award winning research scientist, Dr. LaVeist has received the “Innovation Award” from National Institutes of Health, the “Knowledge Award” from the U.S.A. Department of Health and Human Services and was elected to the National Academy of Medicine.                                                                                                                                                                                                                                                                                                                                                                                                                                                                                                                                                                                                                                                                                                                                                                                                                                                                                                                                                                                                                                                                                                                                                                                                                                                                                                                                                                                                                                                                                                                                                                                                                                                                                                                                                                                                                                                                                                                                                                                                                                                                                                                                                                                                                                                                                                                                                                                                                                                                                                                                                                                                                                                                                                                                                                                                                                                                                                                                                                                                                                                                                                                                                                                           1\n",
       "Hi Reddit! As we mentioned in a [previous announcement](https://www.reddit.com/r/BlackPeopleTwitter/comments/h0afge/rscience_affirms_that_black_lives_matter_heres/), [the moderators](https://i.imgur.com/DGWqasT.png) of [/r/science](https://old.reddit.com/r/science) have worked in collaboration with the moderators of [/r/blackpeopletwitter](https://old.reddit.com/r/blackpeopletwitter) and [/r/blackladies](https://old.reddit.com/r/blackladies) to create a series of upcoming discussion panels focussed on race in America. These panels will be led by subject area specialists including scientists, researchers, and policy professionals so that we can hear multiple expert perspectives on these important topics. \\n\\nAs with our AMAs, discussion posts will be posted in the morning to allow topics and questions for the panel to come in ahead of the panelists arriving to participate. \\n\\nWe would like to remind our readers that our discussions will be strictly moderated to ensure that these conversations are productive. **We have a zero tolerance policy for racism, sexism, or bigotry of any kind.** Hard questions are allowed; disrespectful questions are not. We have a team of more than 1,500 moderators who will ensure that our rules are followed, and ***bans will be given on the first offense***, so please make sure you read and follow our rules in the sidebar.\\n\\nThe scheduling of these discussions is in progress, and we will update the topic list below with details of the date and guests for each discussion as they are finalized.\\n\\n* [**Effects of policing and police brutality, Monday, July 20th 2020**](https://old.reddit.com/r/science/comments/huk5kh/science_discussion_series_we_are_researchers_who/)\\n\\n    * [Sirry Alang](https://socanthro.cas.lehigh.edu/content/sirry-alang-0)\\n\\n    * [Hannah Cooper](https://www.sph.emory.edu/faculty/profile/index.php?FID=218)\\n\\n    * [Donna McAlpine](https://directory.sph.umn.edu/bio/sph-a-z/donna-mcalpine)\\n\\n    * [Rachel Hardeman](https://directory.sph.umn.edu/bio/sph-a-z/rachel-hardeman)\\n\\n    * [Rashawn Ray](https://socy.umd.edu/facultyprofile/ray/rashawn)\\n\\n* **Impact of racism on mental health and access to care in communities of Black, Indiginous, and People of Color (BIPOC), Wednesday, August 5th 2020**\\n* **The leaky or blocked STEM pipeline for BIPOC, TBA**\\n* **Economic and social impacts of race: housing, redlining, education, and the built environment, TBA**\\n* **Racial disparities in medicine/medical research and their impacts on both physicians and health outcomes, TBA**\\n* **Health disparities, social epidemiology, TBA**\\n* **Race in applied tech, big data, STEM, TBA**\\n\\nWe are both grateful to the mods of r/blackpeopletwitter and r/blackladies for working with us and honored by the opportunity to host these experts to bring you this series of discussions. We look forward to your questions and the conversations they will elicit!\\n\\nThanks,\\n\\nThe mods of r/science                                                                                                                                                                                                                                                                                                                                                                                                                                                                                                                                                                                                                                                                                                                                                                                                                                                                                                                                                                                                                                                                                                                                                                                                                                                                                                                                                                                                                                                                                                                                                                                                                                                                                                                                                                                                                                                                                                                                                                                                                                                                                                                                                                                                                                                                                                                                                                                                                                                                                                                                                                                                                                                                                                                                                                                                                                                                                                                                                                                                                                                                                                                                                                                                                                                                                                                                                                                                                                                                                                                                                                                                                                                                                                                                                                                                                                                                                                                                                                                                                                                                                                                                                                                                                                                                                                                                                                                                                                                                                                                                                                                                                                                                                                                                                                                                                                                                                                                                                                                                                                                                                                                                                                                                                                                                                                                                                                                                                                                                                                                                                                                                                                                                                                                                            1\n",
       "Though [science](https://styles.redditmedia.com/t5_mouw/styles/communityIcon_xtjipkhhefi41.png?width=256&amp;s=23dbd8fcbd7c632995ddc63929abe0c2ce3b8b4d) aims to be unbiased and objective, the backgrounds, experiences, and perspectives of who is doing and informing the research impact the questions asked, analysis done, and who benefits from the outcomes. Cultural ideas about people i[nfluence how scientists view](https://www.sciencedirect.com/science/article/pii/S0960982207009943) animal species. The make-up of research teams impacts [whose stories are worth investigating](https://www.sapiens.org/archaeology/archaeology-diversity/), [what kinds of questions get financially supported](https://nexus.od.nih.gov/all/2019/10/10/delving-further-into-the-funding-gap-between-white-and-black-researchers/), and even who is represented in the research studies. For example, facial recognition software and metadata of photos taken at protests have been shown to have a higher rate of false positive matches for Asian and African-American faces over white faces, [sometimes by a factor of 10 or even 100](https://www.technologyreview.com/2019/12/20/79/ai-face-recognition-racist-us-government-nist-study/), in part due to training the algorithm on primary white faces. Structural racism is [pervasive in precision medicine](https://bmcmedethics.biomedcentral.com/articles/10.1186/s12910-020-0457-8), and it deeply influences how scientists and physicians develop health guidelines. How and why such technologies, which engrain racism in our everyday lives, were developed and selected over others are questions that are framed by social history in America and elsewhere. Increasing diversity in science and samples/participants in a study can improve our research and applications of everything from artificial intelligence and machine learning to biobanks and precision medicine to archaeology and geology. Even in psychological science, in which racial biases are often put under intense scrutiny, [structural racism shapes who and what gets published.](https://news.stanford.edu/2020/06/24/psychological-research-racism-problem-stanford-scholar-says/) We’re experts in the ways that racism and lack of diversity hurts Science, Technology, Engineering, and Math and perpetuates inequalities - let’s discuss!\\n\\nAs mentioned in a [previous announcement post](https://www.reddit.com/r/BlackPeopleTwitter/comments/h0afge/rscience_affirms_that_black_lives_matter_heres/), the moderators of [/r/science](https://www.reddit.com/r/science) have worked in collaboration with the moderators of [/r/blackpeopletwitter](https://www.reddit.com/r/blackpeopletwitter) and [/r/blackladies](https://www.reddit.com/r/blackladies) to create this series of discussion panels focused on race in America. These panels will be led by subject area specialists including scientists, researchers, and policy professionals so that we can engage with multiple expert perspectives on those important topics. A list of the panels, guests, and dates can be found [here](https://www.reddit.com/r/science/comments/hu52pr/rscience_announces_a_series_of_discussion_panels/).As mentioned in a [previous announcement post](https://www.reddit.com/r/BlackPeopleTwitter/comments/h0afge/rscience_affirms_that_black_lives_matter_heres/), the moderators of [/r/science](https://www.reddit.com/r/science) have worked in collaboration with the moderators of [/r/blackpeopletwitter](https://www.reddit.com/r/blackpeopletwitter) and [/r/blackladies](https://www.reddit.com/r/blackladies) to create this series of discussion panels focused on race in America. These panels will be led by subject area specialists including scientists, researchers, and policy professionals so that we can engage with multiple expert perspectives on those important topics. A list of the panels, guests, and dates can be found [here](https://www.reddit.com/r/science/comments/hu52pr/rscience_announces_a_series_of_discussion_panels/).\\n\\nOur guests will be answering under the account u/Race_in_tech. With us today are:\\n\\nBios:\\n\\n**André Brock:** André Brock is an associate professor of media studies at Georgia Tech. He studies the rhetoric of technology, Black technoculture, and Black cybercultures; his scholarship examines Black and white representations in social media, videogames, weblogs, and other digital media\\n\\n**Whitney Battle-Baptiste:** Whitney Battle-Baptiste is a Professor of Anthropology and Director of the W. E. B. Du Bois Center at the University of Massachusetts, Amherst. A historical archaeologist of African and Cherokee descent, she has done fieldwork at Colonial Williamsburg, the Hermitage, the W. E. B DuBois Homesite, and other sites. She holds a Ph.D. from the University of Texas, Austin, and conducts research on plantations in the U.S. Southeast, the materiality of contemporary African American popular culture, and Black Feminist theory and its implications for archaeology.\\n\\n**Shirley Malcom:** I am senior advisor and director of SEA Change at the American Association for the Advancement of Science, where I have worked for over 40 years to improve the quality and increase access to education and careers in STEMM. An ecologist by training, I was born and raised in Birmingham, Alabama. My life has been shaped by two important sociopolitical movements: America’s post-Sputnik attention to and emphasis on science, including education and careers, and growing up in the epicenter of the civil rights movement.\\n\\n**Stephen O. Roberts:** I am an Assistant Professor of Psychology at Stanford University, which is where I direct the Social Concepts Lab. My research team seeks to identify and dismantle the psychological biases that maintain and reinforce racism. We work with adults and young children. \\n\\n**Rachel E. Bernard:** Hi! I'm Dr. Rachel Bernard and I am a geologist who studies the material properties of the Earth's lower crust and mantle. I received my undergraduate degree in geological engineering from Princeton in 2009, worked for two years on onshore and offshore oil and gas rigs, worked for another two years at the National Science Foundation, and then completed a PhD at the University of Texas at Austin in 2018. I am currently a visiting Assistant Professor at Amherst College in Massachusetts.\\n\\n**Lisa Rice:** Lisa Rice is the President and CEO of the National Fair Housing Alliance (NFHA), the nation’s only national civil rights agency solely dedicated to eliminating all forms of housing discrimination. Lisa has led her team in using civil rights principles to bring fairness and equity into technologies used in the housing and lending sectors. She serves on the Bipartisan Policy Center’s Civil Society Advisory Council on Artificial Intelligence and FinRegLab’s Machine Learning Advisory Board.  Follow Lisa on Twitter u/ItsLisaRice                                                                                                                                                                                                                                                                                                                                                                                                                                                                                                                                                                                                                                                                                                                                                                                                                                                                                                                                                                                                                                                                                                                                                                                                                                                                                                                                                                                                                                                                                                                                                                                                                                                                                               1\n",
       "George Floyd. Breonna Taylor. Philando Castille. Their lives were cut short by police brutality and their stories have galvanized waves of protests across the world. Yet police brutality is not a new issue. For many Black, Indigenous, and Latinx communities, the impact and fear of police brutality is felt daily and has been for generations. We are researchers who study how policing affects Black Americans’ physical and mental health. We also research interventions to better understand what might reduce police brutality and what measures can help impacted communities heal. Join us for an evidence based discussion about the effects of policing and police brutality in America.\\n\\nAs mentioned in a [previous announcement](https://www.reddit.com/r/BlackPeopleTwitter/comments/h0afge/rscience_affirms_that_black_lives_matter_heres/), [the moderators](https://i.imgur.com/DGWqasT.png) of [/r/science](https://old.reddit.com/r/science) have worked in collaboration with the moderators of [/r/blackpeopletwitter](https://old.reddit.com/r/blackpeopletwitter) and [/r/blackladies](https://old.reddit.com/r/blackladies) to create this series discussion panels focused on race in America. These panels will be led by subject area specialists including scientists, researchers, and policy professionals so that we can engage with multiple expert perspectives on these important topics. A list of the panels, guests, and dates can be found [here](https://www.reddit.com/r/science/comments/hu52pr/rscience_announces_a_series_of_discussion_panels/). Our guests will be on throughout the afternoon to answer your questions and discuss with you.\\n\\nToday our guests are answering under the account u/police_discussion. With us today are:\\n\\n**Sirry Alang**: I am an Associate Professor of Sociology and Health, Medicine and Society at Lehigh University. My work explores the role of social structures and institutions in creating health inequities. I examine the impact of police brutality on racial health inequities, and study the implications of police brutality as a social determinant of health. \\n\\n**Rachel Hardeman**: I am a tenured Associate Professor in the Division of Health Policy &amp; Management, University of Minnesota, School of Public Health and the Blue Cross Endowed Professor in Health and Racial Equity. As a reproductive health equity researcher, I apply the tools of population health science and health services research to elucidate a critical and complex determinant of health inequity—racism. My overarching goal is to contribute to a body of knowledge that links structural racism to health in a tangible way, identify opportunities for intervention, and dismantle the systems, structures, and institutions that allow inequities to persist. \\n\\n**Hannah Cooper**: I hold the Rollins Chair in Substance Use Disorders at Emory University’s Rollins School of Public Health. As a public health researcher, I have dedicated my days to studying and intervening in the ways that social, economic, physical environments shape the health of people who use drugs, and in particular the ways that racialized environments shape inequities in drug-related health outcomes. This commitment has led me to study and work to end police brutality. I had the pleasure of writing a [book](https://jhupbooks.press.jhu.edu/title/enforcers-guardians) on police brutality as a public health issue with Dr. Mindy Fullilove. \\n\\n**Rashawn Ray**: I am Dr. Rashawn Ray, a David M. Rubenstein Fellow at The Brookings Institution and Professor of Sociology at the University of Maryland. I conduct research on ways to ameliorate systemic racism. I focus primarily on police reform and ways to reduce police killings and police brutality. My work also addressing the health spillovers of policing and criminalization. As the Director of the[ Lab](https://sites.google.com/view/lassr) for Applied Social Science Research, I helped develop an innovative virtual reality decision-making program for law enforcement to measure their decision making including behaviors, attitudes, and physiology. My Brookings bio is[ here](https://www.brookings.edu/experts/rashawn-ray/) and some of my articles[ here](https://linktr.ee/SociologistRay). I am on[ Twitter](https://twitter.com/SociologistRay),[ Instagram](https://www.instagram.com/sociologistray/?hl=en), and[ Facebook](https://www.facebook.com/SociologistRay) u/SociologistRay.\\n\\n**Donna McAlpine:**  I am a medical sociologist and associate professor in the School of Public Health at the University of Minnesota.  I direct the graduate program in Health Services Research and Administration.  My research looks at the meaning of mental health and illness, who gets services, and barriers to treatment.  I also research health inequities, including police brutality as a social determinant of health.  \\n\\n\\n**Guests will begin answering this afternoon to provide time for Redditors to ask and vote on questions.**                                                                                                                                                                                                                                                                                                                                                                                                                                                                                                                                                                                                                                                                                                                                                                                                                                                                                                                                                                                                                                                                                                                                                                                                                                                                                                                                                                                                                                                                                                                                                                                                                                                                                                                                                                                                                                                                                                                                                                                                                                                                                                                                                                                                                                                                                                                                                                                                                                                                                                                                                                                                                                                                                                                                                                                                                                                                                                                                                                                                                                                                                                                                                                                                                                                                                                                                                                                                                                                                                                                                                                                                                                                                         1\n",
       "https://www.cell.com/iscience/fulltext/S2589-0042(20)30619-2?hss_channel=tw-18477428                                                                                                                                                                                                                                                                                                                                                                                                                                                                                                                                                                                                                                                                                                                                                                                                                                                                                                                                                                                                                                                                                                                                                                                                                                                                                                                                                                                                                                                                                                                                                                                                                                                                                                                                                                                                                                                                                                                                                                                                                                                                                                                                                                                                                                                                                                                                                                                                                                                                                                                                                                                                                                                                                                                                                                                                                                                                                                                                                                                                                                                                                                                                                                                                                                                                                                                                                                                                                                                                                                                                                                                                                                                                                                                                                                                                                                                                                                                                                                                                                                                                                                                                                                                                                                                                                                                                                                                                                                                                                                                                                                                                                                                                                                                                                                                                                                                                                                                                                                                                                                                                                                                                                                                                                                                                                                                                                                                                                                                                                                                                                                                                                                                                                                                                                                                                                                                                                                                                                                                                                                                                                                                                                                                                                                                                                                                                                                                                                                                                                                                                                                                                                                                                                                                                                                                                                                                                                                                                                                                                                                                                                                                                                                                                                                                                                                                                                                                                                                                                                                                                                                                                                                                                                                                                                                                                                                                                                                                                                                                                                                                                                                                                                                                                                                                                                                                                                                                                                                                                                                                                                                                                                                                                                                                                              1\n",
       "[Hi reddit](https://i.imgur.com/DGWqasT.png)! For far too long, the mental health profession has taken a race-blind approach to treatment, research, and conceptualizing human behavior. The result has been that Black people and other people of color are underrepresented in psychological research, and are subsequently assumed to have similar experiences, adversities, cultural backgrounds, and reactions to treatment as do their White counterparts. White experiences and behaviors are often the assumed normative default, leading to mental health disparities both in who has access to mental health treatment, and who feels understood and represented in both research and treatment. We are practitioners and researchers whose work focuses on these long-neglected areas. \\n\\nAs mentioned in a [previous announcement post](https://www.reddit.com/r/BlackPeopleTwitter/comments/h0afge/rscience_affirms_that_black_lives_matter_heres/), the moderators of /r/science have worked in collaboration with the moderators of /r/blackpeopletwitter and /r/blackladies to create this series of discussion panels focused on race in America. These panels will be led by subject area specialists including scientists, researchers, and policy professionals so that we can engage with multiple expert perspectives on those important topics. A list of the panels, guests, and dates can be found [here](https://www.reddit.com/r/science/comments/hu52pr/rscience_announces_a_series_of_discussion_panels/). Our guests will be on throughout the afternoon to answer your questions and discuss with you:\\n\\n**Monnica Williams, PhD**: I am an Associate Professor in the School of Psychology at the University of Ottawa, where I serve as Canada Research Chair in Mental Health Disparities. I am a board-certified, clinical psychologist, licensed in the US and Canada. I train and supervise clinicians in cognitive-behavioral therapies and culturally-informed techniques. I am the Clinical Director of the Behavioral Wellness Clinic, LLC in Tolland, Connecticut, where we specialize in OCD, race-based trauma, and psychedelic-assisted therapies. My research interests include Black mental health and mental health access and equity.  I have authored 130 scientific articles and 4 books, and I maintain a blog on Psychology Today called [Culturally Speaking](https://www.psychologytoday.com/ca/blog/culturally-speaking). My current projects are focused on racial trauma, microaggressions, and White allyship. I am a national and international expert on racism. Learn more about me at [www.monnicawilliams.com](http://www.monnicawilliams.com/) or follow me on twitter at @drmonnica.\\n\\n**Kevin Cokley, PhD**: My name is Kevin Cokley, and I hold the Oscar and Anne Mauzy Regents Professorship for Educational Research and Development at the University of Texas at Austin. I am a Fellow of both the University of Texas System and University of Texas Academy of Distinguished Teachers, Director of the Institute for Urban Policy Research and Analysis, and Professor of Educational Psychology and African and African Diaspora Studies. My research and teaching can be broadly categorized in the area of African American psychology, with a focus on racial identity, African American students’ academic achievement, and exploring the impact of the impostor phenomenon on mental health and academic outcomes. My research has been cited by the [New York Times](https://www.nytimes.com/2018/06/12/smarter-living/dealing-with-impostor-syndrome-when-youre-treated-as-an-impostor.html), [USA Today](https://www.usatoday.com/story/college/2017/04/24/study-impostor-syndrome-causes-mental-distress-in-minority-students/37430839/), and [Inside Higher Education](https://www.insidehighered.com/audio/2020/01/27/impostor-syndrome). For more information: [http://www.kevincokley.com](http://www.kevincokley.com). My twitter handle is @kevincokley1.\\n\\n**Nicole L. Cammack, PhD**: I am Dr. Nicole L. Cammack and I am a licensed Clinical Psychologist, who is passionate about mental health awareness, treatment, and reducing the mental health stigma, particularly as it relates to Black communities.  I currently serve as the President and CEO of [Black Mental Wellness](http://www.blackmentalwellness.com/), a corporation founded by clinical psychologists to shift the narrative of mental health in the Black community through providing resources about mental health and behavioral health topics from a Black perspective, highlighting and increasing the diversity of mental health professionals, and decreasing the mental health stigma in the Black community.  For more information about my work, click [here](https://www.blackmentalwellness.com/dr-nicole-cammack).\\n\\n**Tumaini Rucker Coker MD, MBA**: I am an Associate Professor of Pediatrics at the University of Washington School of Medicine and Director of Research at Seattle Children's Center for Diversity &amp; Health Equity.  In my research, I collaborate with community clinics and pediatric practices to improve the delivery of primary care services to children and achieve health equity.  I bring my perspective as a practicing pediatrician, researcher, and African American mother of twin boys with ADHD, to the research that I conduct to improve equitable child mental health care to children of color in low-income communities. My research has been funded by multiple federal agencies and foundations, published broadly in the scientific literature in over 70 peer-reviewed articles, and covered by mainstream media outlets, including the Wall Street Journal, CNN, USA Today, and NBC. Learn more my [Innovation in Child Healthcare Delivery Lab](https://www.seattlechildrens.org/research/centers-programs/child-health-behavior-and-development/labs/innovation-in-child-healthcare-delivery-lab-ichd/). Twitter: @tumainic.\\n\\n**Robert T.  Carter, PhD**: I am Professor Emeritus of Psychology and Education at Teachers College, Columbia University. I am an expert on the stressful and traumatic effects of racism. I have authored 120 articles and 9 books. Recent books include - Carter and Scheuermann, (2020); Confronting racism, (Routledge); and Carter and Pieterse (2020); Measuring the Effects of Racism (Columbia University Press). I am a fellow in the American Psychological Association and have won several national awards. For more, please see my website: [rtca411.com](https://nam05.safelinks.protection.outlook.com/?url=http%3A%2F%2Frtca411.com%2F&amp;data=02%7C01%7Cjennifer.e.below%40vumc.org%7Cb49d7202e40b41d9ba3708d835b4c671%7Cef57503014244ed8b83c12c533d879ab%7C0%7C0%7C637318397832885759&amp;sdata=a8plSfOU46cNN1lz7zrlO7fOPHu1WwciNuonAiA392c%3D&amp;reserved=0).\\n\\n**Paul L. Morgan, PhD**: I am the Henry and Marion Eberly Fellow, Professor of Education and Demography in the Department of Education Policy Studies, and Director of the Center for Educational Disparities Research at Penn State. My work investigates how children who are struggling in school can be better helped. This work repeatedly finds evidence of disparities in disability identification and treatment attributable to race/ethnicity, social class, and national origin including for ADHD, autism, learning disabilities, and other conditions. This work has been cited by the U.S. Department of Education’s [Office of Civil Rights](https://www2.ed.gov/about/offices/list/ocr/letters/colleague-201612-racedisc-special-education.pdf), the [National Academies of Sciences, Engineering, and Medicine](https://www.nap.edu/catalog/25466/vibrant-and-healthy-kids-aligning-science-practice-and-policy-to), and the [U.S. Commission on Civil Rights](https://www.usccr.gov/pubs/2019/07-23-Beyond-Suspensions.pdf). I have published over 60 peer-reviewed studies including in [Pediatrics](https://pubmed.ncbi.nlm.nih.gov/23796743/), [Journal of Child Psychology and Psychiatry](https://pubmed.ncbi.nlm.nih.gov/24456307/), [Child Development](https://srcd.onlinelibrary.wiley.com/doi/abs/10.1111/cdev.12398), and [Educational Researcher](https://journals.sagepub.com/doi/abs/10.3102/0013189X17726282). My research has been supported by the U.S. Department of Education’s Institute of Education Sciences, the National Institute of Child Health and Human Development, the National Science Foundation, and the Spencer Foundation. You can find links to my research at [https://paulmorgan.carrd.co](https://paulmorgan.carrd.co/). I am on Twitter at @PaulMorganPhd. I look forward to our conversations!        1\n",
       "Name: selftext, dtype: int64"
      ]
     },
     "execution_count": 8,
     "metadata": {},
     "output_type": "execute_result"
    }
   ],
   "source": [
    "science_posts_df['selftext'].value_counts()"
   ]
  },
  {
   "cell_type": "code",
   "execution_count": 9,
   "metadata": {},
   "outputs": [
    {
     "data": {
      "text/html": [
       "<div>\n",
       "<style scoped>\n",
       "    .dataframe tbody tr th:only-of-type {\n",
       "        vertical-align: middle;\n",
       "    }\n",
       "\n",
       "    .dataframe tbody tr th {\n",
       "        vertical-align: top;\n",
       "    }\n",
       "\n",
       "    .dataframe thead th {\n",
       "        text-align: right;\n",
       "    }\n",
       "</style>\n",
       "<table border=\"1\" class=\"dataframe\">\n",
       "  <thead>\n",
       "    <tr style=\"text-align: right;\">\n",
       "      <th></th>\n",
       "      <th>title</th>\n",
       "      <th>created_utc</th>\n",
       "      <th>selftext</th>\n",
       "      <th>subreddit</th>\n",
       "      <th>author</th>\n",
       "      <th>media_only</th>\n",
       "      <th>permalink</th>\n",
       "    </tr>\n",
       "  </thead>\n",
       "  <tbody>\n",
       "    <tr>\n",
       "      <th>0</th>\n",
       "      <td>Being rude and selfish does not help career pr...</td>\n",
       "      <td>1598916128</td>\n",
       "      <td></td>\n",
       "      <td>science</td>\n",
       "      <td>HigherEdAvenger</td>\n",
       "      <td>False</td>\n",
       "      <td>/r/science/comments/ik91e0/being_rude_and_self...</td>\n",
       "    </tr>\n",
       "    <tr>\n",
       "      <th>1</th>\n",
       "      <td>How NASA and Chandrayaan discovered water on t...</td>\n",
       "      <td>1598911189</td>\n",
       "      <td></td>\n",
       "      <td>science</td>\n",
       "      <td>7rillionaire</td>\n",
       "      <td>False</td>\n",
       "      <td>/r/science/comments/ik7lte/how_nasa_and_chandr...</td>\n",
       "    </tr>\n",
       "    <tr>\n",
       "      <th>2</th>\n",
       "      <td>Microbiome Analysis: Which Microbiome test is ...</td>\n",
       "      <td>1598911170</td>\n",
       "      <td></td>\n",
       "      <td>science</td>\n",
       "      <td>Baron_ess</td>\n",
       "      <td>False</td>\n",
       "      <td>/r/science/comments/ik7lls/microbiome_analysis...</td>\n",
       "    </tr>\n",
       "    <tr>\n",
       "      <th>3</th>\n",
       "      <td>Study suggests religious belief does not confl...</td>\n",
       "      <td>1598910315</td>\n",
       "      <td></td>\n",
       "      <td>science</td>\n",
       "      <td>CremationLily</td>\n",
       "      <td>False</td>\n",
       "      <td>/r/science/comments/ik7cfe/study_suggests_reli...</td>\n",
       "    </tr>\n",
       "    <tr>\n",
       "      <th>4</th>\n",
       "      <td>Space telescope using the Earth atmosphere as ...</td>\n",
       "      <td>1598910274</td>\n",
       "      <td></td>\n",
       "      <td>science</td>\n",
       "      <td>KindlySecret8</td>\n",
       "      <td>False</td>\n",
       "      <td>/r/science/comments/ik7byl/space_telescope_usi...</td>\n",
       "    </tr>\n",
       "  </tbody>\n",
       "</table>\n",
       "</div>"
      ],
      "text/plain": [
       "                                               title  created_utc selftext  \\\n",
       "0  Being rude and selfish does not help career pr...   1598916128            \n",
       "1  How NASA and Chandrayaan discovered water on t...   1598911189            \n",
       "2  Microbiome Analysis: Which Microbiome test is ...   1598911170            \n",
       "3  Study suggests religious belief does not confl...   1598910315            \n",
       "4  Space telescope using the Earth atmosphere as ...   1598910274            \n",
       "\n",
       "  subreddit           author  media_only  \\\n",
       "0   science  HigherEdAvenger       False   \n",
       "1   science     7rillionaire       False   \n",
       "2   science        Baron_ess       False   \n",
       "3   science    CremationLily       False   \n",
       "4   science    KindlySecret8       False   \n",
       "\n",
       "                                           permalink  \n",
       "0  /r/science/comments/ik91e0/being_rude_and_self...  \n",
       "1  /r/science/comments/ik7lte/how_nasa_and_chandr...  \n",
       "2  /r/science/comments/ik7lls/microbiome_analysis...  \n",
       "3  /r/science/comments/ik7cfe/study_suggests_reli...  \n",
       "4  /r/science/comments/ik7byl/space_telescope_usi...  "
      ]
     },
     "execution_count": 9,
     "metadata": {},
     "output_type": "execute_result"
    }
   ],
   "source": [
    "science_posts_df.head()"
   ]
  },
  {
   "cell_type": "code",
   "execution_count": 49,
   "metadata": {},
   "outputs": [],
   "source": [
    "science_posts_df.to_csv('./data/science.csv')"
   ]
  },
  {
   "cell_type": "code",
   "execution_count": 10,
   "metadata": {},
   "outputs": [],
   "source": [
    "tech_posts_df = get_posts(subreddit=['technology'], n_iter=50, epoch_right_now=1598918400)"
   ]
  },
  {
   "cell_type": "code",
   "execution_count": 11,
   "metadata": {
    "collapsed": true,
    "jupyter": {
     "outputs_hidden": true
    }
   },
   "outputs": [
    {
     "data": {
      "text/plain": [
       "                                                                                                                                                                                                                                                                                                                                                                                                                                                                                                                                                                                                                                                                                                                                                                                                                                                                                                                                                                                                                                  3783\n",
       "[removed]                                                                                                                                                                                                                                                                                                                                                                                                                                                                                                                                                                                                                                                                                                                                                                                                                                                                                                                                                                                                                         1181\n",
       "[deleted]                                                                                                                                                                                                                                                                                                                                                                                                                                                                                                                                                                                                                                                                                                                                                                                                                                                                                                                                                                                                                           25\n",
       " [estimatekick.com](https://estimatekick.com/) tells you the best time to upgrade to a new iPhone.\\n\\n* How Does It Work?\\n\\n1. Search the iPhone you want to upgrade to.\\n2. Select what percent off you would upgrade at.\\n3. See your estimated optimal upgrade time based on price history data.\\n\\n&amp;#x200B;\\n\\n* How Do You Come Up With Estimate Upgrade Times?\\n\\nWe analyze iPhone price history and depreciation trends.\\n\\n&amp;#x200B;\\n\\n* Are Your Estimates Always Right?\\n\\nNo, although we try our best to estimate the best upgrade time.\\n\\n&amp;#x200B;\\n\\n* How Many iPhones Can I Search?\\n\\n1. iPhone SE 2020\\n2. iPhone 11 Pro\\n3. iPhone 11 Pro Max\\n4. iPhone XS Max\\n5. iPhone XR\\n6. iPhone XS\\n7. iPhone 11\\n\\n&amp;#x200B;\\n\\n* How Much Does It Cost?\\n\\nIt’s Completely Free!\\n\\n&amp;#x200B;\\n\\n* Ending Notes\\n\\nIf you’ve read till the end I will like to thank you and if you're interested at all please check out my site                                                                  1\n",
       "It’s over...\\n\\nChanging World, Changing Mozilla Mitchell Baker August 11, 2020\\n\\nThis is a time of change for the internet and for Mozilla. From combatting a lethal virus and battling systemic racism to protecting individual privacy — one thing is clear: an open and accessible internet is essential to the fight.\\n\\nToday we announced a significant restructuring of Mozilla Corporation. This will strengthen our ability to build and invest in products and services that will give people alternatives to conventional Big Tech. Sadly, the changes also include a significant reduction in our workforce by approximately 250 people.                                                                                                                                                                                                                                                                                                                                                                               1\n",
       "I'm still seeing these advertisements about from Bill Gates and Vitalik Butarin on YouTube (not Twitter).\\n\\nhttps://imgur.com/a/r0B1rHA\\n\\nI'm just wondering, how is this possible? Is this just an oversight by Google? And does anyone else see this?                                                                                                                                                                                                                                                                                                                                                                                                                                                                                                                                                                                                                                                                                                                                                                            1\n",
       "&gt;In the executive order, the Trump administration states that the user data TikTok collects \"threatens to allow the Chinese Communist Party access to Americans' personal and proprietary information - potentially allowing China to track the locations of Federal employees and contractors, build dossiers of personal information for blackmail, and conduct corporate espionage.\" \\n\\nHow is that any different than what social media in general has engaged in? How is that any different than what the NSA was exposed of by snowden? \\n\\nRemember that incident where deployed troops had a fitness band on &amp; forgot to go into the settings to disable GPS tracking, and exposed some military base's dimensions because troops would be wearing the bands as they walked around?\\n\\nPerhaps instead of engaging in extortion you ban your federal workers from carrying their cellphones into their work places? \\n\\nEntities like Google sure as hell would take some precaution with work place security.       1\n",
       "This topic is more relevant to projects that develop embedded, IoT edge and Digital Twin applications.\\n\\nDue to pandemic, the software companies mandated employees to work remotely. How companies manage remote work if hardware provisioning to all employees is impossible, or there is only 1 prototype in the team, or the machines are big and dangerous, so that it is impossible to install at home?\\n\\nTesting of rapid changing software in a risk-free simulated environment is a good help.  Qualified simulations help to optimize accuracy and solutions, avoid unnecessary risks. The simulations are portable and available to everyone. Projects using qualified simulation software are better prepared for remote work.\\n\\nDo you agree? Do you use simulation software to develop your application? If yes, do you develop by your own or use ready solutions (maybe from vendor)? If not, then why?                                                                                                           1\n",
       "Tell me any good application for conversion of simple text to binary, ASCII, hexadecimal, octadecimal and morse code?                                                                                                                                                                                                                                                                                                                                                                                                                                                                                                                                                                                                                                                                                                                                                                                                                                                                                                                1\n",
       "Name: selftext, dtype: int64"
      ]
     },
     "execution_count": 11,
     "metadata": {},
     "output_type": "execute_result"
    }
   ],
   "source": [
    "tech_posts_df['selftext'].value_counts()"
   ]
  },
  {
   "cell_type": "code",
   "execution_count": 12,
   "metadata": {},
   "outputs": [
    {
     "data": {
      "text/html": [
       "<div>\n",
       "<style scoped>\n",
       "    .dataframe tbody tr th:only-of-type {\n",
       "        vertical-align: middle;\n",
       "    }\n",
       "\n",
       "    .dataframe tbody tr th {\n",
       "        vertical-align: top;\n",
       "    }\n",
       "\n",
       "    .dataframe thead th {\n",
       "        text-align: right;\n",
       "    }\n",
       "</style>\n",
       "<table border=\"1\" class=\"dataframe\">\n",
       "  <thead>\n",
       "    <tr style=\"text-align: right;\">\n",
       "      <th></th>\n",
       "      <th>title</th>\n",
       "      <th>created_utc</th>\n",
       "      <th>selftext</th>\n",
       "      <th>subreddit</th>\n",
       "      <th>author</th>\n",
       "      <th>media_only</th>\n",
       "      <th>permalink</th>\n",
       "    </tr>\n",
       "  </thead>\n",
       "  <tbody>\n",
       "    <tr>\n",
       "      <th>0</th>\n",
       "      <td>Mozilla research: Browsing histories are uniqu...</td>\n",
       "      <td>1598916394</td>\n",
       "      <td></td>\n",
       "      <td>technology</td>\n",
       "      <td>janjinx</td>\n",
       "      <td>False</td>\n",
       "      <td>/r/technology/comments/ik94cu/mozilla_research...</td>\n",
       "    </tr>\n",
       "    <tr>\n",
       "      <th>1</th>\n",
       "      <td>Will Neuralink become embedded in a future iPh...</td>\n",
       "      <td>1598915618</td>\n",
       "      <td>[removed]</td>\n",
       "      <td>technology</td>\n",
       "      <td>puffingonclouds</td>\n",
       "      <td>False</td>\n",
       "      <td>/r/technology/comments/ik8wgs/will_neuralink_b...</td>\n",
       "    </tr>\n",
       "    <tr>\n",
       "      <th>2</th>\n",
       "      <td>Microsoft Surface Duo Running Android Review, ...</td>\n",
       "      <td>1598915516</td>\n",
       "      <td></td>\n",
       "      <td>technology</td>\n",
       "      <td>maxman72go</td>\n",
       "      <td>False</td>\n",
       "      <td>/r/technology/comments/ik8vbw/microsoft_surfac...</td>\n",
       "    </tr>\n",
       "    <tr>\n",
       "      <th>3</th>\n",
       "      <td>AI in healthcare</td>\n",
       "      <td>1598915452</td>\n",
       "      <td>[removed]</td>\n",
       "      <td>technology</td>\n",
       "      <td>SeanConnery</td>\n",
       "      <td>False</td>\n",
       "      <td>/r/technology/comments/ik8unp/ai_in_healthcare/</td>\n",
       "    </tr>\n",
       "    <tr>\n",
       "      <th>4</th>\n",
       "      <td>Rise of Technology (The Art of Human Control)</td>\n",
       "      <td>1598915286</td>\n",
       "      <td></td>\n",
       "      <td>technology</td>\n",
       "      <td>Only_Statistician_30</td>\n",
       "      <td>False</td>\n",
       "      <td>/r/technology/comments/ik8t3c/rise_of_technolo...</td>\n",
       "    </tr>\n",
       "  </tbody>\n",
       "</table>\n",
       "</div>"
      ],
      "text/plain": [
       "                                               title  created_utc   selftext  \\\n",
       "0  Mozilla research: Browsing histories are uniqu...   1598916394              \n",
       "1  Will Neuralink become embedded in a future iPh...   1598915618  [removed]   \n",
       "2  Microsoft Surface Duo Running Android Review, ...   1598915516              \n",
       "3                                   AI in healthcare   1598915452  [removed]   \n",
       "4      Rise of Technology (The Art of Human Control)   1598915286              \n",
       "\n",
       "    subreddit                author  media_only  \\\n",
       "0  technology               janjinx       False   \n",
       "1  technology       puffingonclouds       False   \n",
       "2  technology            maxman72go       False   \n",
       "3  technology           SeanConnery       False   \n",
       "4  technology  Only_Statistician_30       False   \n",
       "\n",
       "                                           permalink  \n",
       "0  /r/technology/comments/ik94cu/mozilla_research...  \n",
       "1  /r/technology/comments/ik8wgs/will_neuralink_b...  \n",
       "2  /r/technology/comments/ik8vbw/microsoft_surfac...  \n",
       "3    /r/technology/comments/ik8unp/ai_in_healthcare/  \n",
       "4  /r/technology/comments/ik8t3c/rise_of_technolo...  "
      ]
     },
     "execution_count": 12,
     "metadata": {},
     "output_type": "execute_result"
    }
   ],
   "source": [
    "tech_posts_df.head()"
   ]
  },
  {
   "cell_type": "code",
   "execution_count": 50,
   "metadata": {},
   "outputs": [],
   "source": [
    "tech_posts_df.to_csv('./data/tech.csv')"
   ]
  },
  {
   "cell_type": "code",
   "execution_count": 13,
   "metadata": {},
   "outputs": [],
   "source": [
    "all_posts = pd.concat([science_posts_df, tech_posts_df])"
   ]
  },
  {
   "cell_type": "code",
   "execution_count": null,
   "metadata": {},
   "outputs": [],
   "source": [
    "all_posts.to_csv('./data/all.csv')"
   ]
  },
  {
   "cell_type": "code",
   "execution_count": 2,
   "metadata": {},
   "outputs": [],
   "source": [
    "all_posts = pd.read_csv('./data/all.csv', index_col=[0], keep_default_na=False)"
   ]
  },
  {
   "cell_type": "code",
   "execution_count": 4,
   "metadata": {},
   "outputs": [
    {
     "data": {
      "text/html": [
       "<div>\n",
       "<style scoped>\n",
       "    .dataframe tbody tr th:only-of-type {\n",
       "        vertical-align: middle;\n",
       "    }\n",
       "\n",
       "    .dataframe tbody tr th {\n",
       "        vertical-align: top;\n",
       "    }\n",
       "\n",
       "    .dataframe thead th {\n",
       "        text-align: right;\n",
       "    }\n",
       "</style>\n",
       "<table border=\"1\" class=\"dataframe\">\n",
       "  <thead>\n",
       "    <tr style=\"text-align: right;\">\n",
       "      <th></th>\n",
       "      <th>title</th>\n",
       "      <th>created_utc</th>\n",
       "      <th>selftext</th>\n",
       "      <th>subreddit</th>\n",
       "      <th>author</th>\n",
       "      <th>media_only</th>\n",
       "      <th>permalink</th>\n",
       "    </tr>\n",
       "  </thead>\n",
       "  <tbody>\n",
       "    <tr>\n",
       "      <th>0</th>\n",
       "      <td>Being rude and selfish does not help career pr...</td>\n",
       "      <td>1598916128</td>\n",
       "      <td></td>\n",
       "      <td>science</td>\n",
       "      <td>HigherEdAvenger</td>\n",
       "      <td>False</td>\n",
       "      <td>/r/science/comments/ik91e0/being_rude_and_self...</td>\n",
       "    </tr>\n",
       "    <tr>\n",
       "      <th>1</th>\n",
       "      <td>How NASA and Chandrayaan discovered water on t...</td>\n",
       "      <td>1598911189</td>\n",
       "      <td></td>\n",
       "      <td>science</td>\n",
       "      <td>7rillionaire</td>\n",
       "      <td>False</td>\n",
       "      <td>/r/science/comments/ik7lte/how_nasa_and_chandr...</td>\n",
       "    </tr>\n",
       "    <tr>\n",
       "      <th>2</th>\n",
       "      <td>Microbiome Analysis: Which Microbiome test is ...</td>\n",
       "      <td>1598911170</td>\n",
       "      <td></td>\n",
       "      <td>science</td>\n",
       "      <td>Baron_ess</td>\n",
       "      <td>False</td>\n",
       "      <td>/r/science/comments/ik7lls/microbiome_analysis...</td>\n",
       "    </tr>\n",
       "    <tr>\n",
       "      <th>3</th>\n",
       "      <td>Study suggests religious belief does not confl...</td>\n",
       "      <td>1598910315</td>\n",
       "      <td></td>\n",
       "      <td>science</td>\n",
       "      <td>CremationLily</td>\n",
       "      <td>False</td>\n",
       "      <td>/r/science/comments/ik7cfe/study_suggests_reli...</td>\n",
       "    </tr>\n",
       "    <tr>\n",
       "      <th>4</th>\n",
       "      <td>Space telescope using the Earth atmosphere as ...</td>\n",
       "      <td>1598910274</td>\n",
       "      <td></td>\n",
       "      <td>science</td>\n",
       "      <td>KindlySecret8</td>\n",
       "      <td>False</td>\n",
       "      <td>/r/science/comments/ik7byl/space_telescope_usi...</td>\n",
       "    </tr>\n",
       "  </tbody>\n",
       "</table>\n",
       "</div>"
      ],
      "text/plain": [
       "                                               title  created_utc selftext  \\\n",
       "0  Being rude and selfish does not help career pr...   1598916128            \n",
       "1  How NASA and Chandrayaan discovered water on t...   1598911189            \n",
       "2  Microbiome Analysis: Which Microbiome test is ...   1598911170            \n",
       "3  Study suggests religious belief does not confl...   1598910315            \n",
       "4  Space telescope using the Earth atmosphere as ...   1598910274            \n",
       "\n",
       "  subreddit           author  media_only  \\\n",
       "0   science  HigherEdAvenger       False   \n",
       "1   science     7rillionaire       False   \n",
       "2   science        Baron_ess       False   \n",
       "3   science    CremationLily       False   \n",
       "4   science    KindlySecret8       False   \n",
       "\n",
       "                                           permalink  \n",
       "0  /r/science/comments/ik91e0/being_rude_and_self...  \n",
       "1  /r/science/comments/ik7lte/how_nasa_and_chandr...  \n",
       "2  /r/science/comments/ik7lls/microbiome_analysis...  \n",
       "3  /r/science/comments/ik7cfe/study_suggests_reli...  \n",
       "4  /r/science/comments/ik7byl/space_telescope_usi...  "
      ]
     },
     "execution_count": 4,
     "metadata": {},
     "output_type": "execute_result"
    }
   ],
   "source": [
    "# not much in 'selftext'\n",
    "all_posts.head()"
   ]
  },
  {
   "cell_type": "code",
   "execution_count": 5,
   "metadata": {},
   "outputs": [
    {
     "name": "stdout",
     "output_type": "stream",
     "text": [
      "<class 'pandas.core.frame.DataFrame'>\n",
      "Int64Index: 10000 entries, 0 to 99\n",
      "Data columns (total 7 columns):\n",
      " #   Column       Non-Null Count  Dtype \n",
      "---  ------       --------------  ----- \n",
      " 0   title        10000 non-null  object\n",
      " 1   created_utc  10000 non-null  int64 \n",
      " 2   selftext     10000 non-null  object\n",
      " 3   subreddit    10000 non-null  object\n",
      " 4   author       10000 non-null  object\n",
      " 5   media_only   10000 non-null  bool  \n",
      " 6   permalink    10000 non-null  object\n",
      "dtypes: bool(1), int64(1), object(5)\n",
      "memory usage: 556.6+ KB\n"
     ]
    }
   ],
   "source": [
    "#checking for null values\n",
    "all_posts.info()"
   ]
  },
  {
   "cell_type": "code",
   "execution_count": 3,
   "metadata": {},
   "outputs": [],
   "source": [
    "# reading in my data again\n",
    "science_posts = pd.read_csv('./data/science.csv', index_col=[0], keep_default_na=False)\n",
    "tech_posts = pd.read_csv('./data/tech.csv', index_col=[0], keep_default_na=False)"
   ]
  },
  {
   "cell_type": "code",
   "execution_count": 30,
   "metadata": {},
   "outputs": [
    {
     "name": "stdout",
     "output_type": "stream",
     "text": [
      "Total word count for science titles: 108105\n"
     ]
    }
   ],
   "source": [
    "# counting the total number of words in science subreddit post titles\n",
    "science_count = 0\n",
    "for i in science_posts['title']:\n",
    "    for e in i.split(' '):\n",
    "        science_count += 1\n",
    "print(f'Total word count for science titles: {science_count}')"
   ]
  },
  {
   "cell_type": "code",
   "execution_count": 31,
   "metadata": {},
   "outputs": [
    {
     "name": "stdout",
     "output_type": "stream",
     "text": [
      "Total word count for tech titles: 54370\n"
     ]
    }
   ],
   "source": [
    "# counting the total number of words in tech subreddit post titles\n",
    "tech_count = 0\n",
    "for i in tech_posts['title']:\n",
    "    for e in i.split(' '):\n",
    "        tech_count += 1\n",
    "print(f'Total word count for tech titles: {tech_count}')"
   ]
  },
  {
   "cell_type": "markdown",
   "metadata": {},
   "source": [
    "**Looks like science subreddit has about twice as many words as the tech subreddit post titles.**"
   ]
  },
  {
   "cell_type": "markdown",
   "metadata": {},
   "source": [
    "### Preprocessing: CountVectorizer"
   ]
  },
  {
   "cell_type": "code",
   "execution_count": 32,
   "metadata": {},
   "outputs": [
    {
     "data": {
      "text/html": [
       "<div>\n",
       "<style scoped>\n",
       "    .dataframe tbody tr th:only-of-type {\n",
       "        vertical-align: middle;\n",
       "    }\n",
       "\n",
       "    .dataframe tbody tr th {\n",
       "        vertical-align: top;\n",
       "    }\n",
       "\n",
       "    .dataframe thead th {\n",
       "        text-align: right;\n",
       "    }\n",
       "</style>\n",
       "<table border=\"1\" class=\"dataframe\">\n",
       "  <thead>\n",
       "    <tr style=\"text-align: right;\">\n",
       "      <th></th>\n",
       "      <th>title</th>\n",
       "      <th>subreddit</th>\n",
       "    </tr>\n",
       "  </thead>\n",
       "  <tbody>\n",
       "    <tr>\n",
       "      <th>0</th>\n",
       "      <td>Being rude and selfish does not help career pr...</td>\n",
       "      <td>science</td>\n",
       "    </tr>\n",
       "    <tr>\n",
       "      <th>1</th>\n",
       "      <td>How NASA and Chandrayaan discovered water on t...</td>\n",
       "      <td>science</td>\n",
       "    </tr>\n",
       "    <tr>\n",
       "      <th>2</th>\n",
       "      <td>Microbiome Analysis: Which Microbiome test is ...</td>\n",
       "      <td>science</td>\n",
       "    </tr>\n",
       "    <tr>\n",
       "      <th>3</th>\n",
       "      <td>Study suggests religious belief does not confl...</td>\n",
       "      <td>science</td>\n",
       "    </tr>\n",
       "    <tr>\n",
       "      <th>4</th>\n",
       "      <td>Space telescope using the Earth atmosphere as ...</td>\n",
       "      <td>science</td>\n",
       "    </tr>\n",
       "    <tr>\n",
       "      <th>...</th>\n",
       "      <td>...</td>\n",
       "      <td>...</td>\n",
       "    </tr>\n",
       "    <tr>\n",
       "      <th>95</th>\n",
       "      <td>Everyone’s least favorite web browser will soo...</td>\n",
       "      <td>technology</td>\n",
       "    </tr>\n",
       "    <tr>\n",
       "      <th>96</th>\n",
       "      <td>Toshiba vende su división de portátiles a SHAR...</td>\n",
       "      <td>technology</td>\n",
       "    </tr>\n",
       "    <tr>\n",
       "      <th>97</th>\n",
       "      <td>Xiaomi’s 10th anniversary flagship is the Mi 1...</td>\n",
       "      <td>technology</td>\n",
       "    </tr>\n",
       "    <tr>\n",
       "      <th>98</th>\n",
       "      <td>Cuba is getting a crash course in internet cul...</td>\n",
       "      <td>technology</td>\n",
       "    </tr>\n",
       "    <tr>\n",
       "      <th>99</th>\n",
       "      <td>How Cuba is Getting a Crash Course in Internet...</td>\n",
       "      <td>technology</td>\n",
       "    </tr>\n",
       "  </tbody>\n",
       "</table>\n",
       "<p>10000 rows × 2 columns</p>\n",
       "</div>"
      ],
      "text/plain": [
       "                                                title   subreddit\n",
       "0   Being rude and selfish does not help career pr...     science\n",
       "1   How NASA and Chandrayaan discovered water on t...     science\n",
       "2   Microbiome Analysis: Which Microbiome test is ...     science\n",
       "3   Study suggests religious belief does not confl...     science\n",
       "4   Space telescope using the Earth atmosphere as ...     science\n",
       "..                                                ...         ...\n",
       "95  Everyone’s least favorite web browser will soo...  technology\n",
       "96  Toshiba vende su división de portátiles a SHAR...  technology\n",
       "97  Xiaomi’s 10th anniversary flagship is the Mi 1...  technology\n",
       "98  Cuba is getting a crash course in internet cul...  technology\n",
       "99  How Cuba is Getting a Crash Course in Internet...  technology\n",
       "\n",
       "[10000 rows x 2 columns]"
      ]
     },
     "execution_count": 32,
     "metadata": {},
     "output_type": "execute_result"
    }
   ],
   "source": [
    "modeling_posts = all_posts[['title', 'subreddit']]\n",
    "modeling_posts"
   ]
  },
  {
   "cell_type": "code",
   "execution_count": 33,
   "metadata": {},
   "outputs": [
    {
     "name": "stderr",
     "output_type": "stream",
     "text": [
      "<ipython-input-33-72c7698d1215>:1: SettingWithCopyWarning: \n",
      "A value is trying to be set on a copy of a slice from a DataFrame.\n",
      "Try using .loc[row_indexer,col_indexer] = value instead\n",
      "\n",
      "See the caveats in the documentation: https://pandas.pydata.org/pandas-docs/stable/user_guide/indexing.html#returning-a-view-versus-a-copy\n",
      "  modeling_posts['subreddit'] = np.where(modeling_posts['subreddit'] == 'science', 1, 0)\n"
     ]
    }
   ],
   "source": [
    "modeling_posts['subreddit'] = np.where(modeling_posts['subreddit'] == 'science', 1, 0)"
   ]
  },
  {
   "cell_type": "code",
   "execution_count": 34,
   "metadata": {},
   "outputs": [
    {
     "data": {
      "text/plain": [
       "0     Being rude and selfish does not help career pr...\n",
       "1     How NASA and Chandrayaan discovered water on t...\n",
       "2     Microbiome Analysis: Which Microbiome test is ...\n",
       "3     Study suggests religious belief does not confl...\n",
       "4     Space telescope using the Earth atmosphere as ...\n",
       "                            ...                        \n",
       "95    Everyone’s least favorite web browser will soo...\n",
       "96    Toshiba vende su división de portátiles a SHAR...\n",
       "97    Xiaomi’s 10th anniversary flagship is the Mi 1...\n",
       "98    Cuba is getting a crash course in internet cul...\n",
       "99    How Cuba is Getting a Crash Course in Internet...\n",
       "Name: title, Length: 10000, dtype: object"
      ]
     },
     "execution_count": 34,
     "metadata": {},
     "output_type": "execute_result"
    }
   ],
   "source": [
    "X = modeling_posts.title\n",
    "X"
   ]
  },
  {
   "cell_type": "code",
   "execution_count": 35,
   "metadata": {},
   "outputs": [],
   "source": [
    "y = modeling_posts.subreddit"
   ]
  },
  {
   "cell_type": "code",
   "execution_count": 36,
   "metadata": {},
   "outputs": [
    {
     "data": {
      "text/plain": [
       "0     1\n",
       "1     1\n",
       "2     1\n",
       "3     1\n",
       "4     1\n",
       "     ..\n",
       "95    0\n",
       "96    0\n",
       "97    0\n",
       "98    0\n",
       "99    0\n",
       "Name: subreddit, Length: 10000, dtype: int32"
      ]
     },
     "execution_count": 36,
     "metadata": {},
     "output_type": "execute_result"
    }
   ],
   "source": [
    "y"
   ]
  },
  {
   "cell_type": "code",
   "execution_count": 37,
   "metadata": {},
   "outputs": [
    {
     "data": {
      "text/plain": [
       "1    0.5\n",
       "0    0.5\n",
       "Name: subreddit, dtype: float64"
      ]
     },
     "execution_count": 37,
     "metadata": {},
     "output_type": "execute_result"
    }
   ],
   "source": [
    "# Baseline accuracy; don't have to stratify \n",
    "y.value_counts(normalize=True)"
   ]
  },
  {
   "cell_type": "code",
   "execution_count": 38,
   "metadata": {},
   "outputs": [],
   "source": [
    "X_train, X_test, y_train, y_test = train_test_split(X, y, random_state=151)"
   ]
  },
  {
   "cell_type": "code",
   "execution_count": 39,
   "metadata": {},
   "outputs": [],
   "source": [
    "# Instantiate a CountVectorizer.\n",
    "cvec = CountVectorizer(stop_words='english', ngram_range=[1, 4])"
   ]
  },
  {
   "cell_type": "code",
   "execution_count": 40,
   "metadata": {},
   "outputs": [],
   "source": [
    "# Fit the vectorizer on our corpus.\n",
    "X_train_cvec = cvec.fit_transform(X_train, y_train)"
   ]
  },
  {
   "cell_type": "code",
   "execution_count": 41,
   "metadata": {},
   "outputs": [],
   "source": [
    "X_test_cvec = cvec.transform(X_test)"
   ]
  },
  {
   "cell_type": "code",
   "execution_count": 42,
   "metadata": {},
   "outputs": [],
   "source": [
    "# Convert X_train into a DataFrame.\n",
    "# We will not actually use this for modeling,\n",
    "# this is just to visualize what is happening\n",
    "\n",
    "X_train_df = pd.DataFrame(X_train_cvec.toarray(),\n",
    "                          columns=cvec.get_feature_names())"
   ]
  },
  {
   "cell_type": "code",
   "execution_count": 43,
   "metadata": {},
   "outputs": [
    {
     "data": {
      "text/html": [
       "<div>\n",
       "<style scoped>\n",
       "    .dataframe tbody tr th:only-of-type {\n",
       "        vertical-align: middle;\n",
       "    }\n",
       "\n",
       "    .dataframe tbody tr th {\n",
       "        vertical-align: top;\n",
       "    }\n",
       "\n",
       "    .dataframe thead th {\n",
       "        text-align: right;\n",
       "    }\n",
       "</style>\n",
       "<table border=\"1\" class=\"dataframe\">\n",
       "  <thead>\n",
       "    <tr style=\"text-align: right;\">\n",
       "      <th></th>\n",
       "      <th>00</th>\n",
       "      <th>00 utc</th>\n",
       "      <th>00 utc post</th>\n",
       "      <th>00 utc post ama</th>\n",
       "      <th>000</th>\n",
       "      <th>000 000</th>\n",
       "      <th>000 000 experienced</th>\n",
       "      <th>000 000 experienced repeated</th>\n",
       "      <th>000 000 megabits</th>\n",
       "      <th>000 000 megabits second</th>\n",
       "      <th>...</th>\n",
       "      <th>醃肉大比拼 蠔油</th>\n",
       "      <th>醃肉大比拼 蠔油 vs</th>\n",
       "      <th>醃肉大比拼 蠔油 vs 生粉</th>\n",
       "      <th>香港傑出品牌領袖獎</th>\n",
       "      <th>香港傑出品牌領袖獎 youtube</th>\n",
       "      <th>鸡蛋炒豆腐</th>\n",
       "      <th>麻辣烫</th>\n",
       "      <th>麻辣烫 spicy</th>\n",
       "      <th>麻辣烫 spicy non</th>\n",
       "      <th>麻辣烫 spicy non spicy</th>\n",
       "    </tr>\n",
       "  </thead>\n",
       "  <tbody>\n",
       "    <tr>\n",
       "      <th>0</th>\n",
       "      <td>0</td>\n",
       "      <td>0</td>\n",
       "      <td>0</td>\n",
       "      <td>0</td>\n",
       "      <td>0</td>\n",
       "      <td>0</td>\n",
       "      <td>0</td>\n",
       "      <td>0</td>\n",
       "      <td>0</td>\n",
       "      <td>0</td>\n",
       "      <td>...</td>\n",
       "      <td>0</td>\n",
       "      <td>0</td>\n",
       "      <td>0</td>\n",
       "      <td>0</td>\n",
       "      <td>0</td>\n",
       "      <td>0</td>\n",
       "      <td>0</td>\n",
       "      <td>0</td>\n",
       "      <td>0</td>\n",
       "      <td>0</td>\n",
       "    </tr>\n",
       "    <tr>\n",
       "      <th>1</th>\n",
       "      <td>0</td>\n",
       "      <td>0</td>\n",
       "      <td>0</td>\n",
       "      <td>0</td>\n",
       "      <td>0</td>\n",
       "      <td>0</td>\n",
       "      <td>0</td>\n",
       "      <td>0</td>\n",
       "      <td>0</td>\n",
       "      <td>0</td>\n",
       "      <td>...</td>\n",
       "      <td>0</td>\n",
       "      <td>0</td>\n",
       "      <td>0</td>\n",
       "      <td>0</td>\n",
       "      <td>0</td>\n",
       "      <td>0</td>\n",
       "      <td>0</td>\n",
       "      <td>0</td>\n",
       "      <td>0</td>\n",
       "      <td>0</td>\n",
       "    </tr>\n",
       "    <tr>\n",
       "      <th>2</th>\n",
       "      <td>0</td>\n",
       "      <td>0</td>\n",
       "      <td>0</td>\n",
       "      <td>0</td>\n",
       "      <td>0</td>\n",
       "      <td>0</td>\n",
       "      <td>0</td>\n",
       "      <td>0</td>\n",
       "      <td>0</td>\n",
       "      <td>0</td>\n",
       "      <td>...</td>\n",
       "      <td>0</td>\n",
       "      <td>0</td>\n",
       "      <td>0</td>\n",
       "      <td>0</td>\n",
       "      <td>0</td>\n",
       "      <td>0</td>\n",
       "      <td>0</td>\n",
       "      <td>0</td>\n",
       "      <td>0</td>\n",
       "      <td>0</td>\n",
       "    </tr>\n",
       "    <tr>\n",
       "      <th>3</th>\n",
       "      <td>0</td>\n",
       "      <td>0</td>\n",
       "      <td>0</td>\n",
       "      <td>0</td>\n",
       "      <td>0</td>\n",
       "      <td>0</td>\n",
       "      <td>0</td>\n",
       "      <td>0</td>\n",
       "      <td>0</td>\n",
       "      <td>0</td>\n",
       "      <td>...</td>\n",
       "      <td>0</td>\n",
       "      <td>0</td>\n",
       "      <td>0</td>\n",
       "      <td>0</td>\n",
       "      <td>0</td>\n",
       "      <td>0</td>\n",
       "      <td>0</td>\n",
       "      <td>0</td>\n",
       "      <td>0</td>\n",
       "      <td>0</td>\n",
       "    </tr>\n",
       "    <tr>\n",
       "      <th>4</th>\n",
       "      <td>0</td>\n",
       "      <td>0</td>\n",
       "      <td>0</td>\n",
       "      <td>0</td>\n",
       "      <td>0</td>\n",
       "      <td>0</td>\n",
       "      <td>0</td>\n",
       "      <td>0</td>\n",
       "      <td>0</td>\n",
       "      <td>0</td>\n",
       "      <td>...</td>\n",
       "      <td>0</td>\n",
       "      <td>0</td>\n",
       "      <td>0</td>\n",
       "      <td>0</td>\n",
       "      <td>0</td>\n",
       "      <td>0</td>\n",
       "      <td>0</td>\n",
       "      <td>0</td>\n",
       "      <td>0</td>\n",
       "      <td>0</td>\n",
       "    </tr>\n",
       "    <tr>\n",
       "      <th>...</th>\n",
       "      <td>...</td>\n",
       "      <td>...</td>\n",
       "      <td>...</td>\n",
       "      <td>...</td>\n",
       "      <td>...</td>\n",
       "      <td>...</td>\n",
       "      <td>...</td>\n",
       "      <td>...</td>\n",
       "      <td>...</td>\n",
       "      <td>...</td>\n",
       "      <td>...</td>\n",
       "      <td>...</td>\n",
       "      <td>...</td>\n",
       "      <td>...</td>\n",
       "      <td>...</td>\n",
       "      <td>...</td>\n",
       "      <td>...</td>\n",
       "      <td>...</td>\n",
       "      <td>...</td>\n",
       "      <td>...</td>\n",
       "      <td>...</td>\n",
       "    </tr>\n",
       "    <tr>\n",
       "      <th>7495</th>\n",
       "      <td>0</td>\n",
       "      <td>0</td>\n",
       "      <td>0</td>\n",
       "      <td>0</td>\n",
       "      <td>0</td>\n",
       "      <td>0</td>\n",
       "      <td>0</td>\n",
       "      <td>0</td>\n",
       "      <td>0</td>\n",
       "      <td>0</td>\n",
       "      <td>...</td>\n",
       "      <td>0</td>\n",
       "      <td>0</td>\n",
       "      <td>0</td>\n",
       "      <td>0</td>\n",
       "      <td>0</td>\n",
       "      <td>0</td>\n",
       "      <td>0</td>\n",
       "      <td>0</td>\n",
       "      <td>0</td>\n",
       "      <td>0</td>\n",
       "    </tr>\n",
       "    <tr>\n",
       "      <th>7496</th>\n",
       "      <td>0</td>\n",
       "      <td>0</td>\n",
       "      <td>0</td>\n",
       "      <td>0</td>\n",
       "      <td>0</td>\n",
       "      <td>0</td>\n",
       "      <td>0</td>\n",
       "      <td>0</td>\n",
       "      <td>0</td>\n",
       "      <td>0</td>\n",
       "      <td>...</td>\n",
       "      <td>0</td>\n",
       "      <td>0</td>\n",
       "      <td>0</td>\n",
       "      <td>0</td>\n",
       "      <td>0</td>\n",
       "      <td>0</td>\n",
       "      <td>0</td>\n",
       "      <td>0</td>\n",
       "      <td>0</td>\n",
       "      <td>0</td>\n",
       "    </tr>\n",
       "    <tr>\n",
       "      <th>7497</th>\n",
       "      <td>0</td>\n",
       "      <td>0</td>\n",
       "      <td>0</td>\n",
       "      <td>0</td>\n",
       "      <td>0</td>\n",
       "      <td>0</td>\n",
       "      <td>0</td>\n",
       "      <td>0</td>\n",
       "      <td>0</td>\n",
       "      <td>0</td>\n",
       "      <td>...</td>\n",
       "      <td>0</td>\n",
       "      <td>0</td>\n",
       "      <td>0</td>\n",
       "      <td>0</td>\n",
       "      <td>0</td>\n",
       "      <td>0</td>\n",
       "      <td>0</td>\n",
       "      <td>0</td>\n",
       "      <td>0</td>\n",
       "      <td>0</td>\n",
       "    </tr>\n",
       "    <tr>\n",
       "      <th>7498</th>\n",
       "      <td>0</td>\n",
       "      <td>0</td>\n",
       "      <td>0</td>\n",
       "      <td>0</td>\n",
       "      <td>0</td>\n",
       "      <td>0</td>\n",
       "      <td>0</td>\n",
       "      <td>0</td>\n",
       "      <td>0</td>\n",
       "      <td>0</td>\n",
       "      <td>...</td>\n",
       "      <td>0</td>\n",
       "      <td>0</td>\n",
       "      <td>0</td>\n",
       "      <td>0</td>\n",
       "      <td>0</td>\n",
       "      <td>0</td>\n",
       "      <td>0</td>\n",
       "      <td>0</td>\n",
       "      <td>0</td>\n",
       "      <td>0</td>\n",
       "    </tr>\n",
       "    <tr>\n",
       "      <th>7499</th>\n",
       "      <td>0</td>\n",
       "      <td>0</td>\n",
       "      <td>0</td>\n",
       "      <td>0</td>\n",
       "      <td>0</td>\n",
       "      <td>0</td>\n",
       "      <td>0</td>\n",
       "      <td>0</td>\n",
       "      <td>0</td>\n",
       "      <td>0</td>\n",
       "      <td>...</td>\n",
       "      <td>0</td>\n",
       "      <td>0</td>\n",
       "      <td>0</td>\n",
       "      <td>0</td>\n",
       "      <td>0</td>\n",
       "      <td>0</td>\n",
       "      <td>0</td>\n",
       "      <td>0</td>\n",
       "      <td>0</td>\n",
       "      <td>0</td>\n",
       "    </tr>\n",
       "  </tbody>\n",
       "</table>\n",
       "<p>7500 rows × 180170 columns</p>\n",
       "</div>"
      ],
      "text/plain": [
       "      00  00 utc  00 utc post  00 utc post ama  000  000 000  \\\n",
       "0      0       0            0                0    0        0   \n",
       "1      0       0            0                0    0        0   \n",
       "2      0       0            0                0    0        0   \n",
       "3      0       0            0                0    0        0   \n",
       "4      0       0            0                0    0        0   \n",
       "...   ..     ...          ...              ...  ...      ...   \n",
       "7495   0       0            0                0    0        0   \n",
       "7496   0       0            0                0    0        0   \n",
       "7497   0       0            0                0    0        0   \n",
       "7498   0       0            0                0    0        0   \n",
       "7499   0       0            0                0    0        0   \n",
       "\n",
       "      000 000 experienced  000 000 experienced repeated  000 000 megabits  \\\n",
       "0                       0                             0                 0   \n",
       "1                       0                             0                 0   \n",
       "2                       0                             0                 0   \n",
       "3                       0                             0                 0   \n",
       "4                       0                             0                 0   \n",
       "...                   ...                           ...               ...   \n",
       "7495                    0                             0                 0   \n",
       "7496                    0                             0                 0   \n",
       "7497                    0                             0                 0   \n",
       "7498                    0                             0                 0   \n",
       "7499                    0                             0                 0   \n",
       "\n",
       "      000 000 megabits second  ...  醃肉大比拼 蠔油  醃肉大比拼 蠔油 vs  醃肉大比拼 蠔油 vs 生粉  \\\n",
       "0                           0  ...         0            0               0   \n",
       "1                           0  ...         0            0               0   \n",
       "2                           0  ...         0            0               0   \n",
       "3                           0  ...         0            0               0   \n",
       "4                           0  ...         0            0               0   \n",
       "...                       ...  ...       ...          ...             ...   \n",
       "7495                        0  ...         0            0               0   \n",
       "7496                        0  ...         0            0               0   \n",
       "7497                        0  ...         0            0               0   \n",
       "7498                        0  ...         0            0               0   \n",
       "7499                        0  ...         0            0               0   \n",
       "\n",
       "      香港傑出品牌領袖獎  香港傑出品牌領袖獎 youtube  鸡蛋炒豆腐  麻辣烫  麻辣烫 spicy  麻辣烫 spicy non  \\\n",
       "0             0                  0      0    0          0              0   \n",
       "1             0                  0      0    0          0              0   \n",
       "2             0                  0      0    0          0              0   \n",
       "3             0                  0      0    0          0              0   \n",
       "4             0                  0      0    0          0              0   \n",
       "...         ...                ...    ...  ...        ...            ...   \n",
       "7495          0                  0      0    0          0              0   \n",
       "7496          0                  0      0    0          0              0   \n",
       "7497          0                  0      0    0          0              0   \n",
       "7498          0                  0      0    0          0              0   \n",
       "7499          0                  0      0    0          0              0   \n",
       "\n",
       "      麻辣烫 spicy non spicy  \n",
       "0                       0  \n",
       "1                       0  \n",
       "2                       0  \n",
       "3                       0  \n",
       "4                       0  \n",
       "...                   ...  \n",
       "7495                    0  \n",
       "7496                    0  \n",
       "7497                    0  \n",
       "7498                    0  \n",
       "7499                    0  \n",
       "\n",
       "[7500 rows x 180170 columns]"
      ]
     },
     "execution_count": 43,
     "metadata": {},
     "output_type": "execute_result"
    }
   ],
   "source": [
    "X_train_df"
   ]
  },
  {
   "cell_type": "code",
   "execution_count": 123,
   "metadata": {},
   "outputs": [],
   "source": [
    "# got code from lesson 5.05-NLP-II\n",
    "\n",
    "# get count of top-occurring words\n",
    "\n",
    "# empty dictionary\n",
    "top_words = {}\n",
    "\n",
    "# loop through columns\n",
    "for i in X_train_df.columns:\n",
    "    # save sum of each column in dictionary\n",
    "    top_words[i] =  X_train_df[i].sum()\n",
    "    \n",
    "# top_words to dataframe sorted by highest occurance\n",
    "most_freq = pd.DataFrame(sorted(top_words.items(), key = lambda x: x[1], reverse = True))\n",
    "\n",
    "# View most frequent words dataframe\n",
    "most_freq_df = pd.DataFrame(most_freq)"
   ]
  },
  {
   "cell_type": "code",
   "execution_count": 123,
   "metadata": {},
   "outputs": [
    {
     "data": {
      "text/html": [
       "<div>\n",
       "<style scoped>\n",
       "    .dataframe tbody tr th:only-of-type {\n",
       "        vertical-align: middle;\n",
       "    }\n",
       "\n",
       "    .dataframe tbody tr th {\n",
       "        vertical-align: top;\n",
       "    }\n",
       "\n",
       "    .dataframe thead th {\n",
       "        text-align: right;\n",
       "    }\n",
       "</style>\n",
       "<table border=\"1\" class=\"dataframe\">\n",
       "  <thead>\n",
       "    <tr style=\"text-align: right;\">\n",
       "      <th></th>\n",
       "      <th>0</th>\n",
       "      <th>1</th>\n",
       "    </tr>\n",
       "  </thead>\n",
       "  <tbody>\n",
       "    <tr>\n",
       "      <th>0</th>\n",
       "      <td>new</td>\n",
       "      <td>839</td>\n",
       "    </tr>\n",
       "    <tr>\n",
       "      <th>1</th>\n",
       "      <td>study</td>\n",
       "      <td>619</td>\n",
       "    </tr>\n",
       "    <tr>\n",
       "      <th>2</th>\n",
       "      <td>covid</td>\n",
       "      <td>520</td>\n",
       "    </tr>\n",
       "    <tr>\n",
       "      <th>3</th>\n",
       "      <td>19</td>\n",
       "      <td>498</td>\n",
       "    </tr>\n",
       "    <tr>\n",
       "      <th>4</th>\n",
       "      <td>covid 19</td>\n",
       "      <td>491</td>\n",
       "    </tr>\n",
       "    <tr>\n",
       "      <th>5</th>\n",
       "      <td>scientists</td>\n",
       "      <td>274</td>\n",
       "    </tr>\n",
       "    <tr>\n",
       "      <th>6</th>\n",
       "      <td>people</td>\n",
       "      <td>245</td>\n",
       "    </tr>\n",
       "    <tr>\n",
       "      <th>7</th>\n",
       "      <td>researchers</td>\n",
       "      <td>243</td>\n",
       "    </tr>\n",
       "    <tr>\n",
       "      <th>8</th>\n",
       "      <td>new study</td>\n",
       "      <td>229</td>\n",
       "    </tr>\n",
       "    <tr>\n",
       "      <th>9</th>\n",
       "      <td>research</td>\n",
       "      <td>210</td>\n",
       "    </tr>\n",
       "  </tbody>\n",
       "</table>\n",
       "</div>"
      ],
      "text/plain": [
       "             0    1\n",
       "0          new  839\n",
       "1        study  619\n",
       "2        covid  520\n",
       "3           19  498\n",
       "4     covid 19  491\n",
       "5   scientists  274\n",
       "6       people  245\n",
       "7  researchers  243\n",
       "8    new study  229\n",
       "9     research  210"
      ]
     },
     "execution_count": 123,
     "metadata": {},
     "output_type": "execute_result"
    }
   ],
   "source": [
    "most_freq_df.head(10)"
   ]
  },
  {
   "cell_type": "code",
   "execution_count": 124,
   "metadata": {},
   "outputs": [
    {
     "data": {
      "image/png": "[encoded data removed]",
      "text/plain": [
       "<Figure size 432x288 with 1 Axes>"
      ]
     },
     "metadata": {
      "needs_background": "light"
     },
     "output_type": "display_data"
    }
   ],
   "source": [
    "# got code from lesson 5.05-NLP-II\n",
    "# visualize top 10 words\n",
    "most_freq_df.nlargest(10, 1).plot(kind = 'bar')\n",
    "plt.xticks([i for i in range(10)], [col for col in most_freq_df.nlargest(10, 1)[0]]);"
   ]
  },
  {
   "cell_type": "markdown",
   "metadata": {},
   "source": [
    "### Modeling: Logistic Regression + CountVectorizer"
   ]
  },
  {
   "cell_type": "code",
   "execution_count": 17,
   "metadata": {},
   "outputs": [],
   "source": [
    "log_r = LogisticRegression()"
   ]
  },
  {
   "cell_type": "code",
   "execution_count": 18,
   "metadata": {},
   "outputs": [
    {
     "data": {
      "text/plain": [
       "LogisticRegression()"
      ]
     },
     "execution_count": 18,
     "metadata": {},
     "output_type": "execute_result"
    }
   ],
   "source": [
    "log_r.fit(X_train_cvec, y_train)"
   ]
  },
  {
   "cell_type": "code",
   "execution_count": 19,
   "metadata": {},
   "outputs": [
    {
     "data": {
      "text/plain": [
       "0.8908"
      ]
     },
     "execution_count": 19,
     "metadata": {},
     "output_type": "execute_result"
    }
   ],
   "source": [
    "log_r.score(X_test_cvec, y_test)"
   ]
  },
  {
   "cell_type": "code",
   "execution_count": 20,
   "metadata": {},
   "outputs": [
    {
     "data": {
      "text/plain": [
       "0.9916"
      ]
     },
     "execution_count": 20,
     "metadata": {},
     "output_type": "execute_result"
    }
   ],
   "source": [
    "log_r.score(X_train_cvec, y_train)"
   ]
  },
  {
   "cell_type": "code",
   "execution_count": null,
   "metadata": {},
   "outputs": [],
   "source": [
    "log_coef_cvec_df = pd.DataFrame(data = log_r_tvec.coef_, columns=tvec.get_feature_names()).T\n",
    "log_coef_cvec_df.nlargest(10, 0)"
   ]
  },
  {
   "cell_type": "code",
   "execution_count": 60,
   "metadata": {},
   "outputs": [
    {
     "data": {
      "image/png": "[encoded data removed]",
      "text/plain": [
       "<Figure size 432x288 with 2 Axes>"
      ]
     },
     "metadata": {
      "needs_background": "light"
     },
     "output_type": "display_data"
    }
   ],
   "source": [
    "plot_confusion_matrix(log_r, X_test_cvec, y_test, cmap='Blues', values_format='d', display_labels=['Technology', 'Science']);"
   ]
  },
  {
   "cell_type": "code",
   "execution_count": null,
   "metadata": {},
   "outputs": [],
   "source": []
  },
  {
   "cell_type": "markdown",
   "metadata": {},
   "source": [
    "### Preprocessing: TfidfVectorizer"
   ]
  },
  {
   "cell_type": "code",
   "execution_count": 46,
   "metadata": {},
   "outputs": [],
   "source": [
    "tvec =TfidfVectorizer(stop_words='english')"
   ]
  },
  {
   "cell_type": "code",
   "execution_count": 47,
   "metadata": {},
   "outputs": [],
   "source": [
    "X_train_tvec = tvec.fit_transform(X_train)"
   ]
  },
  {
   "cell_type": "code",
   "execution_count": 48,
   "metadata": {},
   "outputs": [],
   "source": [
    "X_test_tvec = tvec.transform(X_test)"
   ]
  },
  {
   "cell_type": "code",
   "execution_count": 128,
   "metadata": {},
   "outputs": [
    {
     "data": {
      "text/html": [
       "<div>\n",
       "<style scoped>\n",
       "    .dataframe tbody tr th:only-of-type {\n",
       "        vertical-align: middle;\n",
       "    }\n",
       "\n",
       "    .dataframe tbody tr th {\n",
       "        vertical-align: top;\n",
       "    }\n",
       "\n",
       "    .dataframe thead th {\n",
       "        text-align: right;\n",
       "    }\n",
       "</style>\n",
       "<table border=\"1\" class=\"dataframe\">\n",
       "  <thead>\n",
       "    <tr style=\"text-align: right;\">\n",
       "      <th></th>\n",
       "      <th>00</th>\n",
       "      <th>000</th>\n",
       "      <th>0001</th>\n",
       "      <th>000gbps</th>\n",
       "      <th>000kms</th>\n",
       "      <th>000mb</th>\n",
       "      <th>000s</th>\n",
       "      <th>000x</th>\n",
       "      <th>002a</th>\n",
       "      <th>004</th>\n",
       "      <th>...</th>\n",
       "      <th>糖醋带鱼</th>\n",
       "      <th>糯米烧麦</th>\n",
       "      <th>芝麻紫菜</th>\n",
       "      <th>芹菜腐竹沙拉</th>\n",
       "      <th>蚝油捞面</th>\n",
       "      <th>蠔油</th>\n",
       "      <th>醃肉大比拼</th>\n",
       "      <th>香港傑出品牌領袖獎</th>\n",
       "      <th>鸡蛋炒豆腐</th>\n",
       "      <th>麻辣烫</th>\n",
       "    </tr>\n",
       "  </thead>\n",
       "  <tbody>\n",
       "    <tr>\n",
       "      <th>0</th>\n",
       "      <td>0.0</td>\n",
       "      <td>0.0</td>\n",
       "      <td>0.0</td>\n",
       "      <td>0.0</td>\n",
       "      <td>0.0</td>\n",
       "      <td>0.0</td>\n",
       "      <td>0.0</td>\n",
       "      <td>0.0</td>\n",
       "      <td>0.0</td>\n",
       "      <td>0.0</td>\n",
       "      <td>...</td>\n",
       "      <td>0.0</td>\n",
       "      <td>0.0</td>\n",
       "      <td>0.0</td>\n",
       "      <td>0.0</td>\n",
       "      <td>0.0</td>\n",
       "      <td>0.0</td>\n",
       "      <td>0.0</td>\n",
       "      <td>0.0</td>\n",
       "      <td>0.0</td>\n",
       "      <td>0.0</td>\n",
       "    </tr>\n",
       "    <tr>\n",
       "      <th>1</th>\n",
       "      <td>0.0</td>\n",
       "      <td>0.0</td>\n",
       "      <td>0.0</td>\n",
       "      <td>0.0</td>\n",
       "      <td>0.0</td>\n",
       "      <td>0.0</td>\n",
       "      <td>0.0</td>\n",
       "      <td>0.0</td>\n",
       "      <td>0.0</td>\n",
       "      <td>0.0</td>\n",
       "      <td>...</td>\n",
       "      <td>0.0</td>\n",
       "      <td>0.0</td>\n",
       "      <td>0.0</td>\n",
       "      <td>0.0</td>\n",
       "      <td>0.0</td>\n",
       "      <td>0.0</td>\n",
       "      <td>0.0</td>\n",
       "      <td>0.0</td>\n",
       "      <td>0.0</td>\n",
       "      <td>0.0</td>\n",
       "    </tr>\n",
       "    <tr>\n",
       "      <th>2</th>\n",
       "      <td>0.0</td>\n",
       "      <td>0.0</td>\n",
       "      <td>0.0</td>\n",
       "      <td>0.0</td>\n",
       "      <td>0.0</td>\n",
       "      <td>0.0</td>\n",
       "      <td>0.0</td>\n",
       "      <td>0.0</td>\n",
       "      <td>0.0</td>\n",
       "      <td>0.0</td>\n",
       "      <td>...</td>\n",
       "      <td>0.0</td>\n",
       "      <td>0.0</td>\n",
       "      <td>0.0</td>\n",
       "      <td>0.0</td>\n",
       "      <td>0.0</td>\n",
       "      <td>0.0</td>\n",
       "      <td>0.0</td>\n",
       "      <td>0.0</td>\n",
       "      <td>0.0</td>\n",
       "      <td>0.0</td>\n",
       "    </tr>\n",
       "    <tr>\n",
       "      <th>3</th>\n",
       "      <td>0.0</td>\n",
       "      <td>0.0</td>\n",
       "      <td>0.0</td>\n",
       "      <td>0.0</td>\n",
       "      <td>0.0</td>\n",
       "      <td>0.0</td>\n",
       "      <td>0.0</td>\n",
       "      <td>0.0</td>\n",
       "      <td>0.0</td>\n",
       "      <td>0.0</td>\n",
       "      <td>...</td>\n",
       "      <td>0.0</td>\n",
       "      <td>0.0</td>\n",
       "      <td>0.0</td>\n",
       "      <td>0.0</td>\n",
       "      <td>0.0</td>\n",
       "      <td>0.0</td>\n",
       "      <td>0.0</td>\n",
       "      <td>0.0</td>\n",
       "      <td>0.0</td>\n",
       "      <td>0.0</td>\n",
       "    </tr>\n",
       "    <tr>\n",
       "      <th>4</th>\n",
       "      <td>0.0</td>\n",
       "      <td>0.0</td>\n",
       "      <td>0.0</td>\n",
       "      <td>0.0</td>\n",
       "      <td>0.0</td>\n",
       "      <td>0.0</td>\n",
       "      <td>0.0</td>\n",
       "      <td>0.0</td>\n",
       "      <td>0.0</td>\n",
       "      <td>0.0</td>\n",
       "      <td>...</td>\n",
       "      <td>0.0</td>\n",
       "      <td>0.0</td>\n",
       "      <td>0.0</td>\n",
       "      <td>0.0</td>\n",
       "      <td>0.0</td>\n",
       "      <td>0.0</td>\n",
       "      <td>0.0</td>\n",
       "      <td>0.0</td>\n",
       "      <td>0.0</td>\n",
       "      <td>0.0</td>\n",
       "    </tr>\n",
       "  </tbody>\n",
       "</table>\n",
       "<p>5 rows × 15507 columns</p>\n",
       "</div>"
      ],
      "text/plain": [
       "    00  000  0001  000gbps  000kms  000mb  000s  000x  002a  004  ...  糖醋带鱼  \\\n",
       "0  0.0  0.0   0.0      0.0     0.0    0.0   0.0   0.0   0.0  0.0  ...   0.0   \n",
       "1  0.0  0.0   0.0      0.0     0.0    0.0   0.0   0.0   0.0  0.0  ...   0.0   \n",
       "2  0.0  0.0   0.0      0.0     0.0    0.0   0.0   0.0   0.0  0.0  ...   0.0   \n",
       "3  0.0  0.0   0.0      0.0     0.0    0.0   0.0   0.0   0.0  0.0  ...   0.0   \n",
       "4  0.0  0.0   0.0      0.0     0.0    0.0   0.0   0.0   0.0  0.0  ...   0.0   \n",
       "\n",
       "   糯米烧麦  芝麻紫菜  芹菜腐竹沙拉  蚝油捞面   蠔油  醃肉大比拼  香港傑出品牌領袖獎  鸡蛋炒豆腐  麻辣烫  \n",
       "0   0.0   0.0     0.0   0.0  0.0    0.0        0.0    0.0  0.0  \n",
       "1   0.0   0.0     0.0   0.0  0.0    0.0        0.0    0.0  0.0  \n",
       "2   0.0   0.0     0.0   0.0  0.0    0.0        0.0    0.0  0.0  \n",
       "3   0.0   0.0     0.0   0.0  0.0    0.0        0.0    0.0  0.0  \n",
       "4   0.0   0.0     0.0   0.0  0.0    0.0        0.0    0.0  0.0  \n",
       "\n",
       "[5 rows x 15507 columns]"
      ]
     },
     "execution_count": 128,
     "metadata": {},
     "output_type": "execute_result"
    }
   ],
   "source": [
    "df = pd.DataFrame(X_train_tvec.toarray(),\n",
    "                  columns=tvec.get_feature_names())\n",
    "df.head()"
   ]
  },
  {
   "cell_type": "code",
   "execution_count": 130,
   "metadata": {},
   "outputs": [
    {
     "data": {
      "text/html": [
       "<div>\n",
       "<style scoped>\n",
       "    .dataframe tbody tr th:only-of-type {\n",
       "        vertical-align: middle;\n",
       "    }\n",
       "\n",
       "    .dataframe tbody tr th {\n",
       "        vertical-align: top;\n",
       "    }\n",
       "\n",
       "    .dataframe thead th {\n",
       "        text-align: right;\n",
       "    }\n",
       "</style>\n",
       "<table border=\"1\" class=\"dataframe\">\n",
       "  <thead>\n",
       "    <tr style=\"text-align: right;\">\n",
       "      <th></th>\n",
       "      <th>0</th>\n",
       "      <th>1</th>\n",
       "    </tr>\n",
       "  </thead>\n",
       "  <tbody>\n",
       "    <tr>\n",
       "      <th>0</th>\n",
       "      <td>new</td>\n",
       "      <td>104.578218</td>\n",
       "    </tr>\n",
       "    <tr>\n",
       "      <th>1</th>\n",
       "      <td>covid</td>\n",
       "      <td>78.752342</td>\n",
       "    </tr>\n",
       "    <tr>\n",
       "      <th>2</th>\n",
       "      <td>study</td>\n",
       "      <td>76.764898</td>\n",
       "    </tr>\n",
       "    <tr>\n",
       "      <th>3</th>\n",
       "      <td>19</td>\n",
       "      <td>75.226187</td>\n",
       "    </tr>\n",
       "    <tr>\n",
       "      <th>4</th>\n",
       "      <td>apple</td>\n",
       "      <td>49.853385</td>\n",
       "    </tr>\n",
       "    <tr>\n",
       "      <th>5</th>\n",
       "      <td>scientists</td>\n",
       "      <td>47.421230</td>\n",
       "    </tr>\n",
       "    <tr>\n",
       "      <th>6</th>\n",
       "      <td>facebook</td>\n",
       "      <td>45.947849</td>\n",
       "    </tr>\n",
       "    <tr>\n",
       "      <th>7</th>\n",
       "      <td>help</td>\n",
       "      <td>44.623066</td>\n",
       "    </tr>\n",
       "    <tr>\n",
       "      <th>8</th>\n",
       "      <td>market</td>\n",
       "      <td>43.565004</td>\n",
       "    </tr>\n",
       "    <tr>\n",
       "      <th>9</th>\n",
       "      <td>google</td>\n",
       "      <td>41.038596</td>\n",
       "    </tr>\n",
       "  </tbody>\n",
       "</table>\n",
       "</div>"
      ],
      "text/plain": [
       "            0           1\n",
       "0         new  104.578218\n",
       "1       covid   78.752342\n",
       "2       study   76.764898\n",
       "3          19   75.226187\n",
       "4       apple   49.853385\n",
       "5  scientists   47.421230\n",
       "6    facebook   45.947849\n",
       "7        help   44.623066\n",
       "8      market   43.565004\n",
       "9      google   41.038596"
      ]
     },
     "execution_count": 130,
     "metadata": {},
     "output_type": "execute_result"
    }
   ],
   "source": [
    "# got code from lesson 5.05-NLP-II\n",
    "\n",
    "# get count of top-occurring words\n",
    "\n",
    "# empty dictionary\n",
    "top_words2 = {}\n",
    "\n",
    "# loop through columns\n",
    "for i in df.columns:\n",
    "    # save sum of each column in dictionary\n",
    "    top_words2[i] =  df[i].sum()\n",
    "    \n",
    "# top_words to dataframe sorted by highest occurance\n",
    "most_freq1 = pd.DataFrame(sorted(top_words2.items(), key = lambda x: x[1], reverse = True))\n",
    "\n",
    "# View most frequent words dataframe\n",
    "most_freq_df1 = pd.DataFrame(most_freq1)\n",
    "\n",
    "\n",
    "most_freq_df1.head(10)"
   ]
  },
  {
   "cell_type": "code",
   "execution_count": 131,
   "metadata": {},
   "outputs": [
    {
     "data": {
      "image/png": "[encoded data removed]",
      "text/plain": [
       "<Figure size 432x288 with 1 Axes>"
      ]
     },
     "metadata": {
      "needs_background": "light"
     },
     "output_type": "display_data"
    }
   ],
   "source": [
    "# got code from lesson 5.05-NLP-II\n",
    "# visualize top 10 words\n",
    "most_freq_df1.nlargest(10, 1).plot(kind = 'bar')\n",
    "plt.xticks([i for i in range(10)], [col for col in most_freq_df1.nlargest(10, 1)[0]]);"
   ]
  },
  {
   "cell_type": "markdown",
   "metadata": {},
   "source": [
    "### Modeling: Logistic Regression + TfidfVectorizer"
   ]
  },
  {
   "cell_type": "code",
   "execution_count": 49,
   "metadata": {},
   "outputs": [],
   "source": [
    "log_r_tvec = LogisticRegression()"
   ]
  },
  {
   "cell_type": "code",
   "execution_count": 50,
   "metadata": {},
   "outputs": [
    {
     "data": {
      "text/plain": [
       "LogisticRegression()"
      ]
     },
     "execution_count": 50,
     "metadata": {},
     "output_type": "execute_result"
    }
   ],
   "source": [
    "log_r_tvec.fit(X_train_tvec, y_train)"
   ]
  },
  {
   "cell_type": "code",
   "execution_count": 51,
   "metadata": {},
   "outputs": [
    {
     "data": {
      "text/plain": [
       "0.892"
      ]
     },
     "execution_count": 51,
     "metadata": {},
     "output_type": "execute_result"
    }
   ],
   "source": [
    "log_r_tvec.score(X_test_tvec, y_test)"
   ]
  },
  {
   "cell_type": "code",
   "execution_count": 52,
   "metadata": {},
   "outputs": [
    {
     "data": {
      "text/plain": [
       "0.9624"
      ]
     },
     "execution_count": 52,
     "metadata": {},
     "output_type": "execute_result"
    }
   ],
   "source": [
    "log_r_tvec.score(X_train_tvec, y_train)"
   ]
  },
  {
   "cell_type": "code",
   "execution_count": 53,
   "metadata": {},
   "outputs": [
    {
     "data": {
      "text/plain": [
       "array([-0.20517831])"
      ]
     },
     "execution_count": 53,
     "metadata": {},
     "output_type": "execute_result"
    }
   ],
   "source": [
    "log_r_tvec.intercept_"
   ]
  },
  {
   "cell_type": "code",
   "execution_count": 54,
   "metadata": {},
   "outputs": [
    {
     "data": {
      "text/html": [
       "<div>\n",
       "<style scoped>\n",
       "    .dataframe tbody tr th:only-of-type {\n",
       "        vertical-align: middle;\n",
       "    }\n",
       "\n",
       "    .dataframe tbody tr th {\n",
       "        vertical-align: top;\n",
       "    }\n",
       "\n",
       "    .dataframe thead th {\n",
       "        text-align: right;\n",
       "    }\n",
       "</style>\n",
       "<table border=\"1\" class=\"dataframe\">\n",
       "  <thead>\n",
       "    <tr style=\"text-align: right;\">\n",
       "      <th></th>\n",
       "      <th>0</th>\n",
       "    </tr>\n",
       "  </thead>\n",
       "  <tbody>\n",
       "    <tr>\n",
       "      <th>study</th>\n",
       "      <td>6.040987</td>\n",
       "    </tr>\n",
       "    <tr>\n",
       "      <th>shirt</th>\n",
       "      <td>5.217851</td>\n",
       "    </tr>\n",
       "    <tr>\n",
       "      <th>scientists</th>\n",
       "      <td>4.256064</td>\n",
       "    </tr>\n",
       "    <tr>\n",
       "      <th>science</th>\n",
       "      <td>3.400663</td>\n",
       "    </tr>\n",
       "    <tr>\n",
       "      <th>research</th>\n",
       "      <td>3.325377</td>\n",
       "    </tr>\n",
       "    <tr>\n",
       "      <th>researchers</th>\n",
       "      <td>3.175978</td>\n",
       "    </tr>\n",
       "    <tr>\n",
       "      <th>covid</th>\n",
       "      <td>3.050223</td>\n",
       "    </tr>\n",
       "    <tr>\n",
       "      <th>19</th>\n",
       "      <td>2.669785</td>\n",
       "    </tr>\n",
       "    <tr>\n",
       "      <th>earth</th>\n",
       "      <td>2.587976</td>\n",
       "    </tr>\n",
       "    <tr>\n",
       "      <th>brain</th>\n",
       "      <td>2.522192</td>\n",
       "    </tr>\n",
       "  </tbody>\n",
       "</table>\n",
       "</div>"
      ],
      "text/plain": [
       "                    0\n",
       "study        6.040987\n",
       "shirt        5.217851\n",
       "scientists   4.256064\n",
       "science      3.400663\n",
       "research     3.325377\n",
       "researchers  3.175978\n",
       "covid        3.050223\n",
       "19           2.669785\n",
       "earth        2.587976\n",
       "brain        2.522192"
      ]
     },
     "execution_count": 54,
     "metadata": {},
     "output_type": "execute_result"
    }
   ],
   "source": [
    "log_coef_tvec_df = pd.DataFrame(data = log_r_tvec.coef_, columns=tvec.get_feature_names()).T\n",
    "log_coef_tvec_df.nlargest(10, 0)"
   ]
  },
  {
   "cell_type": "code",
   "execution_count": 136,
   "metadata": {},
   "outputs": [
    {
     "data": {
      "image/png": "[encoded data removed]",
      "text/plain": [
       "<Figure size 432x288 with 2 Axes>"
      ]
     },
     "metadata": {
      "needs_background": "light"
     },
     "output_type": "display_data"
    }
   ],
   "source": [
    "plot_confusion_matrix(log_r_tvec, X_test_tvec, y_test, cmap='Blues', values_format='d', display_labels=['Technology', 'Science']);"
   ]
  },
  {
   "cell_type": "markdown",
   "metadata": {},
   "source": [
    "**TF-IDF had 3 less erros than the CountVectorizer when the data was put through a basic Logistic Regression model with 89.2% accuracy. It was also less overfit than when using the CountVectorizer to preprocess the data.**"
   ]
  },
  {
   "cell_type": "markdown",
   "metadata": {},
   "source": [
    "### Modeling: Naive Bayes + Count Vectorizer"
   ]
  },
  {
   "cell_type": "code",
   "execution_count": 43,
   "metadata": {},
   "outputs": [],
   "source": [
    "nbayes_cvec = MultinomialNB()"
   ]
  },
  {
   "cell_type": "code",
   "execution_count": 44,
   "metadata": {},
   "outputs": [
    {
     "data": {
      "text/plain": [
       "MultinomialNB()"
      ]
     },
     "execution_count": 44,
     "metadata": {},
     "output_type": "execute_result"
    }
   ],
   "source": [
    "nbayes_cvec.fit(X_train_cvec, y_train)"
   ]
  },
  {
   "cell_type": "code",
   "execution_count": 45,
   "metadata": {},
   "outputs": [
    {
     "data": {
      "text/plain": [
       "0.9898666666666667"
      ]
     },
     "execution_count": 45,
     "metadata": {},
     "output_type": "execute_result"
    }
   ],
   "source": [
    "nbayes_cvec.score(X_train_cvec, y_train)"
   ]
  },
  {
   "cell_type": "code",
   "execution_count": 46,
   "metadata": {},
   "outputs": [
    {
     "data": {
      "text/plain": [
       "0.8876"
      ]
     },
     "execution_count": 46,
     "metadata": {},
     "output_type": "execute_result"
    }
   ],
   "source": [
    "nbayes_cvec.score(X_test_cvec, y_test)"
   ]
  },
  {
   "cell_type": "code",
   "execution_count": 58,
   "metadata": {},
   "outputs": [
    {
     "data": {
      "image/png": "[encoded data removed]",
      "text/plain": [
       "<Figure size 432x288 with 2 Axes>"
      ]
     },
     "metadata": {
      "needs_background": "light"
     },
     "output_type": "display_data"
    }
   ],
   "source": [
    "plot_confusion_matrix(nbayes_cvec, X_test_cvec, y_test, cmap='Blues', values_format='d', display_labels=['Technology', 'Science']);"
   ]
  },
  {
   "cell_type": "markdown",
   "metadata": {},
   "source": [
    "### Modeling: Naive Bayes + TfidfVectorizer"
   ]
  },
  {
   "cell_type": "code",
   "execution_count": 53,
   "metadata": {},
   "outputs": [],
   "source": [
    "nbayes_tvec = MultinomialNB()"
   ]
  },
  {
   "cell_type": "code",
   "execution_count": 54,
   "metadata": {},
   "outputs": [
    {
     "data": {
      "text/plain": [
       "MultinomialNB()"
      ]
     },
     "execution_count": 54,
     "metadata": {},
     "output_type": "execute_result"
    }
   ],
   "source": [
    "nbayes_tvec.fit(X_train_tvec, y_train)"
   ]
  },
  {
   "cell_type": "code",
   "execution_count": 55,
   "metadata": {},
   "outputs": [
    {
     "data": {
      "text/plain": [
       "0.9581333333333333"
      ]
     },
     "execution_count": 55,
     "metadata": {},
     "output_type": "execute_result"
    }
   ],
   "source": [
    "nbayes_tvec.score(X_train_tvec, y_train)"
   ]
  },
  {
   "cell_type": "code",
   "execution_count": 56,
   "metadata": {},
   "outputs": [
    {
     "data": {
      "text/plain": [
       "0.8936"
      ]
     },
     "execution_count": 56,
     "metadata": {},
     "output_type": "execute_result"
    }
   ],
   "source": [
    "nbayes_tvec.score(X_test_tvec, y_test)"
   ]
  },
  {
   "cell_type": "code",
   "execution_count": 57,
   "metadata": {},
   "outputs": [
    {
     "data": {
      "image/png": "[encoded data removed]",
      "text/plain": [
       "<Figure size 432x288 with 2 Axes>"
      ]
     },
     "metadata": {
      "needs_background": "light"
     },
     "output_type": "display_data"
    }
   ],
   "source": [
    "plot_confusion_matrix(nbayes_tvec, X_test_tvec, y_test, cmap='Blues', values_format='d', display_labels=['Technology', 'Science']);"
   ]
  }
 ],
 "metadata": {
  "kernelspec": {
   "display_name": "Python 3",
   "language": "python",
   "name": "python3"
  },
  "language_info": {
   "codemirror_mode": {
    "name": "ipython",
    "version": 3
   },
   "file_extension": ".py",
   "mimetype": "text/x-python",
   "name": "python",
   "nbconvert_exporter": "python",
   "pygments_lexer": "ipython3",
   "version": "3.8.3"
  }
 },
 "nbformat": 4,
 "nbformat_minor": 4
}
